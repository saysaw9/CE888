{
  "nbformat": 4,
  "nbformat_minor": 0,
  "metadata": {
    "colab": {
      "name": "Untitled1.ipynb",
      "provenance": [],
      "authorship_tag": "ABX9TyMX+/NI7mHFJ1CfNNnAayl9",
      "include_colab_link": true
    },
    "kernelspec": {
      "name": "python3",
      "display_name": "Python 3"
    },
    "language_info": {
      "name": "python"
    }
  },
  "cells": [
    {
      "cell_type": "markdown",
      "metadata": {
        "id": "view-in-github",
        "colab_type": "text"
      },
      "source": [
        "<a href=\"https://colab.research.google.com/github/saysaw9/CE888/blob/master/CE888%20Reassessment.ipynb\" target=\"_parent\"><img src=\"https://colab.research.google.com/assets/colab-badge.svg\" alt=\"Open In Colab\"/></a>"
      ]
    },
    {
      "cell_type": "code",
      "execution_count": 2,
      "metadata": {
        "colab": {
          "resources": {
            "http://localhost:8080/nbextensions/google.colab/files.js": {
              "data": "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",
              "ok": true,
              "headers": [
                [
                  "content-type",
                  "application/javascript"
                ]
              ],
              "status": 200,
              "status_text": "OK"
            }
          },
          "base_uri": "https://localhost:8080/",
          "height": 73
        },
        "id": "DkGpegSfCsT_",
        "outputId": "82432668-f13b-48e4-cc89-2db26022e7d6"
      },
      "outputs": [
        {
          "output_type": "display_data",
          "data": {
            "text/plain": [
              "<IPython.core.display.HTML object>"
            ],
            "text/html": [
              "\n",
              "     <input type=\"file\" id=\"files-3343a5cb-7d0b-4ee0-bc20-1c556906d91f\" name=\"files[]\" multiple disabled\n",
              "        style=\"border:none\" />\n",
              "     <output id=\"result-3343a5cb-7d0b-4ee0-bc20-1c556906d91f\">\n",
              "      Upload widget is only available when the cell has been executed in the\n",
              "      current browser session. Please rerun this cell to enable.\n",
              "      </output>\n",
              "      <script src=\"/nbextensions/google.colab/files.js\"></script> "
            ]
          },
          "metadata": {}
        },
        {
          "output_type": "stream",
          "name": "stdout",
          "text": [
            "Saving csv_result-bone-marrow.csv to csv_result-bone-marrow.csv\n"
          ]
        }
      ],
      "source": [
        "#####Important Libraries\n",
        "import numpy as np\n",
        "import pandas as pd\n",
        "import matplotlib.pyplot as plt\n",
        "import seaborn as sns\n",
        "import plotly.express as px\n",
        "from google.colab import files\n",
        "import io\n",
        "\n",
        "data = files.upload()\n"
      ]
    },
    {
      "cell_type": "code",
      "source": [
        "#Importing Dataset\n",
        "df = pd.read_csv(io.StringIO(data['csv_result-bone-marrow.csv'].decode('utf-8')))\n",
        "df.head()"
      ],
      "metadata": {
        "colab": {
          "base_uri": "https://localhost:8080/",
          "height": 297
        },
        "id": "ccZxD3n5CuYf",
        "outputId": "d4c4b31f-5dc5-42c6-8cd0-2195617944aa"
      },
      "execution_count": 3,
      "outputs": [
        {
          "output_type": "execute_result",
          "data": {
            "text/plain": [
              "   id  donor_age donor_age_below_35 donor_ABO donor_CMV  recipient_age  \\\n",
              "0   1  22.830137                yes         A   present            9.6   \n",
              "1   2  23.342466                yes         B    absent            4.0   \n",
              "2   3  26.394521                yes         B    absent            6.6   \n",
              "3   4  39.684932                 no         A   present           18.1   \n",
              "4   5  33.358904                yes         A    absent            1.3   \n",
              "\n",
              "  recipient_age_below_10 recipient_age_int recipient_gender  \\\n",
              "0                    yes              5_10             male   \n",
              "1                    yes               0_5             male   \n",
              "2                    yes              5_10             male   \n",
              "3                     no             10_20           female   \n",
              "4                    yes               0_5           female   \n",
              "\n",
              "  recipient_body_mass  ... CD3_to_CD34_ratio ANC_recovery PLT_recovery  \\\n",
              "0                35.0  ...           1.33876         19.0         51.0   \n",
              "1                20.6  ...         11.078295         16.0         37.0   \n",
              "2                23.4  ...          19.01323         23.0         20.0   \n",
              "3                50.0  ...         29.481647         23.0         29.0   \n",
              "4                 9.0  ...          3.972255         14.0         14.0   \n",
              "\n",
              "  acute_GvHD_II_III_IV acute_GvHD_III_IV time_to_acute_GvHD_III_IV  \\\n",
              "0                  yes               yes                      32.0   \n",
              "1                  yes                no                 1000000.0   \n",
              "2                  yes                no                 1000000.0   \n",
              "3                  yes               yes                      19.0   \n",
              "4                   no                no                 1000000.0   \n",
              "\n",
              "  extensive_chronic_GvHD relapse survival_time survival_status  \n",
              "0                     no      no         999.0               0  \n",
              "1                     no     yes         163.0               1  \n",
              "2                     no     yes         435.0               1  \n",
              "3                      ?      no          53.0               1  \n",
              "4                     no      no        2043.0               0  \n",
              "\n",
              "[5 rows x 38 columns]"
            ],
            "text/html": [
              "\n",
              "  <div id=\"df-356809ac-3cc8-4522-9e68-93eba594dd0b\">\n",
              "    <div class=\"colab-df-container\">\n",
              "      <div>\n",
              "<style scoped>\n",
              "    .dataframe tbody tr th:only-of-type {\n",
              "        vertical-align: middle;\n",
              "    }\n",
              "\n",
              "    .dataframe tbody tr th {\n",
              "        vertical-align: top;\n",
              "    }\n",
              "\n",
              "    .dataframe thead th {\n",
              "        text-align: right;\n",
              "    }\n",
              "</style>\n",
              "<table border=\"1\" class=\"dataframe\">\n",
              "  <thead>\n",
              "    <tr style=\"text-align: right;\">\n",
              "      <th></th>\n",
              "      <th>id</th>\n",
              "      <th>donor_age</th>\n",
              "      <th>donor_age_below_35</th>\n",
              "      <th>donor_ABO</th>\n",
              "      <th>donor_CMV</th>\n",
              "      <th>recipient_age</th>\n",
              "      <th>recipient_age_below_10</th>\n",
              "      <th>recipient_age_int</th>\n",
              "      <th>recipient_gender</th>\n",
              "      <th>recipient_body_mass</th>\n",
              "      <th>...</th>\n",
              "      <th>CD3_to_CD34_ratio</th>\n",
              "      <th>ANC_recovery</th>\n",
              "      <th>PLT_recovery</th>\n",
              "      <th>acute_GvHD_II_III_IV</th>\n",
              "      <th>acute_GvHD_III_IV</th>\n",
              "      <th>time_to_acute_GvHD_III_IV</th>\n",
              "      <th>extensive_chronic_GvHD</th>\n",
              "      <th>relapse</th>\n",
              "      <th>survival_time</th>\n",
              "      <th>survival_status</th>\n",
              "    </tr>\n",
              "  </thead>\n",
              "  <tbody>\n",
              "    <tr>\n",
              "      <th>0</th>\n",
              "      <td>1</td>\n",
              "      <td>22.830137</td>\n",
              "      <td>yes</td>\n",
              "      <td>A</td>\n",
              "      <td>present</td>\n",
              "      <td>9.6</td>\n",
              "      <td>yes</td>\n",
              "      <td>5_10</td>\n",
              "      <td>male</td>\n",
              "      <td>35.0</td>\n",
              "      <td>...</td>\n",
              "      <td>1.33876</td>\n",
              "      <td>19.0</td>\n",
              "      <td>51.0</td>\n",
              "      <td>yes</td>\n",
              "      <td>yes</td>\n",
              "      <td>32.0</td>\n",
              "      <td>no</td>\n",
              "      <td>no</td>\n",
              "      <td>999.0</td>\n",
              "      <td>0</td>\n",
              "    </tr>\n",
              "    <tr>\n",
              "      <th>1</th>\n",
              "      <td>2</td>\n",
              "      <td>23.342466</td>\n",
              "      <td>yes</td>\n",
              "      <td>B</td>\n",
              "      <td>absent</td>\n",
              "      <td>4.0</td>\n",
              "      <td>yes</td>\n",
              "      <td>0_5</td>\n",
              "      <td>male</td>\n",
              "      <td>20.6</td>\n",
              "      <td>...</td>\n",
              "      <td>11.078295</td>\n",
              "      <td>16.0</td>\n",
              "      <td>37.0</td>\n",
              "      <td>yes</td>\n",
              "      <td>no</td>\n",
              "      <td>1000000.0</td>\n",
              "      <td>no</td>\n",
              "      <td>yes</td>\n",
              "      <td>163.0</td>\n",
              "      <td>1</td>\n",
              "    </tr>\n",
              "    <tr>\n",
              "      <th>2</th>\n",
              "      <td>3</td>\n",
              "      <td>26.394521</td>\n",
              "      <td>yes</td>\n",
              "      <td>B</td>\n",
              "      <td>absent</td>\n",
              "      <td>6.6</td>\n",
              "      <td>yes</td>\n",
              "      <td>5_10</td>\n",
              "      <td>male</td>\n",
              "      <td>23.4</td>\n",
              "      <td>...</td>\n",
              "      <td>19.01323</td>\n",
              "      <td>23.0</td>\n",
              "      <td>20.0</td>\n",
              "      <td>yes</td>\n",
              "      <td>no</td>\n",
              "      <td>1000000.0</td>\n",
              "      <td>no</td>\n",
              "      <td>yes</td>\n",
              "      <td>435.0</td>\n",
              "      <td>1</td>\n",
              "    </tr>\n",
              "    <tr>\n",
              "      <th>3</th>\n",
              "      <td>4</td>\n",
              "      <td>39.684932</td>\n",
              "      <td>no</td>\n",
              "      <td>A</td>\n",
              "      <td>present</td>\n",
              "      <td>18.1</td>\n",
              "      <td>no</td>\n",
              "      <td>10_20</td>\n",
              "      <td>female</td>\n",
              "      <td>50.0</td>\n",
              "      <td>...</td>\n",
              "      <td>29.481647</td>\n",
              "      <td>23.0</td>\n",
              "      <td>29.0</td>\n",
              "      <td>yes</td>\n",
              "      <td>yes</td>\n",
              "      <td>19.0</td>\n",
              "      <td>?</td>\n",
              "      <td>no</td>\n",
              "      <td>53.0</td>\n",
              "      <td>1</td>\n",
              "    </tr>\n",
              "    <tr>\n",
              "      <th>4</th>\n",
              "      <td>5</td>\n",
              "      <td>33.358904</td>\n",
              "      <td>yes</td>\n",
              "      <td>A</td>\n",
              "      <td>absent</td>\n",
              "      <td>1.3</td>\n",
              "      <td>yes</td>\n",
              "      <td>0_5</td>\n",
              "      <td>female</td>\n",
              "      <td>9.0</td>\n",
              "      <td>...</td>\n",
              "      <td>3.972255</td>\n",
              "      <td>14.0</td>\n",
              "      <td>14.0</td>\n",
              "      <td>no</td>\n",
              "      <td>no</td>\n",
              "      <td>1000000.0</td>\n",
              "      <td>no</td>\n",
              "      <td>no</td>\n",
              "      <td>2043.0</td>\n",
              "      <td>0</td>\n",
              "    </tr>\n",
              "  </tbody>\n",
              "</table>\n",
              "<p>5 rows × 38 columns</p>\n",
              "</div>\n",
              "      <button class=\"colab-df-convert\" onclick=\"convertToInteractive('df-356809ac-3cc8-4522-9e68-93eba594dd0b')\"\n",
              "              title=\"Convert this dataframe to an interactive table.\"\n",
              "              style=\"display:none;\">\n",
              "        \n",
              "  <svg xmlns=\"http://www.w3.org/2000/svg\" height=\"24px\"viewBox=\"0 0 24 24\"\n",
              "       width=\"24px\">\n",
              "    <path d=\"M0 0h24v24H0V0z\" fill=\"none\"/>\n",
              "    <path d=\"M18.56 5.44l.94 2.06.94-2.06 2.06-.94-2.06-.94-.94-2.06-.94 2.06-2.06.94zm-11 1L8.5 8.5l.94-2.06 2.06-.94-2.06-.94L8.5 2.5l-.94 2.06-2.06.94zm10 10l.94 2.06.94-2.06 2.06-.94-2.06-.94-.94-2.06-.94 2.06-2.06.94z\"/><path d=\"M17.41 7.96l-1.37-1.37c-.4-.4-.92-.59-1.43-.59-.52 0-1.04.2-1.43.59L10.3 9.45l-7.72 7.72c-.78.78-.78 2.05 0 2.83L4 21.41c.39.39.9.59 1.41.59.51 0 1.02-.2 1.41-.59l7.78-7.78 2.81-2.81c.8-.78.8-2.07 0-2.86zM5.41 20L4 18.59l7.72-7.72 1.47 1.35L5.41 20z\"/>\n",
              "  </svg>\n",
              "      </button>\n",
              "      \n",
              "  <style>\n",
              "    .colab-df-container {\n",
              "      display:flex;\n",
              "      flex-wrap:wrap;\n",
              "      gap: 12px;\n",
              "    }\n",
              "\n",
              "    .colab-df-convert {\n",
              "      background-color: #E8F0FE;\n",
              "      border: none;\n",
              "      border-radius: 50%;\n",
              "      cursor: pointer;\n",
              "      display: none;\n",
              "      fill: #1967D2;\n",
              "      height: 32px;\n",
              "      padding: 0 0 0 0;\n",
              "      width: 32px;\n",
              "    }\n",
              "\n",
              "    .colab-df-convert:hover {\n",
              "      background-color: #E2EBFA;\n",
              "      box-shadow: 0px 1px 2px rgba(60, 64, 67, 0.3), 0px 1px 3px 1px rgba(60, 64, 67, 0.15);\n",
              "      fill: #174EA6;\n",
              "    }\n",
              "\n",
              "    [theme=dark] .colab-df-convert {\n",
              "      background-color: #3B4455;\n",
              "      fill: #D2E3FC;\n",
              "    }\n",
              "\n",
              "    [theme=dark] .colab-df-convert:hover {\n",
              "      background-color: #434B5C;\n",
              "      box-shadow: 0px 1px 3px 1px rgba(0, 0, 0, 0.15);\n",
              "      filter: drop-shadow(0px 1px 2px rgba(0, 0, 0, 0.3));\n",
              "      fill: #FFFFFF;\n",
              "    }\n",
              "  </style>\n",
              "\n",
              "      <script>\n",
              "        const buttonEl =\n",
              "          document.querySelector('#df-356809ac-3cc8-4522-9e68-93eba594dd0b button.colab-df-convert');\n",
              "        buttonEl.style.display =\n",
              "          google.colab.kernel.accessAllowed ? 'block' : 'none';\n",
              "\n",
              "        async function convertToInteractive(key) {\n",
              "          const element = document.querySelector('#df-356809ac-3cc8-4522-9e68-93eba594dd0b');\n",
              "          const dataTable =\n",
              "            await google.colab.kernel.invokeFunction('convertToInteractive',\n",
              "                                                     [key], {});\n",
              "          if (!dataTable) return;\n",
              "\n",
              "          const docLinkHtml = 'Like what you see? Visit the ' +\n",
              "            '<a target=\"_blank\" href=https://colab.research.google.com/notebooks/data_table.ipynb>data table notebook</a>'\n",
              "            + ' to learn more about interactive tables.';\n",
              "          element.innerHTML = '';\n",
              "          dataTable['output_type'] = 'display_data';\n",
              "          await google.colab.output.renderOutput(dataTable, element);\n",
              "          const docLink = document.createElement('div');\n",
              "          docLink.innerHTML = docLinkHtml;\n",
              "          element.appendChild(docLink);\n",
              "        }\n",
              "      </script>\n",
              "    </div>\n",
              "  </div>\n",
              "  "
            ]
          },
          "metadata": {},
          "execution_count": 3
        }
      ]
    },
    {
      "cell_type": "code",
      "source": [
        "df.dtypes"
      ],
      "metadata": {
        "colab": {
          "base_uri": "https://localhost:8080/"
        },
        "id": "sgkSdol6HeX0",
        "outputId": "1fccb9a8-5146-4924-a565-a92b90c3bf15"
      },
      "execution_count": 4,
      "outputs": [
        {
          "output_type": "execute_result",
          "data": {
            "text/plain": [
              "id                             int64\n",
              "donor_age                    float64\n",
              "donor_age_below_35            object\n",
              "donor_ABO                     object\n",
              "donor_CMV                     object\n",
              "recipient_age                float64\n",
              "recipient_age_below_10        object\n",
              "recipient_age_int             object\n",
              "recipient_gender              object\n",
              "recipient_body_mass           object\n",
              "recipient_ABO                 object\n",
              "recipient_rh                  object\n",
              "recipient_CMV                 object\n",
              "disease                       object\n",
              "disease_group                 object\n",
              "gender_match                  object\n",
              "ABO_match                     object\n",
              "CMV_status                    object\n",
              "HLA_match                     object\n",
              "HLA_mismatch                  object\n",
              "antigen                       object\n",
              "allel                         object\n",
              "HLA_group_1                   object\n",
              "risk_group                    object\n",
              "stem_cell_source              object\n",
              "tx_post_relapse               object\n",
              "CD34_x1e6_per_kg             float64\n",
              "CD3_x1e8_per_kg               object\n",
              "CD3_to_CD34_ratio             object\n",
              "ANC_recovery                 float64\n",
              "PLT_recovery                 float64\n",
              "acute_GvHD_II_III_IV          object\n",
              "acute_GvHD_III_IV             object\n",
              "time_to_acute_GvHD_III_IV    float64\n",
              "extensive_chronic_GvHD        object\n",
              "relapse                       object\n",
              "survival_time                float64\n",
              "survival_status                int64\n",
              "dtype: object"
            ]
          },
          "metadata": {},
          "execution_count": 4
        }
      ]
    },
    {
      "cell_type": "code",
      "source": [
        "df.shape"
      ],
      "metadata": {
        "colab": {
          "base_uri": "https://localhost:8080/"
        },
        "id": "37KhGaTFNQh7",
        "outputId": "3cd81396-d484-4e16-c6b6-24a51afa430c"
      },
      "execution_count": 5,
      "outputs": [
        {
          "output_type": "execute_result",
          "data": {
            "text/plain": [
              "(187, 38)"
            ]
          },
          "metadata": {},
          "execution_count": 5
        }
      ]
    },
    {
      "cell_type": "code",
      "source": [
        "df.columns"
      ],
      "metadata": {
        "colab": {
          "base_uri": "https://localhost:8080/"
        },
        "id": "MuubiqfqNVpP",
        "outputId": "07b2c754-79d7-49d6-a4a7-2279d6c5f7b9"
      },
      "execution_count": 6,
      "outputs": [
        {
          "output_type": "execute_result",
          "data": {
            "text/plain": [
              "Index(['id', 'donor_age', 'donor_age_below_35', 'donor_ABO', 'donor_CMV',\n",
              "       'recipient_age', 'recipient_age_below_10', 'recipient_age_int',\n",
              "       'recipient_gender', 'recipient_body_mass', 'recipient_ABO',\n",
              "       'recipient_rh', 'recipient_CMV', 'disease', 'disease_group',\n",
              "       'gender_match', 'ABO_match', 'CMV_status', 'HLA_match', 'HLA_mismatch',\n",
              "       'antigen', 'allel', 'HLA_group_1', 'risk_group', 'stem_cell_source',\n",
              "       'tx_post_relapse', 'CD34_x1e6_per_kg', 'CD3_x1e8_per_kg',\n",
              "       'CD3_to_CD34_ratio', 'ANC_recovery', 'PLT_recovery',\n",
              "       'acute_GvHD_II_III_IV', 'acute_GvHD_III_IV',\n",
              "       'time_to_acute_GvHD_III_IV', 'extensive_chronic_GvHD', 'relapse',\n",
              "       'survival_time', 'survival_status'],\n",
              "      dtype='object')"
            ]
          },
          "metadata": {},
          "execution_count": 6
        }
      ]
    },
    {
      "cell_type": "code",
      "source": [
        "df.describe()"
      ],
      "metadata": {
        "colab": {
          "base_uri": "https://localhost:8080/",
          "height": 297
        },
        "id": "-LAyV1a-Nbgm",
        "outputId": "87ef5994-287a-4153-bdb0-92dac282e29a"
      },
      "execution_count": 7,
      "outputs": [
        {
          "output_type": "execute_result",
          "data": {
            "text/plain": [
              "               id   donor_age  recipient_age  CD34_x1e6_per_kg  \\\n",
              "count  187.000000  187.000000     187.000000        187.000000   \n",
              "mean    94.000000   33.472068       9.931551         11.891781   \n",
              "std     54.126395    8.271826       5.305639          9.914386   \n",
              "min      1.000000   18.646575       0.600000          0.790000   \n",
              "25%     47.500000   27.039726       5.050000          5.350000   \n",
              "50%     94.000000   33.550685       9.600000          9.720000   \n",
              "75%    140.500000   40.117809      14.050000         15.415000   \n",
              "max    187.000000   55.553425      20.200000         57.780000   \n",
              "\n",
              "         ANC_recovery    PLT_recovery  time_to_acute_GvHD_III_IV  \\\n",
              "count      187.000000      187.000000                 187.000000   \n",
              "mean     26752.866310    90937.919786              775408.042781   \n",
              "std     161747.200525   288242.407688              418425.252689   \n",
              "min          9.000000        9.000000                  10.000000   \n",
              "25%         13.000000       16.000000             1000000.000000   \n",
              "50%         15.000000       21.000000             1000000.000000   \n",
              "75%         17.000000       37.000000             1000000.000000   \n",
              "max    1000000.000000  1000000.000000             1000000.000000   \n",
              "\n",
              "       survival_time  survival_status  \n",
              "count     187.000000       187.000000  \n",
              "mean      938.743316         0.454545  \n",
              "std       849.589495         0.499266  \n",
              "min         6.000000         0.000000  \n",
              "25%       168.500000         0.000000  \n",
              "50%       676.000000         0.000000  \n",
              "75%      1604.000000         1.000000  \n",
              "max      3364.000000         1.000000  "
            ],
            "text/html": [
              "\n",
              "  <div id=\"df-fe796c51-e24c-48d6-b064-fc6a3463ba40\">\n",
              "    <div class=\"colab-df-container\">\n",
              "      <div>\n",
              "<style scoped>\n",
              "    .dataframe tbody tr th:only-of-type {\n",
              "        vertical-align: middle;\n",
              "    }\n",
              "\n",
              "    .dataframe tbody tr th {\n",
              "        vertical-align: top;\n",
              "    }\n",
              "\n",
              "    .dataframe thead th {\n",
              "        text-align: right;\n",
              "    }\n",
              "</style>\n",
              "<table border=\"1\" class=\"dataframe\">\n",
              "  <thead>\n",
              "    <tr style=\"text-align: right;\">\n",
              "      <th></th>\n",
              "      <th>id</th>\n",
              "      <th>donor_age</th>\n",
              "      <th>recipient_age</th>\n",
              "      <th>CD34_x1e6_per_kg</th>\n",
              "      <th>ANC_recovery</th>\n",
              "      <th>PLT_recovery</th>\n",
              "      <th>time_to_acute_GvHD_III_IV</th>\n",
              "      <th>survival_time</th>\n",
              "      <th>survival_status</th>\n",
              "    </tr>\n",
              "  </thead>\n",
              "  <tbody>\n",
              "    <tr>\n",
              "      <th>count</th>\n",
              "      <td>187.000000</td>\n",
              "      <td>187.000000</td>\n",
              "      <td>187.000000</td>\n",
              "      <td>187.000000</td>\n",
              "      <td>187.000000</td>\n",
              "      <td>187.000000</td>\n",
              "      <td>187.000000</td>\n",
              "      <td>187.000000</td>\n",
              "      <td>187.000000</td>\n",
              "    </tr>\n",
              "    <tr>\n",
              "      <th>mean</th>\n",
              "      <td>94.000000</td>\n",
              "      <td>33.472068</td>\n",
              "      <td>9.931551</td>\n",
              "      <td>11.891781</td>\n",
              "      <td>26752.866310</td>\n",
              "      <td>90937.919786</td>\n",
              "      <td>775408.042781</td>\n",
              "      <td>938.743316</td>\n",
              "      <td>0.454545</td>\n",
              "    </tr>\n",
              "    <tr>\n",
              "      <th>std</th>\n",
              "      <td>54.126395</td>\n",
              "      <td>8.271826</td>\n",
              "      <td>5.305639</td>\n",
              "      <td>9.914386</td>\n",
              "      <td>161747.200525</td>\n",
              "      <td>288242.407688</td>\n",
              "      <td>418425.252689</td>\n",
              "      <td>849.589495</td>\n",
              "      <td>0.499266</td>\n",
              "    </tr>\n",
              "    <tr>\n",
              "      <th>min</th>\n",
              "      <td>1.000000</td>\n",
              "      <td>18.646575</td>\n",
              "      <td>0.600000</td>\n",
              "      <td>0.790000</td>\n",
              "      <td>9.000000</td>\n",
              "      <td>9.000000</td>\n",
              "      <td>10.000000</td>\n",
              "      <td>6.000000</td>\n",
              "      <td>0.000000</td>\n",
              "    </tr>\n",
              "    <tr>\n",
              "      <th>25%</th>\n",
              "      <td>47.500000</td>\n",
              "      <td>27.039726</td>\n",
              "      <td>5.050000</td>\n",
              "      <td>5.350000</td>\n",
              "      <td>13.000000</td>\n",
              "      <td>16.000000</td>\n",
              "      <td>1000000.000000</td>\n",
              "      <td>168.500000</td>\n",
              "      <td>0.000000</td>\n",
              "    </tr>\n",
              "    <tr>\n",
              "      <th>50%</th>\n",
              "      <td>94.000000</td>\n",
              "      <td>33.550685</td>\n",
              "      <td>9.600000</td>\n",
              "      <td>9.720000</td>\n",
              "      <td>15.000000</td>\n",
              "      <td>21.000000</td>\n",
              "      <td>1000000.000000</td>\n",
              "      <td>676.000000</td>\n",
              "      <td>0.000000</td>\n",
              "    </tr>\n",
              "    <tr>\n",
              "      <th>75%</th>\n",
              "      <td>140.500000</td>\n",
              "      <td>40.117809</td>\n",
              "      <td>14.050000</td>\n",
              "      <td>15.415000</td>\n",
              "      <td>17.000000</td>\n",
              "      <td>37.000000</td>\n",
              "      <td>1000000.000000</td>\n",
              "      <td>1604.000000</td>\n",
              "      <td>1.000000</td>\n",
              "    </tr>\n",
              "    <tr>\n",
              "      <th>max</th>\n",
              "      <td>187.000000</td>\n",
              "      <td>55.553425</td>\n",
              "      <td>20.200000</td>\n",
              "      <td>57.780000</td>\n",
              "      <td>1000000.000000</td>\n",
              "      <td>1000000.000000</td>\n",
              "      <td>1000000.000000</td>\n",
              "      <td>3364.000000</td>\n",
              "      <td>1.000000</td>\n",
              "    </tr>\n",
              "  </tbody>\n",
              "</table>\n",
              "</div>\n",
              "      <button class=\"colab-df-convert\" onclick=\"convertToInteractive('df-fe796c51-e24c-48d6-b064-fc6a3463ba40')\"\n",
              "              title=\"Convert this dataframe to an interactive table.\"\n",
              "              style=\"display:none;\">\n",
              "        \n",
              "  <svg xmlns=\"http://www.w3.org/2000/svg\" height=\"24px\"viewBox=\"0 0 24 24\"\n",
              "       width=\"24px\">\n",
              "    <path d=\"M0 0h24v24H0V0z\" fill=\"none\"/>\n",
              "    <path d=\"M18.56 5.44l.94 2.06.94-2.06 2.06-.94-2.06-.94-.94-2.06-.94 2.06-2.06.94zm-11 1L8.5 8.5l.94-2.06 2.06-.94-2.06-.94L8.5 2.5l-.94 2.06-2.06.94zm10 10l.94 2.06.94-2.06 2.06-.94-2.06-.94-.94-2.06-.94 2.06-2.06.94z\"/><path d=\"M17.41 7.96l-1.37-1.37c-.4-.4-.92-.59-1.43-.59-.52 0-1.04.2-1.43.59L10.3 9.45l-7.72 7.72c-.78.78-.78 2.05 0 2.83L4 21.41c.39.39.9.59 1.41.59.51 0 1.02-.2 1.41-.59l7.78-7.78 2.81-2.81c.8-.78.8-2.07 0-2.86zM5.41 20L4 18.59l7.72-7.72 1.47 1.35L5.41 20z\"/>\n",
              "  </svg>\n",
              "      </button>\n",
              "      \n",
              "  <style>\n",
              "    .colab-df-container {\n",
              "      display:flex;\n",
              "      flex-wrap:wrap;\n",
              "      gap: 12px;\n",
              "    }\n",
              "\n",
              "    .colab-df-convert {\n",
              "      background-color: #E8F0FE;\n",
              "      border: none;\n",
              "      border-radius: 50%;\n",
              "      cursor: pointer;\n",
              "      display: none;\n",
              "      fill: #1967D2;\n",
              "      height: 32px;\n",
              "      padding: 0 0 0 0;\n",
              "      width: 32px;\n",
              "    }\n",
              "\n",
              "    .colab-df-convert:hover {\n",
              "      background-color: #E2EBFA;\n",
              "      box-shadow: 0px 1px 2px rgba(60, 64, 67, 0.3), 0px 1px 3px 1px rgba(60, 64, 67, 0.15);\n",
              "      fill: #174EA6;\n",
              "    }\n",
              "\n",
              "    [theme=dark] .colab-df-convert {\n",
              "      background-color: #3B4455;\n",
              "      fill: #D2E3FC;\n",
              "    }\n",
              "\n",
              "    [theme=dark] .colab-df-convert:hover {\n",
              "      background-color: #434B5C;\n",
              "      box-shadow: 0px 1px 3px 1px rgba(0, 0, 0, 0.15);\n",
              "      filter: drop-shadow(0px 1px 2px rgba(0, 0, 0, 0.3));\n",
              "      fill: #FFFFFF;\n",
              "    }\n",
              "  </style>\n",
              "\n",
              "      <script>\n",
              "        const buttonEl =\n",
              "          document.querySelector('#df-fe796c51-e24c-48d6-b064-fc6a3463ba40 button.colab-df-convert');\n",
              "        buttonEl.style.display =\n",
              "          google.colab.kernel.accessAllowed ? 'block' : 'none';\n",
              "\n",
              "        async function convertToInteractive(key) {\n",
              "          const element = document.querySelector('#df-fe796c51-e24c-48d6-b064-fc6a3463ba40');\n",
              "          const dataTable =\n",
              "            await google.colab.kernel.invokeFunction('convertToInteractive',\n",
              "                                                     [key], {});\n",
              "          if (!dataTable) return;\n",
              "\n",
              "          const docLinkHtml = 'Like what you see? Visit the ' +\n",
              "            '<a target=\"_blank\" href=https://colab.research.google.com/notebooks/data_table.ipynb>data table notebook</a>'\n",
              "            + ' to learn more about interactive tables.';\n",
              "          element.innerHTML = '';\n",
              "          dataTable['output_type'] = 'display_data';\n",
              "          await google.colab.output.renderOutput(dataTable, element);\n",
              "          const docLink = document.createElement('div');\n",
              "          docLink.innerHTML = docLinkHtml;\n",
              "          element.appendChild(docLink);\n",
              "        }\n",
              "      </script>\n",
              "    </div>\n",
              "  </div>\n",
              "  "
            ]
          },
          "metadata": {},
          "execution_count": 7
        }
      ]
    },
    {
      "cell_type": "code",
      "source": [
        "df.drop(['id','recipient_age_below_10','recipient_age_int','gender_match','HLA_mismatch','antigen','acute_GvHD_II_III_IV','acute_GvHD_III_IV'],axis=1, inplace=True)\n"
      ],
      "metadata": {
        "id": "1JUzGHgqNh9q"
      },
      "execution_count": 8,
      "outputs": []
    },
    {
      "cell_type": "code",
      "source": [
        "df"
      ],
      "metadata": {
        "colab": {
          "base_uri": "https://localhost:8080/",
          "height": 483
        },
        "id": "wrFQmq88OjDF",
        "outputId": "3fe642bd-bf1e-4ae5-f58b-e2e7858fce4f"
      },
      "execution_count": 9,
      "outputs": [
        {
          "output_type": "execute_result",
          "data": {
            "text/plain": [
              "     donor_age donor_age_below_35 donor_ABO donor_CMV  recipient_age  \\\n",
              "0    22.830137                yes         A   present            9.6   \n",
              "1    23.342466                yes         B    absent            4.0   \n",
              "2    26.394521                yes         B    absent            6.6   \n",
              "3    39.684932                 no         A   present           18.1   \n",
              "4    33.358904                yes         A    absent            1.3   \n",
              "..         ...                ...       ...       ...            ...   \n",
              "182  37.575342                 no         A   present           12.9   \n",
              "183  22.895890                yes         A    absent           13.9   \n",
              "184  27.347945                yes         A   present           10.4   \n",
              "185  27.780822                yes         A    absent            8.0   \n",
              "186  55.553425                 no         A   present            9.5   \n",
              "\n",
              "    recipient_gender recipient_body_mass recipient_ABO recipient_rh  \\\n",
              "0               male                35.0             A         plus   \n",
              "1               male                20.6             B         plus   \n",
              "2               male                23.4             B         plus   \n",
              "3             female                50.0            AB         plus   \n",
              "4             female                 9.0            AB        minus   \n",
              "..               ...                 ...           ...          ...   \n",
              "182             male                44.0             A        minus   \n",
              "183           female                44.5             0         plus   \n",
              "184           female                33.0             B         plus   \n",
              "185             male                24.0             0         plus   \n",
              "186             male                37.0            AB         plus   \n",
              "\n",
              "    recipient_CMV  ... CD34_x1e6_per_kg CD3_x1e8_per_kg CD3_to_CD34_ratio  \\\n",
              "0         present  ...             7.20            5.38           1.33876   \n",
              "1          absent  ...             4.50            0.41         11.078295   \n",
              "2         present  ...             7.94            0.42          19.01323   \n",
              "3          absent  ...             4.25            0.14         29.481647   \n",
              "4         present  ...            51.85           13.05          3.972255   \n",
              "..            ...  ...              ...             ...               ...   \n",
              "182       present  ...            11.08            4.39           2.52275   \n",
              "183       present  ...             4.64            4.47          1.038858   \n",
              "184       present  ...             7.73            4.73          1.635559   \n",
              "185        absent  ...            15.41            1.91           8.07777   \n",
              "186        absent  ...             9.91           10.45          0.948135   \n",
              "\n",
              "    ANC_recovery PLT_recovery time_to_acute_GvHD_III_IV  \\\n",
              "0           19.0         51.0                      32.0   \n",
              "1           16.0         37.0                 1000000.0   \n",
              "2           23.0         20.0                 1000000.0   \n",
              "3           23.0         29.0                      19.0   \n",
              "4           14.0         14.0                 1000000.0   \n",
              "..           ...          ...                       ...   \n",
              "182         15.0         22.0                      16.0   \n",
              "183         12.0         30.0                 1000000.0   \n",
              "184         16.0         16.0                 1000000.0   \n",
              "185         13.0         14.0                      54.0   \n",
              "186         18.0         20.0                 1000000.0   \n",
              "\n",
              "    extensive_chronic_GvHD relapse survival_time survival_status  \n",
              "0                       no      no         999.0               0  \n",
              "1                       no     yes         163.0               1  \n",
              "2                       no     yes         435.0               1  \n",
              "3                        ?      no          53.0               1  \n",
              "4                       no      no        2043.0               0  \n",
              "..                     ...     ...           ...             ...  \n",
              "182                     no     yes         385.0               1  \n",
              "183                     no      no         634.0               1  \n",
              "184                     no      no        1895.0               0  \n",
              "185                    yes      no         382.0               1  \n",
              "186                     no      no        1109.0               0  \n",
              "\n",
              "[187 rows x 30 columns]"
            ],
            "text/html": [
              "\n",
              "  <div id=\"df-0c831fdb-be4d-4354-b5c5-f318f5286215\">\n",
              "    <div class=\"colab-df-container\">\n",
              "      <div>\n",
              "<style scoped>\n",
              "    .dataframe tbody tr th:only-of-type {\n",
              "        vertical-align: middle;\n",
              "    }\n",
              "\n",
              "    .dataframe tbody tr th {\n",
              "        vertical-align: top;\n",
              "    }\n",
              "\n",
              "    .dataframe thead th {\n",
              "        text-align: right;\n",
              "    }\n",
              "</style>\n",
              "<table border=\"1\" class=\"dataframe\">\n",
              "  <thead>\n",
              "    <tr style=\"text-align: right;\">\n",
              "      <th></th>\n",
              "      <th>donor_age</th>\n",
              "      <th>donor_age_below_35</th>\n",
              "      <th>donor_ABO</th>\n",
              "      <th>donor_CMV</th>\n",
              "      <th>recipient_age</th>\n",
              "      <th>recipient_gender</th>\n",
              "      <th>recipient_body_mass</th>\n",
              "      <th>recipient_ABO</th>\n",
              "      <th>recipient_rh</th>\n",
              "      <th>recipient_CMV</th>\n",
              "      <th>...</th>\n",
              "      <th>CD34_x1e6_per_kg</th>\n",
              "      <th>CD3_x1e8_per_kg</th>\n",
              "      <th>CD3_to_CD34_ratio</th>\n",
              "      <th>ANC_recovery</th>\n",
              "      <th>PLT_recovery</th>\n",
              "      <th>time_to_acute_GvHD_III_IV</th>\n",
              "      <th>extensive_chronic_GvHD</th>\n",
              "      <th>relapse</th>\n",
              "      <th>survival_time</th>\n",
              "      <th>survival_status</th>\n",
              "    </tr>\n",
              "  </thead>\n",
              "  <tbody>\n",
              "    <tr>\n",
              "      <th>0</th>\n",
              "      <td>22.830137</td>\n",
              "      <td>yes</td>\n",
              "      <td>A</td>\n",
              "      <td>present</td>\n",
              "      <td>9.6</td>\n",
              "      <td>male</td>\n",
              "      <td>35.0</td>\n",
              "      <td>A</td>\n",
              "      <td>plus</td>\n",
              "      <td>present</td>\n",
              "      <td>...</td>\n",
              "      <td>7.20</td>\n",
              "      <td>5.38</td>\n",
              "      <td>1.33876</td>\n",
              "      <td>19.0</td>\n",
              "      <td>51.0</td>\n",
              "      <td>32.0</td>\n",
              "      <td>no</td>\n",
              "      <td>no</td>\n",
              "      <td>999.0</td>\n",
              "      <td>0</td>\n",
              "    </tr>\n",
              "    <tr>\n",
              "      <th>1</th>\n",
              "      <td>23.342466</td>\n",
              "      <td>yes</td>\n",
              "      <td>B</td>\n",
              "      <td>absent</td>\n",
              "      <td>4.0</td>\n",
              "      <td>male</td>\n",
              "      <td>20.6</td>\n",
              "      <td>B</td>\n",
              "      <td>plus</td>\n",
              "      <td>absent</td>\n",
              "      <td>...</td>\n",
              "      <td>4.50</td>\n",
              "      <td>0.41</td>\n",
              "      <td>11.078295</td>\n",
              "      <td>16.0</td>\n",
              "      <td>37.0</td>\n",
              "      <td>1000000.0</td>\n",
              "      <td>no</td>\n",
              "      <td>yes</td>\n",
              "      <td>163.0</td>\n",
              "      <td>1</td>\n",
              "    </tr>\n",
              "    <tr>\n",
              "      <th>2</th>\n",
              "      <td>26.394521</td>\n",
              "      <td>yes</td>\n",
              "      <td>B</td>\n",
              "      <td>absent</td>\n",
              "      <td>6.6</td>\n",
              "      <td>male</td>\n",
              "      <td>23.4</td>\n",
              "      <td>B</td>\n",
              "      <td>plus</td>\n",
              "      <td>present</td>\n",
              "      <td>...</td>\n",
              "      <td>7.94</td>\n",
              "      <td>0.42</td>\n",
              "      <td>19.01323</td>\n",
              "      <td>23.0</td>\n",
              "      <td>20.0</td>\n",
              "      <td>1000000.0</td>\n",
              "      <td>no</td>\n",
              "      <td>yes</td>\n",
              "      <td>435.0</td>\n",
              "      <td>1</td>\n",
              "    </tr>\n",
              "    <tr>\n",
              "      <th>3</th>\n",
              "      <td>39.684932</td>\n",
              "      <td>no</td>\n",
              "      <td>A</td>\n",
              "      <td>present</td>\n",
              "      <td>18.1</td>\n",
              "      <td>female</td>\n",
              "      <td>50.0</td>\n",
              "      <td>AB</td>\n",
              "      <td>plus</td>\n",
              "      <td>absent</td>\n",
              "      <td>...</td>\n",
              "      <td>4.25</td>\n",
              "      <td>0.14</td>\n",
              "      <td>29.481647</td>\n",
              "      <td>23.0</td>\n",
              "      <td>29.0</td>\n",
              "      <td>19.0</td>\n",
              "      <td>?</td>\n",
              "      <td>no</td>\n",
              "      <td>53.0</td>\n",
              "      <td>1</td>\n",
              "    </tr>\n",
              "    <tr>\n",
              "      <th>4</th>\n",
              "      <td>33.358904</td>\n",
              "      <td>yes</td>\n",
              "      <td>A</td>\n",
              "      <td>absent</td>\n",
              "      <td>1.3</td>\n",
              "      <td>female</td>\n",
              "      <td>9.0</td>\n",
              "      <td>AB</td>\n",
              "      <td>minus</td>\n",
              "      <td>present</td>\n",
              "      <td>...</td>\n",
              "      <td>51.85</td>\n",
              "      <td>13.05</td>\n",
              "      <td>3.972255</td>\n",
              "      <td>14.0</td>\n",
              "      <td>14.0</td>\n",
              "      <td>1000000.0</td>\n",
              "      <td>no</td>\n",
              "      <td>no</td>\n",
              "      <td>2043.0</td>\n",
              "      <td>0</td>\n",
              "    </tr>\n",
              "    <tr>\n",
              "      <th>...</th>\n",
              "      <td>...</td>\n",
              "      <td>...</td>\n",
              "      <td>...</td>\n",
              "      <td>...</td>\n",
              "      <td>...</td>\n",
              "      <td>...</td>\n",
              "      <td>...</td>\n",
              "      <td>...</td>\n",
              "      <td>...</td>\n",
              "      <td>...</td>\n",
              "      <td>...</td>\n",
              "      <td>...</td>\n",
              "      <td>...</td>\n",
              "      <td>...</td>\n",
              "      <td>...</td>\n",
              "      <td>...</td>\n",
              "      <td>...</td>\n",
              "      <td>...</td>\n",
              "      <td>...</td>\n",
              "      <td>...</td>\n",
              "      <td>...</td>\n",
              "    </tr>\n",
              "    <tr>\n",
              "      <th>182</th>\n",
              "      <td>37.575342</td>\n",
              "      <td>no</td>\n",
              "      <td>A</td>\n",
              "      <td>present</td>\n",
              "      <td>12.9</td>\n",
              "      <td>male</td>\n",
              "      <td>44.0</td>\n",
              "      <td>A</td>\n",
              "      <td>minus</td>\n",
              "      <td>present</td>\n",
              "      <td>...</td>\n",
              "      <td>11.08</td>\n",
              "      <td>4.39</td>\n",
              "      <td>2.52275</td>\n",
              "      <td>15.0</td>\n",
              "      <td>22.0</td>\n",
              "      <td>16.0</td>\n",
              "      <td>no</td>\n",
              "      <td>yes</td>\n",
              "      <td>385.0</td>\n",
              "      <td>1</td>\n",
              "    </tr>\n",
              "    <tr>\n",
              "      <th>183</th>\n",
              "      <td>22.895890</td>\n",
              "      <td>yes</td>\n",
              "      <td>A</td>\n",
              "      <td>absent</td>\n",
              "      <td>13.9</td>\n",
              "      <td>female</td>\n",
              "      <td>44.5</td>\n",
              "      <td>0</td>\n",
              "      <td>plus</td>\n",
              "      <td>present</td>\n",
              "      <td>...</td>\n",
              "      <td>4.64</td>\n",
              "      <td>4.47</td>\n",
              "      <td>1.038858</td>\n",
              "      <td>12.0</td>\n",
              "      <td>30.0</td>\n",
              "      <td>1000000.0</td>\n",
              "      <td>no</td>\n",
              "      <td>no</td>\n",
              "      <td>634.0</td>\n",
              "      <td>1</td>\n",
              "    </tr>\n",
              "    <tr>\n",
              "      <th>184</th>\n",
              "      <td>27.347945</td>\n",
              "      <td>yes</td>\n",
              "      <td>A</td>\n",
              "      <td>present</td>\n",
              "      <td>10.4</td>\n",
              "      <td>female</td>\n",
              "      <td>33.0</td>\n",
              "      <td>B</td>\n",
              "      <td>plus</td>\n",
              "      <td>present</td>\n",
              "      <td>...</td>\n",
              "      <td>7.73</td>\n",
              "      <td>4.73</td>\n",
              "      <td>1.635559</td>\n",
              "      <td>16.0</td>\n",
              "      <td>16.0</td>\n",
              "      <td>1000000.0</td>\n",
              "      <td>no</td>\n",
              "      <td>no</td>\n",
              "      <td>1895.0</td>\n",
              "      <td>0</td>\n",
              "    </tr>\n",
              "    <tr>\n",
              "      <th>185</th>\n",
              "      <td>27.780822</td>\n",
              "      <td>yes</td>\n",
              "      <td>A</td>\n",
              "      <td>absent</td>\n",
              "      <td>8.0</td>\n",
              "      <td>male</td>\n",
              "      <td>24.0</td>\n",
              "      <td>0</td>\n",
              "      <td>plus</td>\n",
              "      <td>absent</td>\n",
              "      <td>...</td>\n",
              "      <td>15.41</td>\n",
              "      <td>1.91</td>\n",
              "      <td>8.07777</td>\n",
              "      <td>13.0</td>\n",
              "      <td>14.0</td>\n",
              "      <td>54.0</td>\n",
              "      <td>yes</td>\n",
              "      <td>no</td>\n",
              "      <td>382.0</td>\n",
              "      <td>1</td>\n",
              "    </tr>\n",
              "    <tr>\n",
              "      <th>186</th>\n",
              "      <td>55.553425</td>\n",
              "      <td>no</td>\n",
              "      <td>A</td>\n",
              "      <td>present</td>\n",
              "      <td>9.5</td>\n",
              "      <td>male</td>\n",
              "      <td>37.0</td>\n",
              "      <td>AB</td>\n",
              "      <td>plus</td>\n",
              "      <td>absent</td>\n",
              "      <td>...</td>\n",
              "      <td>9.91</td>\n",
              "      <td>10.45</td>\n",
              "      <td>0.948135</td>\n",
              "      <td>18.0</td>\n",
              "      <td>20.0</td>\n",
              "      <td>1000000.0</td>\n",
              "      <td>no</td>\n",
              "      <td>no</td>\n",
              "      <td>1109.0</td>\n",
              "      <td>0</td>\n",
              "    </tr>\n",
              "  </tbody>\n",
              "</table>\n",
              "<p>187 rows × 30 columns</p>\n",
              "</div>\n",
              "      <button class=\"colab-df-convert\" onclick=\"convertToInteractive('df-0c831fdb-be4d-4354-b5c5-f318f5286215')\"\n",
              "              title=\"Convert this dataframe to an interactive table.\"\n",
              "              style=\"display:none;\">\n",
              "        \n",
              "  <svg xmlns=\"http://www.w3.org/2000/svg\" height=\"24px\"viewBox=\"0 0 24 24\"\n",
              "       width=\"24px\">\n",
              "    <path d=\"M0 0h24v24H0V0z\" fill=\"none\"/>\n",
              "    <path d=\"M18.56 5.44l.94 2.06.94-2.06 2.06-.94-2.06-.94-.94-2.06-.94 2.06-2.06.94zm-11 1L8.5 8.5l.94-2.06 2.06-.94-2.06-.94L8.5 2.5l-.94 2.06-2.06.94zm10 10l.94 2.06.94-2.06 2.06-.94-2.06-.94-.94-2.06-.94 2.06-2.06.94z\"/><path d=\"M17.41 7.96l-1.37-1.37c-.4-.4-.92-.59-1.43-.59-.52 0-1.04.2-1.43.59L10.3 9.45l-7.72 7.72c-.78.78-.78 2.05 0 2.83L4 21.41c.39.39.9.59 1.41.59.51 0 1.02-.2 1.41-.59l7.78-7.78 2.81-2.81c.8-.78.8-2.07 0-2.86zM5.41 20L4 18.59l7.72-7.72 1.47 1.35L5.41 20z\"/>\n",
              "  </svg>\n",
              "      </button>\n",
              "      \n",
              "  <style>\n",
              "    .colab-df-container {\n",
              "      display:flex;\n",
              "      flex-wrap:wrap;\n",
              "      gap: 12px;\n",
              "    }\n",
              "\n",
              "    .colab-df-convert {\n",
              "      background-color: #E8F0FE;\n",
              "      border: none;\n",
              "      border-radius: 50%;\n",
              "      cursor: pointer;\n",
              "      display: none;\n",
              "      fill: #1967D2;\n",
              "      height: 32px;\n",
              "      padding: 0 0 0 0;\n",
              "      width: 32px;\n",
              "    }\n",
              "\n",
              "    .colab-df-convert:hover {\n",
              "      background-color: #E2EBFA;\n",
              "      box-shadow: 0px 1px 2px rgba(60, 64, 67, 0.3), 0px 1px 3px 1px rgba(60, 64, 67, 0.15);\n",
              "      fill: #174EA6;\n",
              "    }\n",
              "\n",
              "    [theme=dark] .colab-df-convert {\n",
              "      background-color: #3B4455;\n",
              "      fill: #D2E3FC;\n",
              "    }\n",
              "\n",
              "    [theme=dark] .colab-df-convert:hover {\n",
              "      background-color: #434B5C;\n",
              "      box-shadow: 0px 1px 3px 1px rgba(0, 0, 0, 0.15);\n",
              "      filter: drop-shadow(0px 1px 2px rgba(0, 0, 0, 0.3));\n",
              "      fill: #FFFFFF;\n",
              "    }\n",
              "  </style>\n",
              "\n",
              "      <script>\n",
              "        const buttonEl =\n",
              "          document.querySelector('#df-0c831fdb-be4d-4354-b5c5-f318f5286215 button.colab-df-convert');\n",
              "        buttonEl.style.display =\n",
              "          google.colab.kernel.accessAllowed ? 'block' : 'none';\n",
              "\n",
              "        async function convertToInteractive(key) {\n",
              "          const element = document.querySelector('#df-0c831fdb-be4d-4354-b5c5-f318f5286215');\n",
              "          const dataTable =\n",
              "            await google.colab.kernel.invokeFunction('convertToInteractive',\n",
              "                                                     [key], {});\n",
              "          if (!dataTable) return;\n",
              "\n",
              "          const docLinkHtml = 'Like what you see? Visit the ' +\n",
              "            '<a target=\"_blank\" href=https://colab.research.google.com/notebooks/data_table.ipynb>data table notebook</a>'\n",
              "            + ' to learn more about interactive tables.';\n",
              "          element.innerHTML = '';\n",
              "          dataTable['output_type'] = 'display_data';\n",
              "          await google.colab.output.renderOutput(dataTable, element);\n",
              "          const docLink = document.createElement('div');\n",
              "          docLink.innerHTML = docLinkHtml;\n",
              "          element.appendChild(docLink);\n",
              "        }\n",
              "      </script>\n",
              "    </div>\n",
              "  </div>\n",
              "  "
            ]
          },
          "metadata": {},
          "execution_count": 9
        }
      ]
    },
    {
      "cell_type": "markdown",
      "source": [
        "after removing the unnecessarry columns, it is now important to check the two main columns, the ABO match and the recipient ABO\n"
      ],
      "metadata": {
        "id": "bV0nfhdgPXrZ"
      }
    },
    {
      "cell_type": "code",
      "source": [
        "df.nunique()"
      ],
      "metadata": {
        "colab": {
          "base_uri": "https://localhost:8080/"
        },
        "id": "WoC5MzsNOkfI",
        "outputId": "6b194b2f-3778-4f44-f6e7-30438648e89f"
      },
      "execution_count": 10,
      "outputs": [
        {
          "output_type": "execute_result",
          "data": {
            "text/plain": [
              "donor_age                    187\n",
              "donor_age_below_35             2\n",
              "donor_ABO                      4\n",
              "donor_CMV                      3\n",
              "recipient_age                125\n",
              "recipient_gender               2\n",
              "recipient_body_mass          131\n",
              "recipient_ABO                  5\n",
              "recipient_rh                   3\n",
              "recipient_CMV                  3\n",
              "disease                        5\n",
              "disease_group                  2\n",
              "ABO_match                      3\n",
              "CMV_status                     5\n",
              "HLA_match                      4\n",
              "allel                          6\n",
              "HLA_group_1                    7\n",
              "risk_group                     2\n",
              "stem_cell_source               2\n",
              "tx_post_relapse                2\n",
              "CD34_x1e6_per_kg             183\n",
              "CD3_x1e8_per_kg              164\n",
              "CD3_to_CD34_ratio            183\n",
              "ANC_recovery                  18\n",
              "PLT_recovery                  50\n",
              "time_to_acute_GvHD_III_IV     28\n",
              "extensive_chronic_GvHD         3\n",
              "relapse                        2\n",
              "survival_time                174\n",
              "survival_status                2\n",
              "dtype: int64"
            ]
          },
          "metadata": {},
          "execution_count": 10
        }
      ]
    },
    {
      "cell_type": "code",
      "source": [
        "df['ABO_match'].unique()"
      ],
      "metadata": {
        "colab": {
          "base_uri": "https://localhost:8080/"
        },
        "id": "VLLAyBBZRKMZ",
        "outputId": "6d428329-7793-422b-c942-0b4c3c0f1273"
      },
      "execution_count": 11,
      "outputs": [
        {
          "output_type": "execute_result",
          "data": {
            "text/plain": [
              "array(['matched', 'mismatched', '?'], dtype=object)"
            ]
          },
          "metadata": {},
          "execution_count": 11
        }
      ]
    },
    {
      "cell_type": "code",
      "source": [
        "df['recipient_ABO'].unique()"
      ],
      "metadata": {
        "colab": {
          "base_uri": "https://localhost:8080/"
        },
        "id": "-0IoN04jRd-O",
        "outputId": "03530a40-719c-40e0-a223-e1d53756da3f"
      },
      "execution_count": 12,
      "outputs": [
        {
          "output_type": "execute_result",
          "data": {
            "text/plain": [
              "array(['A', 'B', 'AB', '0', '?'], dtype=object)"
            ]
          },
          "metadata": {},
          "execution_count": 12
        }
      ]
    },
    {
      "cell_type": "markdown",
      "source": [
        "we see that there are categorical as well as numerical values in the columns. Seperating them can be useful.\n",
        "\n"
      ],
      "metadata": {
        "id": "vlcghughR-a-"
      }
    },
    {
      "cell_type": "code",
      "source": [
        "######### Separating Catagorical & Neumerical Column#########\n",
        "def extract_cat_num(df):\n",
        "    cat_col=[col for col in df.columns if df[col].dtype=='object']\n",
        "    num_col=[col for col in df.columns if df[col].dtype!='object']\n",
        "    return cat_col,num_col\n",
        "\n",
        "   "
      ],
      "metadata": {
        "id": "TaQx06lPRn1-"
      },
      "execution_count": 13,
      "outputs": []
    },
    {
      "cell_type": "code",
      "source": [
        " cat_col,num_col=extract_cat_num(df)"
      ],
      "metadata": {
        "id": "urBg-M0nSOJK"
      },
      "execution_count": 14,
      "outputs": []
    },
    {
      "cell_type": "code",
      "source": [
        "cat_col"
      ],
      "metadata": {
        "colab": {
          "base_uri": "https://localhost:8080/"
        },
        "id": "1-RNL8TrSWhR",
        "outputId": "5b2604e6-b8bd-49bc-dba6-8421641ca4ce"
      },
      "execution_count": 15,
      "outputs": [
        {
          "output_type": "execute_result",
          "data": {
            "text/plain": [
              "['donor_age_below_35',\n",
              " 'donor_ABO',\n",
              " 'donor_CMV',\n",
              " 'recipient_gender',\n",
              " 'recipient_body_mass',\n",
              " 'recipient_ABO',\n",
              " 'recipient_rh',\n",
              " 'recipient_CMV',\n",
              " 'disease',\n",
              " 'disease_group',\n",
              " 'ABO_match',\n",
              " 'CMV_status',\n",
              " 'HLA_match',\n",
              " 'allel',\n",
              " 'HLA_group_1',\n",
              " 'risk_group',\n",
              " 'stem_cell_source',\n",
              " 'tx_post_relapse',\n",
              " 'CD3_x1e8_per_kg',\n",
              " 'CD3_to_CD34_ratio',\n",
              " 'extensive_chronic_GvHD',\n",
              " 'relapse']"
            ]
          },
          "metadata": {},
          "execution_count": 15
        }
      ]
    },
    {
      "cell_type": "code",
      "source": [
        "num_col"
      ],
      "metadata": {
        "colab": {
          "base_uri": "https://localhost:8080/"
        },
        "id": "4lkXnyCsShAg",
        "outputId": "caa557b1-2714-4c47-9b70-327218fecd64"
      },
      "execution_count": 16,
      "outputs": [
        {
          "output_type": "execute_result",
          "data": {
            "text/plain": [
              "['donor_age',\n",
              " 'recipient_age',\n",
              " 'CD34_x1e6_per_kg',\n",
              " 'ANC_recovery',\n",
              " 'PLT_recovery',\n",
              " 'time_to_acute_GvHD_III_IV',\n",
              " 'survival_time',\n",
              " 'survival_status']"
            ]
          },
          "metadata": {},
          "execution_count": 16
        }
      ]
    },
    {
      "cell_type": "markdown",
      "source": [
        "checking the columns again to see if all the values are categorical only in cat_col"
      ],
      "metadata": {
        "id": "X_RNDF6wUv3b"
      }
    },
    {
      "cell_type": "code",
      "source": [
        "for col in cat_col:\n",
        "    print('{} has {} values '.format(col,df[col].unique()))\n",
        "    print('\\n')"
      ],
      "metadata": {
        "colab": {
          "base_uri": "https://localhost:8080/"
        },
        "id": "6vE6CaLpSj04",
        "outputId": "92183ea8-eddc-46c9-f6e1-48599c5a3638"
      },
      "execution_count": 17,
      "outputs": [
        {
          "output_type": "stream",
          "name": "stdout",
          "text": [
            "donor_age_below_35 has ['yes' 'no'] values \n",
            "\n",
            "\n",
            "donor_ABO has ['A' 'B' 'AB' '0'] values \n",
            "\n",
            "\n",
            "donor_CMV has ['present' 'absent' '?'] values \n",
            "\n",
            "\n",
            "recipient_gender has ['male' 'female'] values \n",
            "\n",
            "\n",
            "recipient_body_mass has ['35.0' '20.6' '23.4' '50.0' '9.0' '40.0' '51.0' '56.0' '20.5' '16.5'\n",
            " '10.5' '47.0' '18.1' '42.0' '55.0' '30.0' '97.8' '6.0' '64.0' '62.0'\n",
            " '43.2' '31.0' '39.3' '23.8' '26.8' '6.4' '17.0' '14.3' '38.3' '20.0'\n",
            " '23.0' '15.0' '49.6' '10.0' '11.25' '63.0' '43.5' '48.0' '15.3' '29.0'\n",
            " '41.4' '76.0' '34.1' '60.4' '48.8' '38.5' '28.5' '7.5' '19.5' '8.15'\n",
            " '14.0' '37.0' '13.0' '68.0' '52.0' '61.0' '54.9' '11.9' '49.0' '30.8'\n",
            " '45.5' '46.7' '58.0' '56.5' '16.0' '26.5' '28.0' '26.0' '37.5' '44.3'\n",
            " '43.0' '61.3' '14.1' '34.0' '62.5' '11.2' '72.5' '24.5' '70.0' '?' '22.6'\n",
            " '54.1' '51.1' '24.3' '19.0' '33.0' '17.2' '73.0' '55.2' '18.6' '52.7'\n",
            " '25.2' '19.6' '25.0' '90.0' '26.9' '32.0' '17.6' '65.0' '9.6' '50.6'\n",
            " '60.0' '54.5' '51.3' '12.0' '59.0' '20.8' '42.4' '44.5' '103.4' '71.0'\n",
            " '58.9' '20.9' '17.3' '14.8' '54.6' '35.5' '17.5' '44.1' '40.3' '36.0'\n",
            " '24.0' '25.4' '38.4' '18.3' '18.0' '35.9' '30.5' '50.8' '57.0' '44.0'] values \n",
            "\n",
            "\n",
            "recipient_ABO has ['A' 'B' 'AB' '0' '?'] values \n",
            "\n",
            "\n",
            "recipient_rh has ['plus' 'minus' '?'] values \n",
            "\n",
            "\n",
            "recipient_CMV has ['present' 'absent' '?'] values \n",
            "\n",
            "\n",
            "disease has ['ALL' 'AML' 'chronic' 'nonmalignant' 'lymphoma'] values \n",
            "\n",
            "\n",
            "disease_group has ['malignant' 'nonmalignant'] values \n",
            "\n",
            "\n",
            "ABO_match has ['matched' 'mismatched' '?'] values \n",
            "\n",
            "\n",
            "CMV_status has ['3' '0' '2' '1' '?'] values \n",
            "\n",
            "\n",
            "HLA_match has ['10/10' '9/10' '7/10' '8/10'] values \n",
            "\n",
            "\n",
            "allel has ['0' '1' '3' '2' '4' '?'] values \n",
            "\n",
            "\n",
            "HLA_group_1 has ['matched' 'one_antigen' 'mismatched' 'DRB1_cell' 'one_allel' 'two_diffs'\n",
            " 'three_diffs'] values \n",
            "\n",
            "\n",
            "risk_group has ['high' 'low'] values \n",
            "\n",
            "\n",
            "stem_cell_source has ['peripheral_blood' 'bone_marrow'] values \n",
            "\n",
            "\n",
            "tx_post_relapse has ['no' 'yes'] values \n",
            "\n",
            "\n",
            "CD3_x1e8_per_kg has ['5.38' '0.41' '0.42' '0.14' '13.05' '0.39' '7.39' '?' '6.24' '7.43'\n",
            " '1.49' '6.45' '5.64' '0.85' '3.55' '0.4' '3.42' '16.31' '5.16' '2.22'\n",
            " '5.15' '7.08' '3.54' '0.21' '7.74' '3.3' '3.48' '11.59' '3.17' '4.11'\n",
            " '5.81' '3.6' '1.93' '5.41' '1.74' '8.06' '3.36' '3.94' '8.39' '0.98'\n",
            " '6.54' '5.75' '1.83' '1.71' '0.74' '1.66' '0.73' '0.59' '4.15' '11.85'\n",
            " '8.71' '8.63' '5.24' '7.32' '8.94' '0.13' '12.23' '0.99' '0.29' '0.05'\n",
            " '3.47' '8.75' '16.07' '4.78' '3.38' '4.26' '4.94' '1.24' '0.15' '0.77'\n",
            " '0.84' '5.8' '5.4' '3.7' '2.14' '0.36' '10.06' '3.39' '6.59' '0.09'\n",
            " '5.09' '0.25' '1.68' '7.35' '7.16' '5.27' '4.97' '2.33' '5.83' '7.93'\n",
            " '4.83' '2.84' '13.77' '2.45' '5.07' '3.32' '6.35' '0.2' '2.97' '13.27'\n",
            " '8.03' '4.72' '6.02' '0.04' '4.46' '4.9' '5.11' '10.56' '0.97' '2.4'\n",
            " '1.77' '1.96' '10.14' '15.9' '1.0' '11.49' '3.25' '10.49' '3.19' '6.92'\n",
            " '3.08' '0.17' '0.27' '4.59' '0.47' '8.48' '6.25' '1.03' '1.97' '6.3'\n",
            " '13.01' '0.24' '2.85' '2.75' '7.15' '0.49' '3.75' '1.45' '1.42' '6.42'\n",
            " '2.05' '9.27' '4.09' '7.6' '6.56' '0.37' '11.71' '3.86' '10.61' '4.86'\n",
            " '5.02' '5.65' '2.76' '8.85' '20.02' '6.85' '0.5' '7.81' '5.19' '4.39'\n",
            " '4.47' '4.73' '1.91' '10.45'] values \n",
            "\n",
            "\n",
            "CD3_to_CD34_ratio has ['1.33876' '11.078295' '19.01323' '29.481647' '3.972255' '8.412758'\n",
            " '2.406248' '?' '3.772555' '1.035244' '11.883664' '2.242442' '2.734654'\n",
            " '3.713956' '2.26309' '12.028841' '1.595133' '3.676416' '1.408646'\n",
            " '1.711795' '0.36872' '1.231287' '3.81488' '5.781319' '13.890231'\n",
            " '1.672532' '1.788507' '3.242425' '2.001808' '1.849607' '2.380569'\n",
            " '1.687395' '16.186239' '3.49847' '2.778202' '1.841206' '8.784289'\n",
            " '2.733138' '5.837647' '2.215047' '0.692898' '2.335954' '4.824785'\n",
            " '0.927108' '7.060927' '6.022997' '4.517296' '7.369445' '3.650173'\n",
            " '3.280961' '5.69203' '4.011209' '1.351711' '1.890822' '1.876834'\n",
            " '11.017048' '2.969988' '1.025586' '12.958576' '3.133461' '5.761517'\n",
            " '6.739936' '6.157698' '14.130301' '6.750632' '47.869839' '3.10536'\n",
            " '2.780611' '1.498879' '1.865411' '2.927597' '2.449389' '1.786075'\n",
            " '12.479226' '11.405197' '12.36598' '11.123182' '6.002989' '4.184092'\n",
            " '2.014498' '2.098238' '2.734269' '4.420206' '5.276616' '1.589775'\n",
            " '2.687529' '1.833687' '14.642869' '3.430293' '6.34585' '6.928599'\n",
            " '2.394072' '0.709805' '1.365785' '2.337369' '1.38917' '7.305471'\n",
            " '2.552321' '2.722087' '7.517388' '2.498917' '0.204132' '2.59522'\n",
            " '1.848795' '1.6173' '2.929081' '6.537721' '3.787339' '1.168705'\n",
            " '2.491794' '1.483826' '7.805782' '2.449323' '99.56097' '1.744246'\n",
            " '5.045842' '1.558548' '1.018042' '4.489022' '1.851411' '4.2187'\n",
            " '5.164562' '1.070314' '1.283387' '1.082899' '4.468419' '1.346764'\n",
            " '2.997231' '1.839537' '3.774746' '2.118673' '2.703806' '56.065024'\n",
            " '9.456741' '19.210978' '1.038752' '7.423372' '3.597279' '0.799458'\n",
            " '2.818993' '10.611083' '6.258729' '1.543305' '3.065758' '0.455355'\n",
            " '3.737477' '7.910679' '3.465003' '2.40947' '1.2068' '7.243234' '2.496128'\n",
            " '0.843646' '2.965539' '6.081859' '12.984467' '2.446267' '1.350554'\n",
            " '2.443228' '1.181537' '1.854875' '12.272474' '1.878043' '3.120205'\n",
            " '0.309048' '2.241175' '2.929514' '4.061324' '2.069057' '1.214932'\n",
            " '4.094514' '0.843967' '1.830242' '1.671314' '2.205359' '16.32616'\n",
            " '1.007599' '2.426122' '2.52275' '1.038858' '1.635559' '8.07777'\n",
            " '0.948135'] values \n",
            "\n",
            "\n",
            "extensive_chronic_GvHD has ['no' '?' 'yes'] values \n",
            "\n",
            "\n",
            "relapse has ['no' 'yes'] values \n",
            "\n",
            "\n"
          ]
        }
      ]
    },
    {
      "cell_type": "markdown",
      "source": [
        "here we see there are still columns with numerical data. Hence we need to convert and transfer to the numerical columns\n"
      ],
      "metadata": {
        "id": "blMHa8RbVXeH"
      }
    },
    {
      "cell_type": "code",
      "source": [
        "#coverting data_types\n",
        "def convert_dtype(df,feature):\n",
        "    df[feature] = pd.to_numeric(df[feature],errors='coerce')"
      ],
      "metadata": {
        "id": "GLQI_GtIU_mR"
      },
      "execution_count": 18,
      "outputs": []
    },
    {
      "cell_type": "code",
      "source": [
        "features =['CD3_x1e8_per_kg','CD3_to_CD34_ratio','recipient_body_mass','survival_status']\n",
        "for feature in features:\n",
        "    convert_dtype(df,feature)"
      ],
      "metadata": {
        "id": "LSxbru2IV2kl"
      },
      "execution_count": 19,
      "outputs": []
    },
    {
      "cell_type": "markdown",
      "source": [
        ""
      ],
      "metadata": {
        "id": "nnF_r75OVVhs"
      }
    },
    {
      "cell_type": "code",
      "source": [
        "def extract_cat_num(df):\n",
        "    cat_col=[col for col in df.columns if df[col].dtype=='object']\n",
        "    num_col=[col for col in df.columns if df[col].dtype!='object']\n",
        "    #num_col=[col for col in df.columns if df[col].dtype=='float64']\n",
        "    return cat_col,num_col\n",
        "cat_col,num_col=extract_cat_num(df)"
      ],
      "metadata": {
        "id": "tnF_wZWrWB3j"
      },
      "execution_count": 20,
      "outputs": []
    },
    {
      "cell_type": "code",
      "source": [
        "cat_col"
      ],
      "metadata": {
        "colab": {
          "base_uri": "https://localhost:8080/"
        },
        "id": "zzhvYUPLWFep",
        "outputId": "c4c46c10-cd2b-4cf0-c1df-e114b8eaeabc"
      },
      "execution_count": 21,
      "outputs": [
        {
          "output_type": "execute_result",
          "data": {
            "text/plain": [
              "['donor_age_below_35',\n",
              " 'donor_ABO',\n",
              " 'donor_CMV',\n",
              " 'recipient_gender',\n",
              " 'recipient_ABO',\n",
              " 'recipient_rh',\n",
              " 'recipient_CMV',\n",
              " 'disease',\n",
              " 'disease_group',\n",
              " 'ABO_match',\n",
              " 'CMV_status',\n",
              " 'HLA_match',\n",
              " 'allel',\n",
              " 'HLA_group_1',\n",
              " 'risk_group',\n",
              " 'stem_cell_source',\n",
              " 'tx_post_relapse',\n",
              " 'extensive_chronic_GvHD',\n",
              " 'relapse']"
            ]
          },
          "metadata": {},
          "execution_count": 21
        }
      ]
    },
    {
      "cell_type": "code",
      "source": [
        "for col in cat_col:\n",
        "    print('{} has {} values '.format(col,df[col].unique()))\n",
        "    print('\\n')"
      ],
      "metadata": {
        "colab": {
          "base_uri": "https://localhost:8080/"
        },
        "id": "FiCmaL4eWGgy",
        "outputId": "68c61ede-8285-4004-848d-b3b171fa648f"
      },
      "execution_count": 22,
      "outputs": [
        {
          "output_type": "stream",
          "name": "stdout",
          "text": [
            "donor_age_below_35 has ['yes' 'no'] values \n",
            "\n",
            "\n",
            "donor_ABO has ['A' 'B' 'AB' '0'] values \n",
            "\n",
            "\n",
            "donor_CMV has ['present' 'absent' '?'] values \n",
            "\n",
            "\n",
            "recipient_gender has ['male' 'female'] values \n",
            "\n",
            "\n",
            "recipient_ABO has ['A' 'B' 'AB' '0' '?'] values \n",
            "\n",
            "\n",
            "recipient_rh has ['plus' 'minus' '?'] values \n",
            "\n",
            "\n",
            "recipient_CMV has ['present' 'absent' '?'] values \n",
            "\n",
            "\n",
            "disease has ['ALL' 'AML' 'chronic' 'nonmalignant' 'lymphoma'] values \n",
            "\n",
            "\n",
            "disease_group has ['malignant' 'nonmalignant'] values \n",
            "\n",
            "\n",
            "ABO_match has ['matched' 'mismatched' '?'] values \n",
            "\n",
            "\n",
            "CMV_status has ['3' '0' '2' '1' '?'] values \n",
            "\n",
            "\n",
            "HLA_match has ['10/10' '9/10' '7/10' '8/10'] values \n",
            "\n",
            "\n",
            "allel has ['0' '1' '3' '2' '4' '?'] values \n",
            "\n",
            "\n",
            "HLA_group_1 has ['matched' 'one_antigen' 'mismatched' 'DRB1_cell' 'one_allel' 'two_diffs'\n",
            " 'three_diffs'] values \n",
            "\n",
            "\n",
            "risk_group has ['high' 'low'] values \n",
            "\n",
            "\n",
            "stem_cell_source has ['peripheral_blood' 'bone_marrow'] values \n",
            "\n",
            "\n",
            "tx_post_relapse has ['no' 'yes'] values \n",
            "\n",
            "\n",
            "extensive_chronic_GvHD has ['no' '?' 'yes'] values \n",
            "\n",
            "\n",
            "relapse has ['no' 'yes'] values \n",
            "\n",
            "\n"
          ]
        }
      ]
    },
    {
      "cell_type": "markdown",
      "source": [
        "As we can see all the values are converted are separated properly in categorical and numerical values.\n",
        "Now lets check the null values"
      ],
      "metadata": {
        "id": "I088Ey5sWUjW"
      }
    },
    {
      "cell_type": "code",
      "source": [
        "###########Checking NUll values############\n",
        "df.isnull().sum()"
      ],
      "metadata": {
        "colab": {
          "base_uri": "https://localhost:8080/"
        },
        "id": "se_pDjieWRhb",
        "outputId": "2290c62e-94d4-4929-93f2-2a07c4bd71b0"
      },
      "execution_count": 23,
      "outputs": [
        {
          "output_type": "execute_result",
          "data": {
            "text/plain": [
              "donor_age                    0\n",
              "donor_age_below_35           0\n",
              "donor_ABO                    0\n",
              "donor_CMV                    0\n",
              "recipient_age                0\n",
              "recipient_gender             0\n",
              "recipient_body_mass          2\n",
              "recipient_ABO                0\n",
              "recipient_rh                 0\n",
              "recipient_CMV                0\n",
              "disease                      0\n",
              "disease_group                0\n",
              "ABO_match                    0\n",
              "CMV_status                   0\n",
              "HLA_match                    0\n",
              "allel                        0\n",
              "HLA_group_1                  0\n",
              "risk_group                   0\n",
              "stem_cell_source             0\n",
              "tx_post_relapse              0\n",
              "CD34_x1e6_per_kg             0\n",
              "CD3_x1e8_per_kg              5\n",
              "CD3_to_CD34_ratio            5\n",
              "ANC_recovery                 0\n",
              "PLT_recovery                 0\n",
              "time_to_acute_GvHD_III_IV    0\n",
              "extensive_chronic_GvHD       0\n",
              "relapse                      0\n",
              "survival_time                0\n",
              "survival_status              0\n",
              "dtype: int64"
            ]
          },
          "metadata": {},
          "execution_count": 23
        }
      ]
    },
    {
      "cell_type": "code",
      "source": [
        "df1 = df.dropna()\n",
        "print(df1)"
      ],
      "metadata": {
        "colab": {
          "base_uri": "https://localhost:8080/"
        },
        "id": "V5nfB_KQWltU",
        "outputId": "5f464826-6c7b-4369-da63-90925f217388"
      },
      "execution_count": 31,
      "outputs": [
        {
          "output_type": "stream",
          "name": "stdout",
          "text": [
            "     donor_age donor_age_below_35 donor_ABO donor_CMV  recipient_age  \\\n",
            "0    22.830137                yes         A   present            9.6   \n",
            "1    23.342466                yes         B    absent            4.0   \n",
            "2    26.394521                yes         B    absent            6.6   \n",
            "3    39.684932                 no         A   present           18.1   \n",
            "4    33.358904                yes         A    absent            1.3   \n",
            "..         ...                ...       ...       ...            ...   \n",
            "182  37.575342                 no         A   present           12.9   \n",
            "183  22.895890                yes         A    absent           13.9   \n",
            "184  27.347945                yes         A   present           10.4   \n",
            "185  27.780822                yes         A    absent            8.0   \n",
            "186  55.553425                 no         A   present            9.5   \n",
            "\n",
            "    recipient_gender  recipient_body_mass recipient_ABO recipient_rh  \\\n",
            "0               male                 35.0             A         plus   \n",
            "1               male                 20.6             B         plus   \n",
            "2               male                 23.4             B         plus   \n",
            "3             female                 50.0            AB         plus   \n",
            "4             female                  9.0            AB        minus   \n",
            "..               ...                  ...           ...          ...   \n",
            "182             male                 44.0             A        minus   \n",
            "183           female                 44.5             0         plus   \n",
            "184           female                 33.0             B         plus   \n",
            "185             male                 24.0             0         plus   \n",
            "186             male                 37.0            AB         plus   \n",
            "\n",
            "    recipient_CMV  ... CD34_x1e6_per_kg CD3_x1e8_per_kg CD3_to_CD34_ratio  \\\n",
            "0         present  ...             7.20            5.38          1.338760   \n",
            "1          absent  ...             4.50            0.41         11.078295   \n",
            "2         present  ...             7.94            0.42         19.013230   \n",
            "3          absent  ...             4.25            0.14         29.481647   \n",
            "4         present  ...            51.85           13.05          3.972255   \n",
            "..            ...  ...              ...             ...               ...   \n",
            "182       present  ...            11.08            4.39          2.522750   \n",
            "183       present  ...             4.64            4.47          1.038858   \n",
            "184       present  ...             7.73            4.73          1.635559   \n",
            "185        absent  ...            15.41            1.91          8.077770   \n",
            "186        absent  ...             9.91           10.45          0.948135   \n",
            "\n",
            "    ANC_recovery PLT_recovery time_to_acute_GvHD_III_IV  \\\n",
            "0           19.0         51.0                      32.0   \n",
            "1           16.0         37.0                 1000000.0   \n",
            "2           23.0         20.0                 1000000.0   \n",
            "3           23.0         29.0                      19.0   \n",
            "4           14.0         14.0                 1000000.0   \n",
            "..           ...          ...                       ...   \n",
            "182         15.0         22.0                      16.0   \n",
            "183         12.0         30.0                 1000000.0   \n",
            "184         16.0         16.0                 1000000.0   \n",
            "185         13.0         14.0                      54.0   \n",
            "186         18.0         20.0                 1000000.0   \n",
            "\n",
            "    extensive_chronic_GvHD relapse survival_time survival_status  \n",
            "0                       no      no         999.0               0  \n",
            "1                       no     yes         163.0               1  \n",
            "2                       no     yes         435.0               1  \n",
            "3                        ?      no          53.0               1  \n",
            "4                       no      no        2043.0               0  \n",
            "..                     ...     ...           ...             ...  \n",
            "182                     no     yes         385.0               1  \n",
            "183                     no      no         634.0               1  \n",
            "184                     no      no        1895.0               0  \n",
            "185                    yes      no         382.0               1  \n",
            "186                     no      no        1109.0               0  \n",
            "\n",
            "[182 rows x 30 columns]\n"
          ]
        }
      ]
    },
    {
      "cell_type": "code",
      "source": [
        "df1[num_col].isnull().sum()"
      ],
      "metadata": {
        "colab": {
          "base_uri": "https://localhost:8080/"
        },
        "id": "r3IHNsW6YdRj",
        "outputId": "2fd3d0ef-890e-4a57-a837-8654d91192ae"
      },
      "execution_count": 32,
      "outputs": [
        {
          "output_type": "execute_result",
          "data": {
            "text/plain": [
              "donor_age                    0\n",
              "recipient_age                0\n",
              "recipient_body_mass          0\n",
              "CD34_x1e6_per_kg             0\n",
              "CD3_x1e8_per_kg              0\n",
              "CD3_to_CD34_ratio            0\n",
              "ANC_recovery                 0\n",
              "PLT_recovery                 0\n",
              "time_to_acute_GvHD_III_IV    0\n",
              "survival_time                0\n",
              "survival_status              0\n",
              "dtype: int64"
            ]
          },
          "metadata": {},
          "execution_count": 32
        }
      ]
    },
    {
      "cell_type": "code",
      "source": [
        "df1.info()"
      ],
      "metadata": {
        "colab": {
          "base_uri": "https://localhost:8080/"
        },
        "id": "K0K-vWLoYj3x",
        "outputId": "aad778d0-c4a3-4c83-be5f-324bde232290"
      },
      "execution_count": 33,
      "outputs": [
        {
          "output_type": "stream",
          "name": "stdout",
          "text": [
            "<class 'pandas.core.frame.DataFrame'>\n",
            "Int64Index: 182 entries, 0 to 186\n",
            "Data columns (total 30 columns):\n",
            " #   Column                     Non-Null Count  Dtype  \n",
            "---  ------                     --------------  -----  \n",
            " 0   donor_age                  182 non-null    float64\n",
            " 1   donor_age_below_35         182 non-null    object \n",
            " 2   donor_ABO                  182 non-null    object \n",
            " 3   donor_CMV                  182 non-null    object \n",
            " 4   recipient_age              182 non-null    float64\n",
            " 5   recipient_gender           182 non-null    object \n",
            " 6   recipient_body_mass        182 non-null    float64\n",
            " 7   recipient_ABO              182 non-null    object \n",
            " 8   recipient_rh               182 non-null    object \n",
            " 9   recipient_CMV              182 non-null    object \n",
            " 10  disease                    182 non-null    object \n",
            " 11  disease_group              182 non-null    object \n",
            " 12  ABO_match                  182 non-null    object \n",
            " 13  CMV_status                 182 non-null    object \n",
            " 14  HLA_match                  182 non-null    object \n",
            " 15  allel                      182 non-null    object \n",
            " 16  HLA_group_1                182 non-null    object \n",
            " 17  risk_group                 182 non-null    object \n",
            " 18  stem_cell_source           182 non-null    object \n",
            " 19  tx_post_relapse            182 non-null    object \n",
            " 20  CD34_x1e6_per_kg           182 non-null    float64\n",
            " 21  CD3_x1e8_per_kg            182 non-null    float64\n",
            " 22  CD3_to_CD34_ratio          182 non-null    float64\n",
            " 23  ANC_recovery               182 non-null    float64\n",
            " 24  PLT_recovery               182 non-null    float64\n",
            " 25  time_to_acute_GvHD_III_IV  182 non-null    float64\n",
            " 26  extensive_chronic_GvHD     182 non-null    object \n",
            " 27  relapse                    182 non-null    object \n",
            " 28  survival_time              182 non-null    float64\n",
            " 29  survival_status            182 non-null    int64  \n",
            "dtypes: float64(10), int64(1), object(19)\n",
            "memory usage: 44.1+ KB\n"
          ]
        }
      ]
    },
    {
      "cell_type": "markdown",
      "source": [
        "Now that we have all the values, lets start by plotting some graphs. here we plot the graphs for the numerical data. Lets see first the gender of the recipient from the categorical columns."
      ],
      "metadata": {
        "id": "0N9XfrfDZAkp"
      }
    },
    {
      "cell_type": "code",
      "source": [
        "sns.countplot(df1['recipient_gender'])"
      ],
      "metadata": {
        "colab": {
          "base_uri": "https://localhost:8080/",
          "height": 351
        },
        "id": "GFdCa6N-cHdX",
        "outputId": "c9593daf-457d-459e-efeb-ff2e89af9e81"
      },
      "execution_count": 35,
      "outputs": [
        {
          "output_type": "stream",
          "name": "stderr",
          "text": [
            "/usr/local/lib/python3.7/dist-packages/seaborn/_decorators.py:43: FutureWarning: Pass the following variable as a keyword arg: x. From version 0.12, the only valid positional argument will be `data`, and passing other arguments without an explicit keyword will result in an error or misinterpretation.\n",
            "  FutureWarning\n"
          ]
        },
        {
          "output_type": "execute_result",
          "data": {
            "text/plain": [
              "<matplotlib.axes._subplots.AxesSubplot at 0x7f3649755810>"
            ]
          },
          "metadata": {},
          "execution_count": 35
        },
        {
          "output_type": "display_data",
          "data": {
            "text/plain": [
              "<Figure size 432x288 with 1 Axes>"
            ],
            "image/png": "[encoded data removed]"
          },
          "metadata": {
            "needs_background": "light"
          }
        }
      ]
    },
    {
      "cell_type": "markdown",
      "source": [
        "We see more than 100 nos. of the recipients are male and females upto 70. through the next plots we can gain insights about age and survival time as well."
      ],
      "metadata": {
        "id": "e_fD4CCPcNdN"
      }
    },
    {
      "cell_type": "code",
      "source": [
        "##########Ploting Data##########\n",
        "plt.figure(figsize=(30,20))\n",
        "\n",
        "for i, feature in enumerate(num_col):\n",
        "    plt.subplot(5,4,i+1)\n",
        "    df1[feature].hist()\n",
        "    plt.title(feature)"
      ],
      "metadata": {
        "colab": {
          "base_uri": "https://localhost:8080/",
          "height": 581
        },
        "id": "fH-pEqT2Y3sv",
        "outputId": "bbf9959f-6aaa-4658-af55-60a0307e4323"
      },
      "execution_count": 34,
      "outputs": [
        {
          "output_type": "display_data",
          "data": {
            "text/plain": [
              "<Figure size 2160x1440 with 11 Axes>"
            ],
            "image/png": "[encoded data removed]"
          },
          "metadata": {
            "needs_background": "light"
          }
        }
      ]
    },
    {
      "cell_type": "markdown",
      "source": [
        "From this we understand and get details about columns like donor_age, recipient_age, survival_time.\n",
        "Now lets find some correlation between the columns to understand in deep and see which columns are highly correlated to each other."
      ],
      "metadata": {
        "id": "TKfOlLM9bh89"
      }
    },
    {
      "cell_type": "code",
      "source": [
        "df1.corr()"
      ],
      "metadata": {
        "colab": {
          "base_uri": "https://localhost:8080/",
          "height": 454
        },
        "id": "b7dqWrcaZHRq",
        "outputId": "22bf2a6e-143c-4a97-ebbe-b27a7d56001e"
      },
      "execution_count": 36,
      "outputs": [
        {
          "output_type": "execute_result",
          "data": {
            "text/plain": [
              "                           donor_age  recipient_age  recipient_body_mass  \\\n",
              "donor_age                   1.000000       0.108004             0.117163   \n",
              "recipient_age               0.108004       1.000000             0.899224   \n",
              "recipient_body_mass         0.117163       0.899224             1.000000   \n",
              "CD34_x1e6_per_kg            0.072688      -0.449140            -0.465749   \n",
              "CD3_x1e8_per_kg             0.023555      -0.430737            -0.453562   \n",
              "CD3_to_CD34_ratio           0.144919       0.053913             0.061390   \n",
              "ANC_recovery                0.043048       0.100065             0.138942   \n",
              "PLT_recovery               -0.036596       0.095220             0.124542   \n",
              "time_to_acute_GvHD_III_IV   0.004617       0.151632             0.144678   \n",
              "survival_time              -0.007969      -0.125605            -0.140770   \n",
              "survival_status             0.076684       0.192496             0.233687   \n",
              "\n",
              "                           CD34_x1e6_per_kg  CD3_x1e8_per_kg  \\\n",
              "donor_age                          0.072688         0.023555   \n",
              "recipient_age                     -0.449140        -0.430737   \n",
              "recipient_body_mass               -0.465749        -0.453562   \n",
              "CD34_x1e6_per_kg                   1.000000         0.583284   \n",
              "CD3_x1e8_per_kg                    0.583284         1.000000   \n",
              "CD3_to_CD34_ratio                 -0.130573        -0.370918   \n",
              "ANC_recovery                      -0.083503        -0.099749   \n",
              "PLT_recovery                      -0.181134        -0.113199   \n",
              "time_to_acute_GvHD_III_IV          0.003353        -0.035355   \n",
              "survival_time                      0.158333         0.060991   \n",
              "survival_status                   -0.163262        -0.232331   \n",
              "\n",
              "                           CD3_to_CD34_ratio  ANC_recovery  PLT_recovery  \\\n",
              "donor_age                           0.144919      0.043048     -0.036596   \n",
              "recipient_age                       0.053913      0.100065      0.095220   \n",
              "recipient_body_mass                 0.061390      0.138942      0.124542   \n",
              "CD34_x1e6_per_kg                   -0.130573     -0.083503     -0.181134   \n",
              "CD3_x1e8_per_kg                    -0.370918     -0.099749     -0.113199   \n",
              "CD3_to_CD34_ratio                   1.000000      0.024662     -0.010890   \n",
              "ANC_recovery                        0.024662      1.000000      0.482855   \n",
              "PLT_recovery                       -0.010890      0.482855      1.000000   \n",
              "time_to_acute_GvHD_III_IV           0.030236      0.080836     -0.064819   \n",
              "survival_time                       0.044016     -0.167104     -0.324675   \n",
              "survival_status                     0.089868      0.167394      0.346661   \n",
              "\n",
              "                           time_to_acute_GvHD_III_IV  survival_time  \\\n",
              "donor_age                                   0.004617      -0.007969   \n",
              "recipient_age                               0.151632      -0.125605   \n",
              "recipient_body_mass                         0.144678      -0.140770   \n",
              "CD34_x1e6_per_kg                            0.003353       0.158333   \n",
              "CD3_x1e8_per_kg                            -0.035355       0.060991   \n",
              "CD3_to_CD34_ratio                           0.030236       0.044016   \n",
              "ANC_recovery                                0.080836      -0.167104   \n",
              "PLT_recovery                               -0.064819      -0.324675   \n",
              "time_to_acute_GvHD_III_IV                   1.000000       0.127033   \n",
              "survival_time                               0.127033       1.000000   \n",
              "survival_status                            -0.099316      -0.756694   \n",
              "\n",
              "                           survival_status  \n",
              "donor_age                         0.076684  \n",
              "recipient_age                     0.192496  \n",
              "recipient_body_mass               0.233687  \n",
              "CD34_x1e6_per_kg                 -0.163262  \n",
              "CD3_x1e8_per_kg                  -0.232331  \n",
              "CD3_to_CD34_ratio                 0.089868  \n",
              "ANC_recovery                      0.167394  \n",
              "PLT_recovery                      0.346661  \n",
              "time_to_acute_GvHD_III_IV        -0.099316  \n",
              "survival_time                    -0.756694  \n",
              "survival_status                   1.000000  "
            ],
            "text/html": [
              "\n",
              "  <div id=\"df-b7236b1b-a2bb-4a25-9c1d-466d26fa9985\">\n",
              "    <div class=\"colab-df-container\">\n",
              "      <div>\n",
              "<style scoped>\n",
              "    .dataframe tbody tr th:only-of-type {\n",
              "        vertical-align: middle;\n",
              "    }\n",
              "\n",
              "    .dataframe tbody tr th {\n",
              "        vertical-align: top;\n",
              "    }\n",
              "\n",
              "    .dataframe thead th {\n",
              "        text-align: right;\n",
              "    }\n",
              "</style>\n",
              "<table border=\"1\" class=\"dataframe\">\n",
              "  <thead>\n",
              "    <tr style=\"text-align: right;\">\n",
              "      <th></th>\n",
              "      <th>donor_age</th>\n",
              "      <th>recipient_age</th>\n",
              "      <th>recipient_body_mass</th>\n",
              "      <th>CD34_x1e6_per_kg</th>\n",
              "      <th>CD3_x1e8_per_kg</th>\n",
              "      <th>CD3_to_CD34_ratio</th>\n",
              "      <th>ANC_recovery</th>\n",
              "      <th>PLT_recovery</th>\n",
              "      <th>time_to_acute_GvHD_III_IV</th>\n",
              "      <th>survival_time</th>\n",
              "      <th>survival_status</th>\n",
              "    </tr>\n",
              "  </thead>\n",
              "  <tbody>\n",
              "    <tr>\n",
              "      <th>donor_age</th>\n",
              "      <td>1.000000</td>\n",
              "      <td>0.108004</td>\n",
              "      <td>0.117163</td>\n",
              "      <td>0.072688</td>\n",
              "      <td>0.023555</td>\n",
              "      <td>0.144919</td>\n",
              "      <td>0.043048</td>\n",
              "      <td>-0.036596</td>\n",
              "      <td>0.004617</td>\n",
              "      <td>-0.007969</td>\n",
              "      <td>0.076684</td>\n",
              "    </tr>\n",
              "    <tr>\n",
              "      <th>recipient_age</th>\n",
              "      <td>0.108004</td>\n",
              "      <td>1.000000</td>\n",
              "      <td>0.899224</td>\n",
              "      <td>-0.449140</td>\n",
              "      <td>-0.430737</td>\n",
              "      <td>0.053913</td>\n",
              "      <td>0.100065</td>\n",
              "      <td>0.095220</td>\n",
              "      <td>0.151632</td>\n",
              "      <td>-0.125605</td>\n",
              "      <td>0.192496</td>\n",
              "    </tr>\n",
              "    <tr>\n",
              "      <th>recipient_body_mass</th>\n",
              "      <td>0.117163</td>\n",
              "      <td>0.899224</td>\n",
              "      <td>1.000000</td>\n",
              "      <td>-0.465749</td>\n",
              "      <td>-0.453562</td>\n",
              "      <td>0.061390</td>\n",
              "      <td>0.138942</td>\n",
              "      <td>0.124542</td>\n",
              "      <td>0.144678</td>\n",
              "      <td>-0.140770</td>\n",
              "      <td>0.233687</td>\n",
              "    </tr>\n",
              "    <tr>\n",
              "      <th>CD34_x1e6_per_kg</th>\n",
              "      <td>0.072688</td>\n",
              "      <td>-0.449140</td>\n",
              "      <td>-0.465749</td>\n",
              "      <td>1.000000</td>\n",
              "      <td>0.583284</td>\n",
              "      <td>-0.130573</td>\n",
              "      <td>-0.083503</td>\n",
              "      <td>-0.181134</td>\n",
              "      <td>0.003353</td>\n",
              "      <td>0.158333</td>\n",
              "      <td>-0.163262</td>\n",
              "    </tr>\n",
              "    <tr>\n",
              "      <th>CD3_x1e8_per_kg</th>\n",
              "      <td>0.023555</td>\n",
              "      <td>-0.430737</td>\n",
              "      <td>-0.453562</td>\n",
              "      <td>0.583284</td>\n",
              "      <td>1.000000</td>\n",
              "      <td>-0.370918</td>\n",
              "      <td>-0.099749</td>\n",
              "      <td>-0.113199</td>\n",
              "      <td>-0.035355</td>\n",
              "      <td>0.060991</td>\n",
              "      <td>-0.232331</td>\n",
              "    </tr>\n",
              "    <tr>\n",
              "      <th>CD3_to_CD34_ratio</th>\n",
              "      <td>0.144919</td>\n",
              "      <td>0.053913</td>\n",
              "      <td>0.061390</td>\n",
              "      <td>-0.130573</td>\n",
              "      <td>-0.370918</td>\n",
              "      <td>1.000000</td>\n",
              "      <td>0.024662</td>\n",
              "      <td>-0.010890</td>\n",
              "      <td>0.030236</td>\n",
              "      <td>0.044016</td>\n",
              "      <td>0.089868</td>\n",
              "    </tr>\n",
              "    <tr>\n",
              "      <th>ANC_recovery</th>\n",
              "      <td>0.043048</td>\n",
              "      <td>0.100065</td>\n",
              "      <td>0.138942</td>\n",
              "      <td>-0.083503</td>\n",
              "      <td>-0.099749</td>\n",
              "      <td>0.024662</td>\n",
              "      <td>1.000000</td>\n",
              "      <td>0.482855</td>\n",
              "      <td>0.080836</td>\n",
              "      <td>-0.167104</td>\n",
              "      <td>0.167394</td>\n",
              "    </tr>\n",
              "    <tr>\n",
              "      <th>PLT_recovery</th>\n",
              "      <td>-0.036596</td>\n",
              "      <td>0.095220</td>\n",
              "      <td>0.124542</td>\n",
              "      <td>-0.181134</td>\n",
              "      <td>-0.113199</td>\n",
              "      <td>-0.010890</td>\n",
              "      <td>0.482855</td>\n",
              "      <td>1.000000</td>\n",
              "      <td>-0.064819</td>\n",
              "      <td>-0.324675</td>\n",
              "      <td>0.346661</td>\n",
              "    </tr>\n",
              "    <tr>\n",
              "      <th>time_to_acute_GvHD_III_IV</th>\n",
              "      <td>0.004617</td>\n",
              "      <td>0.151632</td>\n",
              "      <td>0.144678</td>\n",
              "      <td>0.003353</td>\n",
              "      <td>-0.035355</td>\n",
              "      <td>0.030236</td>\n",
              "      <td>0.080836</td>\n",
              "      <td>-0.064819</td>\n",
              "      <td>1.000000</td>\n",
              "      <td>0.127033</td>\n",
              "      <td>-0.099316</td>\n",
              "    </tr>\n",
              "    <tr>\n",
              "      <th>survival_time</th>\n",
              "      <td>-0.007969</td>\n",
              "      <td>-0.125605</td>\n",
              "      <td>-0.140770</td>\n",
              "      <td>0.158333</td>\n",
              "      <td>0.060991</td>\n",
              "      <td>0.044016</td>\n",
              "      <td>-0.167104</td>\n",
              "      <td>-0.324675</td>\n",
              "      <td>0.127033</td>\n",
              "      <td>1.000000</td>\n",
              "      <td>-0.756694</td>\n",
              "    </tr>\n",
              "    <tr>\n",
              "      <th>survival_status</th>\n",
              "      <td>0.076684</td>\n",
              "      <td>0.192496</td>\n",
              "      <td>0.233687</td>\n",
              "      <td>-0.163262</td>\n",
              "      <td>-0.232331</td>\n",
              "      <td>0.089868</td>\n",
              "      <td>0.167394</td>\n",
              "      <td>0.346661</td>\n",
              "      <td>-0.099316</td>\n",
              "      <td>-0.756694</td>\n",
              "      <td>1.000000</td>\n",
              "    </tr>\n",
              "  </tbody>\n",
              "</table>\n",
              "</div>\n",
              "      <button class=\"colab-df-convert\" onclick=\"convertToInteractive('df-b7236b1b-a2bb-4a25-9c1d-466d26fa9985')\"\n",
              "              title=\"Convert this dataframe to an interactive table.\"\n",
              "              style=\"display:none;\">\n",
              "        \n",
              "  <svg xmlns=\"http://www.w3.org/2000/svg\" height=\"24px\"viewBox=\"0 0 24 24\"\n",
              "       width=\"24px\">\n",
              "    <path d=\"M0 0h24v24H0V0z\" fill=\"none\"/>\n",
              "    <path d=\"M18.56 5.44l.94 2.06.94-2.06 2.06-.94-2.06-.94-.94-2.06-.94 2.06-2.06.94zm-11 1L8.5 8.5l.94-2.06 2.06-.94-2.06-.94L8.5 2.5l-.94 2.06-2.06.94zm10 10l.94 2.06.94-2.06 2.06-.94-2.06-.94-.94-2.06-.94 2.06-2.06.94z\"/><path d=\"M17.41 7.96l-1.37-1.37c-.4-.4-.92-.59-1.43-.59-.52 0-1.04.2-1.43.59L10.3 9.45l-7.72 7.72c-.78.78-.78 2.05 0 2.83L4 21.41c.39.39.9.59 1.41.59.51 0 1.02-.2 1.41-.59l7.78-7.78 2.81-2.81c.8-.78.8-2.07 0-2.86zM5.41 20L4 18.59l7.72-7.72 1.47 1.35L5.41 20z\"/>\n",
              "  </svg>\n",
              "      </button>\n",
              "      \n",
              "  <style>\n",
              "    .colab-df-container {\n",
              "      display:flex;\n",
              "      flex-wrap:wrap;\n",
              "      gap: 12px;\n",
              "    }\n",
              "\n",
              "    .colab-df-convert {\n",
              "      background-color: #E8F0FE;\n",
              "      border: none;\n",
              "      border-radius: 50%;\n",
              "      cursor: pointer;\n",
              "      display: none;\n",
              "      fill: #1967D2;\n",
              "      height: 32px;\n",
              "      padding: 0 0 0 0;\n",
              "      width: 32px;\n",
              "    }\n",
              "\n",
              "    .colab-df-convert:hover {\n",
              "      background-color: #E2EBFA;\n",
              "      box-shadow: 0px 1px 2px rgba(60, 64, 67, 0.3), 0px 1px 3px 1px rgba(60, 64, 67, 0.15);\n",
              "      fill: #174EA6;\n",
              "    }\n",
              "\n",
              "    [theme=dark] .colab-df-convert {\n",
              "      background-color: #3B4455;\n",
              "      fill: #D2E3FC;\n",
              "    }\n",
              "\n",
              "    [theme=dark] .colab-df-convert:hover {\n",
              "      background-color: #434B5C;\n",
              "      box-shadow: 0px 1px 3px 1px rgba(0, 0, 0, 0.15);\n",
              "      filter: drop-shadow(0px 1px 2px rgba(0, 0, 0, 0.3));\n",
              "      fill: #FFFFFF;\n",
              "    }\n",
              "  </style>\n",
              "\n",
              "      <script>\n",
              "        const buttonEl =\n",
              "          document.querySelector('#df-b7236b1b-a2bb-4a25-9c1d-466d26fa9985 button.colab-df-convert');\n",
              "        buttonEl.style.display =\n",
              "          google.colab.kernel.accessAllowed ? 'block' : 'none';\n",
              "\n",
              "        async function convertToInteractive(key) {\n",
              "          const element = document.querySelector('#df-b7236b1b-a2bb-4a25-9c1d-466d26fa9985');\n",
              "          const dataTable =\n",
              "            await google.colab.kernel.invokeFunction('convertToInteractive',\n",
              "                                                     [key], {});\n",
              "          if (!dataTable) return;\n",
              "\n",
              "          const docLinkHtml = 'Like what you see? Visit the ' +\n",
              "            '<a target=\"_blank\" href=https://colab.research.google.com/notebooks/data_table.ipynb>data table notebook</a>'\n",
              "            + ' to learn more about interactive tables.';\n",
              "          element.innerHTML = '';\n",
              "          dataTable['output_type'] = 'display_data';\n",
              "          await google.colab.output.renderOutput(dataTable, element);\n",
              "          const docLink = document.createElement('div');\n",
              "          docLink.innerHTML = docLinkHtml;\n",
              "          element.appendChild(docLink);\n",
              "        }\n",
              "      </script>\n",
              "    </div>\n",
              "  </div>\n",
              "  "
            ]
          },
          "metadata": {},
          "execution_count": 36
        }
      ]
    },
    {
      "cell_type": "markdown",
      "source": [
        "lets plot this correlation with a heatmap to understand better."
      ],
      "metadata": {
        "id": "hOBrDMmoif_y"
      }
    },
    {
      "cell_type": "code",
      "source": [
        "plt.figure(figsize=(7,5))\n",
        "df1.corr()\n",
        "sns.heatmap(df1.corr(),annot=True)"
      ],
      "metadata": {
        "colab": {
          "base_uri": "https://localhost:8080/",
          "height": 463
        },
        "id": "ZHXTdliqiSme",
        "outputId": "bb2c4584-fe6a-411f-ffaf-decebaf41d92"
      },
      "execution_count": 39,
      "outputs": [
        {
          "output_type": "execute_result",
          "data": {
            "text/plain": [
              "<matplotlib.axes._subplots.AxesSubplot at 0x7f364967d510>"
            ]
          },
          "metadata": {},
          "execution_count": 39
        },
        {
          "output_type": "display_data",
          "data": {
            "text/plain": [
              "<Figure size 504x360 with 2 Axes>"
            ],
            "image/png": "[encoded data removed]"
          },
          "metadata": {
            "needs_background": "light"
          }
        }
      ]
    },
    {
      "cell_type": "markdown",
      "source": [
        "As we see the column CD34_xle6_per_kg is highly correlated to recipient_body_mass. lets see some more plots and relations."
      ],
      "metadata": {
        "id": "iqHN5ubJitVS"
      }
    },
    {
      "cell_type": "code",
      "source": [
        "sns.lmplot(x='survival_time',y='recipient_age', hue = 'recipient_gender',data=df1)"
      ],
      "metadata": {
        "colab": {
          "base_uri": "https://localhost:8080/",
          "height": 386
        },
        "id": "e9VTkEp7ilXT",
        "outputId": "4ffd67d3-e158-4542-aa7d-de5ac7b5b539"
      },
      "execution_count": 41,
      "outputs": [
        {
          "output_type": "execute_result",
          "data": {
            "text/plain": [
              "<seaborn.axisgrid.FacetGrid at 0x7f36496ae3d0>"
            ]
          },
          "metadata": {},
          "execution_count": 41
        },
        {
          "output_type": "display_data",
          "data": {
            "text/plain": [
              "<Figure size 452.375x360 with 1 Axes>"
            ],
            "image/png": "[encoded data removed]"
          },
          "metadata": {
            "needs_background": "light"
          }
        }
      ]
    },
    {
      "cell_type": "markdown",
      "source": [
        "As we can see the survival age is mostly from the age between 10 to 11 years."
      ],
      "metadata": {
        "id": "eNKi1fUVk8fk"
      }
    },
    {
      "cell_type": "code",
      "source": [
        "sns.lmplot(x='donor_age', y='recipient_age', data=df1)"
      ],
      "metadata": {
        "colab": {
          "base_uri": "https://localhost:8080/",
          "height": 386
        },
        "id": "ut9OAGTfkhug",
        "outputId": "a30e8e86-665d-401f-f0c5-d887b33937cc"
      },
      "execution_count": 42,
      "outputs": [
        {
          "output_type": "execute_result",
          "data": {
            "text/plain": [
              "<seaborn.axisgrid.FacetGrid at 0x7f364968dc10>"
            ]
          },
          "metadata": {},
          "execution_count": 42
        },
        {
          "output_type": "display_data",
          "data": {
            "text/plain": [
              "<Figure size 360x360 with 1 Axes>"
            ],
            "image/png": "[encoded data removed]"
          },
          "metadata": {
            "needs_background": "light"
          }
        }
      ]
    },
    {
      "cell_type": "markdown",
      "source": [
        "From this we can see the recipient age is young, not even 15 years compared to the donors who range from 20 to 45 years of age.\n"
      ],
      "metadata": {
        "id": "pg7OC0A7lIzl"
      }
    },
    {
      "cell_type": "code",
      "source": [
        "sns.lmplot(x='PLT_recovery',y='recipient_age', hue = 'survival_status',data=df1)"
      ],
      "metadata": {
        "colab": {
          "base_uri": "https://localhost:8080/",
          "height": 386
        },
        "id": "3qX3dK_Zk1VH",
        "outputId": "4a7d3ff0-a86a-4f8b-e73d-e54f284d35c1"
      },
      "execution_count": 45,
      "outputs": [
        {
          "output_type": "execute_result",
          "data": {
            "text/plain": [
              "<seaborn.axisgrid.FacetGrid at 0x7f364709ced0>"
            ]
          },
          "metadata": {},
          "execution_count": 45
        },
        {
          "output_type": "display_data",
          "data": {
            "text/plain": [
              "<Figure size 443.125x360 with 1 Axes>"
            ],
            "image/png": "[encoded data removed]"
          },
          "metadata": {
            "needs_background": "light"
          }
        }
      ]
    },
    {
      "cell_type": "markdown",
      "source": [
        "We can see that there is a high chance of survival_status with increase in platlette counts."
      ],
      "metadata": {
        "id": "Q42WgzoqnUED"
      }
    },
    {
      "cell_type": "code",
      "source": [
        "px.violin(df1,y= 'recipient_age',x ='disease_group')"
      ],
      "metadata": {
        "colab": {
          "base_uri": "https://localhost:8080/",
          "height": 542
        },
        "id": "JP7Vzv8JmxLi",
        "outputId": "d01a837a-7b85-4229-9b9d-d2b39679f655"
      },
      "execution_count": 47,
      "outputs": [
        {
          "output_type": "display_data",
          "data": {
            "text/html": [
              "<html>\n",
              "<head><meta charset=\"utf-8\" /></head>\n",
              "<body>\n",
              "    <div>            <script src=\"https://cdnjs.cloudflare.com/ajax/libs/mathjax/2.7.5/MathJax.js?config=TeX-AMS-MML_SVG\"></script><script type=\"text/javascript\">if (window.MathJax) {MathJax.Hub.Config({SVG: {font: \"STIX-Web\"}});}</script>                <script type=\"text/javascript\">window.PlotlyConfig = {MathJaxConfig: 'local'};</script>\n",
              "        <script src=\"https://cdn.plot.ly/plotly-2.8.3.min.js\"></script>                <div id=\"a2ff864a-65fa-4570-aae3-3888bbfdd387\" class=\"plotly-graph-div\" style=\"height:525px; width:100%;\"></div>            <script type=\"text/javascript\">                                    window.PLOTLYENV=window.PLOTLYENV || {};                                    if (document.getElementById(\"a2ff864a-65fa-4570-aae3-3888bbfdd387\")) {                    Plotly.newPlot(                        \"a2ff864a-65fa-4570-aae3-3888bbfdd387\",                        [{\"alignmentgroup\":\"True\",\"box\":{\"visible\":false},\"hovertemplate\":\"disease_group=%{x}<br>recipient_age=%{y}<extra></extra>\",\"legendgroup\":\"\",\"marker\":{\"color\":\"#636efa\"},\"name\":\"\",\"offsetgroup\":\"\",\"orientation\":\"v\",\"scalegroup\":\"True\",\"showlegend\":false,\"x\":[\"malignant\",\"malignant\",\"malignant\",\"malignant\",\"malignant\",\"malignant\",\"malignant\",\"nonmalignant\",\"nonmalignant\",\"malignant\",\"malignant\",\"malignant\",\"malignant\",\"malignant\",\"malignant\",\"malignant\",\"malignant\",\"malignant\",\"malignant\",\"malignant\",\"nonmalignant\",\"malignant\",\"nonmalignant\",\"malignant\",\"nonmalignant\",\"nonmalignant\",\"malignant\",\"malignant\",\"malignant\",\"malignant\",\"malignant\",\"malignant\",\"nonmalignant\",\"malignant\",\"malignant\",\"nonmalignant\",\"malignant\",\"malignant\",\"malignant\",\"malignant\",\"malignant\",\"malignant\",\"nonmalignant\",\"malignant\",\"malignant\",\"malignant\",\"nonmalignant\",\"malignant\",\"malignant\",\"malignant\",\"malignant\",\"nonmalignant\",\"nonmalignant\",\"nonmalignant\",\"nonmalignant\",\"nonmalignant\",\"malignant\",\"nonmalignant\",\"malignant\",\"malignant\",\"nonmalignant\",\"malignant\",\"malignant\",\"malignant\",\"malignant\",\"malignant\",\"malignant\",\"nonmalignant\",\"malignant\",\"malignant\",\"malignant\",\"nonmalignant\",\"malignant\",\"malignant\",\"malignant\",\"malignant\",\"malignant\",\"malignant\",\"malignant\",\"malignant\",\"malignant\",\"malignant\",\"malignant\",\"nonmalignant\",\"malignant\",\"malignant\",\"malignant\",\"nonmalignant\",\"malignant\",\"nonmalignant\",\"malignant\",\"malignant\",\"malignant\",\"malignant\",\"malignant\",\"malignant\",\"malignant\",\"nonmalignant\",\"malignant\",\"malignant\",\"malignant\",\"malignant\",\"malignant\",\"malignant\",\"nonmalignant\",\"malignant\",\"malignant\",\"malignant\",\"malignant\",\"malignant\",\"nonmalignant\",\"malignant\",\"malignant\",\"malignant\",\"nonmalignant\",\"malignant\",\"malignant\",\"malignant\",\"malignant\",\"malignant\",\"malignant\",\"malignant\",\"malignant\",\"malignant\",\"malignant\",\"malignant\",\"nonmalignant\",\"malignant\",\"malignant\",\"malignant\",\"malignant\",\"malignant\",\"malignant\",\"malignant\",\"malignant\",\"malignant\",\"malignant\",\"malignant\",\"malignant\",\"malignant\",\"malignant\",\"malignant\",\"malignant\",\"malignant\",\"malignant\",\"malignant\",\"malignant\",\"malignant\",\"malignant\",\"malignant\",\"malignant\",\"malignant\",\"malignant\",\"malignant\",\"malignant\",\"malignant\",\"malignant\",\"malignant\",\"malignant\",\"malignant\",\"malignant\",\"nonmalignant\",\"malignant\",\"malignant\",\"malignant\",\"malignant\",\"malignant\",\"malignant\",\"malignant\",\"malignant\",\"malignant\",\"nonmalignant\",\"malignant\",\"malignant\",\"malignant\",\"malignant\",\"malignant\",\"malignant\",\"malignant\",\"nonmalignant\",\"malignant\",\"nonmalignant\"],\"x0\":\" \",\"xaxis\":\"x\",\"y\":[9.6,4.0,6.6,18.1,1.3,8.9,14.4,7.9,4.7,1.9,13.4,5.1,11.5,17.8,13.5,17.9,4.7,0.6,17.7,14.7,9.7,13.9,10.9,6.7,8.5,0.7,4.7,2.8,8.4,8.6,4.6,3.1,10.9,1.7,1.6,16.6,2.2,2.1,13.3,13.8,3.1,4.1,9.9,11.4,13.4,11.3,12.1,8.5,15.1,8.3,6.9,4.9,5.0,6.5,1.8,3.4,2.3,7.9,2.8,12.6,4.5,15.6,18.4,14.0,14.2,12.7,11.5,3.9,14.8,12.2,11.8,11.3,13.5,13.5,17.8,3.8,6.5,7.4,5.5,9.2,14.1,12.1,15.5,3.9,20.2,1.7,18.2,8.2,15.4,7.6,9.4,14.0,15.3,7.2,5.7,6.1,11.5,3.2,9.5,17.3,3.1,16.5,7.7,18.7,5.6,7.7,9.0,5.4,7.3,17.8,8.1,7.1,6.7,12.7,4.5,17.5,1.3,1.3,16.7,15.1,20.1,17.8,2.3,11.6,17.7,7.7,17.9,2.0,17.4,16.0,9.0,14.7,18.8,16.0,18.9,16.6,3.3,5.2,6.0,3.4,17.0,6.8,18.2,13.7,5.1,18.3,14.0,13.0,13.5,12.2,10.0,15.5,12.9,3.0,11.5,14.1,8.5,5.0,13.4,6.4,4.2,4.4,9.6,12.5,9.7,11.2,3.6,2.9,17.8,16.1,3.4,4.3,12.7,8.8,7.5,4.8,8.8,12.9,13.9,10.4,8.0,9.5],\"y0\":\" \",\"yaxis\":\"y\",\"type\":\"violin\"}],                        {\"template\":{\"data\":{\"bar\":[{\"error_x\":{\"color\":\"#2a3f5f\"},\"error_y\":{\"color\":\"#2a3f5f\"},\"marker\":{\"line\":{\"color\":\"#E5ECF6\",\"width\":0.5},\"pattern\":{\"fillmode\":\"overlay\",\"size\":10,\"solidity\":0.2}},\"type\":\"bar\"}],\"barpolar\":[{\"marker\":{\"line\":{\"color\":\"#E5ECF6\",\"width\":0.5},\"pattern\":{\"fillmode\":\"overlay\",\"size\":10,\"solidity\":0.2}},\"type\":\"barpolar\"}],\"carpet\":[{\"aaxis\":{\"endlinecolor\":\"#2a3f5f\",\"gridcolor\":\"white\",\"linecolor\":\"white\",\"minorgridcolor\":\"white\",\"startlinecolor\":\"#2a3f5f\"},\"baxis\":{\"endlinecolor\":\"#2a3f5f\",\"gridcolor\":\"white\",\"linecolor\":\"white\",\"minorgridcolor\":\"white\",\"startlinecolor\":\"#2a3f5f\"},\"type\":\"carpet\"}],\"choropleth\":[{\"colorbar\":{\"outlinewidth\":0,\"ticks\":\"\"},\"type\":\"choropleth\"}],\"contour\":[{\"colorbar\":{\"outlinewidth\":0,\"ticks\":\"\"},\"colorscale\":[[0.0,\"#0d0887\"],[0.1111111111111111,\"#46039f\"],[0.2222222222222222,\"#7201a8\"],[0.3333333333333333,\"#9c179e\"],[0.4444444444444444,\"#bd3786\"],[0.5555555555555556,\"#d8576b\"],[0.6666666666666666,\"#ed7953\"],[0.7777777777777778,\"#fb9f3a\"],[0.8888888888888888,\"#fdca26\"],[1.0,\"#f0f921\"]],\"type\":\"contour\"}],\"contourcarpet\":[{\"colorbar\":{\"outlinewidth\":0,\"ticks\":\"\"},\"type\":\"contourcarpet\"}],\"heatmap\":[{\"colorbar\":{\"outlinewidth\":0,\"ticks\":\"\"},\"colorscale\":[[0.0,\"#0d0887\"],[0.1111111111111111,\"#46039f\"],[0.2222222222222222,\"#7201a8\"],[0.3333333333333333,\"#9c179e\"],[0.4444444444444444,\"#bd3786\"],[0.5555555555555556,\"#d8576b\"],[0.6666666666666666,\"#ed7953\"],[0.7777777777777778,\"#fb9f3a\"],[0.8888888888888888,\"#fdca26\"],[1.0,\"#f0f921\"]],\"type\":\"heatmap\"}],\"heatmapgl\":[{\"colorbar\":{\"outlinewidth\":0,\"ticks\":\"\"},\"colorscale\":[[0.0,\"#0d0887\"],[0.1111111111111111,\"#46039f\"],[0.2222222222222222,\"#7201a8\"],[0.3333333333333333,\"#9c179e\"],[0.4444444444444444,\"#bd3786\"],[0.5555555555555556,\"#d8576b\"],[0.6666666666666666,\"#ed7953\"],[0.7777777777777778,\"#fb9f3a\"],[0.8888888888888888,\"#fdca26\"],[1.0,\"#f0f921\"]],\"type\":\"heatmapgl\"}],\"histogram\":[{\"marker\":{\"pattern\":{\"fillmode\":\"overlay\",\"size\":10,\"solidity\":0.2}},\"type\":\"histogram\"}],\"histogram2d\":[{\"colorbar\":{\"outlinewidth\":0,\"ticks\":\"\"},\"colorscale\":[[0.0,\"#0d0887\"],[0.1111111111111111,\"#46039f\"],[0.2222222222222222,\"#7201a8\"],[0.3333333333333333,\"#9c179e\"],[0.4444444444444444,\"#bd3786\"],[0.5555555555555556,\"#d8576b\"],[0.6666666666666666,\"#ed7953\"],[0.7777777777777778,\"#fb9f3a\"],[0.8888888888888888,\"#fdca26\"],[1.0,\"#f0f921\"]],\"type\":\"histogram2d\"}],\"histogram2dcontour\":[{\"colorbar\":{\"outlinewidth\":0,\"ticks\":\"\"},\"colorscale\":[[0.0,\"#0d0887\"],[0.1111111111111111,\"#46039f\"],[0.2222222222222222,\"#7201a8\"],[0.3333333333333333,\"#9c179e\"],[0.4444444444444444,\"#bd3786\"],[0.5555555555555556,\"#d8576b\"],[0.6666666666666666,\"#ed7953\"],[0.7777777777777778,\"#fb9f3a\"],[0.8888888888888888,\"#fdca26\"],[1.0,\"#f0f921\"]],\"type\":\"histogram2dcontour\"}],\"mesh3d\":[{\"colorbar\":{\"outlinewidth\":0,\"ticks\":\"\"},\"type\":\"mesh3d\"}],\"parcoords\":[{\"line\":{\"colorbar\":{\"outlinewidth\":0,\"ticks\":\"\"}},\"type\":\"parcoords\"}],\"pie\":[{\"automargin\":true,\"type\":\"pie\"}],\"scatter\":[{\"marker\":{\"colorbar\":{\"outlinewidth\":0,\"ticks\":\"\"}},\"type\":\"scatter\"}],\"scatter3d\":[{\"line\":{\"colorbar\":{\"outlinewidth\":0,\"ticks\":\"\"}},\"marker\":{\"colorbar\":{\"outlinewidth\":0,\"ticks\":\"\"}},\"type\":\"scatter3d\"}],\"scattercarpet\":[{\"marker\":{\"colorbar\":{\"outlinewidth\":0,\"ticks\":\"\"}},\"type\":\"scattercarpet\"}],\"scattergeo\":[{\"marker\":{\"colorbar\":{\"outlinewidth\":0,\"ticks\":\"\"}},\"type\":\"scattergeo\"}],\"scattergl\":[{\"marker\":{\"colorbar\":{\"outlinewidth\":0,\"ticks\":\"\"}},\"type\":\"scattergl\"}],\"scattermapbox\":[{\"marker\":{\"colorbar\":{\"outlinewidth\":0,\"ticks\":\"\"}},\"type\":\"scattermapbox\"}],\"scatterpolar\":[{\"marker\":{\"colorbar\":{\"outlinewidth\":0,\"ticks\":\"\"}},\"type\":\"scatterpolar\"}],\"scatterpolargl\":[{\"marker\":{\"colorbar\":{\"outlinewidth\":0,\"ticks\":\"\"}},\"type\":\"scatterpolargl\"}],\"scatterternary\":[{\"marker\":{\"colorbar\":{\"outlinewidth\":0,\"ticks\":\"\"}},\"type\":\"scatterternary\"}],\"surface\":[{\"colorbar\":{\"outlinewidth\":0,\"ticks\":\"\"},\"colorscale\":[[0.0,\"#0d0887\"],[0.1111111111111111,\"#46039f\"],[0.2222222222222222,\"#7201a8\"],[0.3333333333333333,\"#9c179e\"],[0.4444444444444444,\"#bd3786\"],[0.5555555555555556,\"#d8576b\"],[0.6666666666666666,\"#ed7953\"],[0.7777777777777778,\"#fb9f3a\"],[0.8888888888888888,\"#fdca26\"],[1.0,\"#f0f921\"]],\"type\":\"surface\"}],\"table\":[{\"cells\":{\"fill\":{\"color\":\"#EBF0F8\"},\"line\":{\"color\":\"white\"}},\"header\":{\"fill\":{\"color\":\"#C8D4E3\"},\"line\":{\"color\":\"white\"}},\"type\":\"table\"}]},\"layout\":{\"annotationdefaults\":{\"arrowcolor\":\"#2a3f5f\",\"arrowhead\":0,\"arrowwidth\":1},\"autotypenumbers\":\"strict\",\"coloraxis\":{\"colorbar\":{\"outlinewidth\":0,\"ticks\":\"\"}},\"colorscale\":{\"diverging\":[[0,\"#8e0152\"],[0.1,\"#c51b7d\"],[0.2,\"#de77ae\"],[0.3,\"#f1b6da\"],[0.4,\"#fde0ef\"],[0.5,\"#f7f7f7\"],[0.6,\"#e6f5d0\"],[0.7,\"#b8e186\"],[0.8,\"#7fbc41\"],[0.9,\"#4d9221\"],[1,\"#276419\"]],\"sequential\":[[0.0,\"#0d0887\"],[0.1111111111111111,\"#46039f\"],[0.2222222222222222,\"#7201a8\"],[0.3333333333333333,\"#9c179e\"],[0.4444444444444444,\"#bd3786\"],[0.5555555555555556,\"#d8576b\"],[0.6666666666666666,\"#ed7953\"],[0.7777777777777778,\"#fb9f3a\"],[0.8888888888888888,\"#fdca26\"],[1.0,\"#f0f921\"]],\"sequentialminus\":[[0.0,\"#0d0887\"],[0.1111111111111111,\"#46039f\"],[0.2222222222222222,\"#7201a8\"],[0.3333333333333333,\"#9c179e\"],[0.4444444444444444,\"#bd3786\"],[0.5555555555555556,\"#d8576b\"],[0.6666666666666666,\"#ed7953\"],[0.7777777777777778,\"#fb9f3a\"],[0.8888888888888888,\"#fdca26\"],[1.0,\"#f0f921\"]]},\"colorway\":[\"#636efa\",\"#EF553B\",\"#00cc96\",\"#ab63fa\",\"#FFA15A\",\"#19d3f3\",\"#FF6692\",\"#B6E880\",\"#FF97FF\",\"#FECB52\"],\"font\":{\"color\":\"#2a3f5f\"},\"geo\":{\"bgcolor\":\"white\",\"lakecolor\":\"white\",\"landcolor\":\"#E5ECF6\",\"showlakes\":true,\"showland\":true,\"subunitcolor\":\"white\"},\"hoverlabel\":{\"align\":\"left\"},\"hovermode\":\"closest\",\"mapbox\":{\"style\":\"light\"},\"paper_bgcolor\":\"white\",\"plot_bgcolor\":\"#E5ECF6\",\"polar\":{\"angularaxis\":{\"gridcolor\":\"white\",\"linecolor\":\"white\",\"ticks\":\"\"},\"bgcolor\":\"#E5ECF6\",\"radialaxis\":{\"gridcolor\":\"white\",\"linecolor\":\"white\",\"ticks\":\"\"}},\"scene\":{\"xaxis\":{\"backgroundcolor\":\"#E5ECF6\",\"gridcolor\":\"white\",\"gridwidth\":2,\"linecolor\":\"white\",\"showbackground\":true,\"ticks\":\"\",\"zerolinecolor\":\"white\"},\"yaxis\":{\"backgroundcolor\":\"#E5ECF6\",\"gridcolor\":\"white\",\"gridwidth\":2,\"linecolor\":\"white\",\"showbackground\":true,\"ticks\":\"\",\"zerolinecolor\":\"white\"},\"zaxis\":{\"backgroundcolor\":\"#E5ECF6\",\"gridcolor\":\"white\",\"gridwidth\":2,\"linecolor\":\"white\",\"showbackground\":true,\"ticks\":\"\",\"zerolinecolor\":\"white\"}},\"shapedefaults\":{\"line\":{\"color\":\"#2a3f5f\"}},\"ternary\":{\"aaxis\":{\"gridcolor\":\"white\",\"linecolor\":\"white\",\"ticks\":\"\"},\"baxis\":{\"gridcolor\":\"white\",\"linecolor\":\"white\",\"ticks\":\"\"},\"bgcolor\":\"#E5ECF6\",\"caxis\":{\"gridcolor\":\"white\",\"linecolor\":\"white\",\"ticks\":\"\"}},\"title\":{\"x\":0.05},\"xaxis\":{\"automargin\":true,\"gridcolor\":\"white\",\"linecolor\":\"white\",\"ticks\":\"\",\"title\":{\"standoff\":15},\"zerolinecolor\":\"white\",\"zerolinewidth\":2},\"yaxis\":{\"automargin\":true,\"gridcolor\":\"white\",\"linecolor\":\"white\",\"ticks\":\"\",\"title\":{\"standoff\":15},\"zerolinecolor\":\"white\",\"zerolinewidth\":2}}},\"xaxis\":{\"anchor\":\"y\",\"domain\":[0.0,1.0],\"title\":{\"text\":\"disease_group\"}},\"yaxis\":{\"anchor\":\"x\",\"domain\":[0.0,1.0],\"title\":{\"text\":\"recipient_age\"}},\"legend\":{\"tracegroupgap\":0},\"margin\":{\"t\":60},\"violinmode\":\"group\"},                        {\"responsive\": true}                    ).then(function(){\n",
              "                            \n",
              "var gd = document.getElementById('a2ff864a-65fa-4570-aae3-3888bbfdd387');\n",
              "var x = new MutationObserver(function (mutations, observer) {{\n",
              "        var display = window.getComputedStyle(gd).display;\n",
              "        if (!display || display === 'none') {{\n",
              "            console.log([gd, 'removed!']);\n",
              "            Plotly.purge(gd);\n",
              "            observer.disconnect();\n",
              "        }}\n",
              "}});\n",
              "\n",
              "// Listen for the removal of the full notebook cells\n",
              "var notebookContainer = gd.closest('#notebook-container');\n",
              "if (notebookContainer) {{\n",
              "    x.observe(notebookContainer, {childList: true});\n",
              "}}\n",
              "\n",
              "// Listen for the clearing of the current output cell\n",
              "var outputEl = gd.closest('.output');\n",
              "if (outputEl) {{\n",
              "    x.observe(outputEl, {childList: true});\n",
              "}}\n",
              "\n",
              "                        })                };                            </script>        </div>\n",
              "</body>\n",
              "</html>"
            ]
          },
          "metadata": {}
        }
      ]
    },
    {
      "cell_type": "markdown",
      "source": [
        "The violin grapgh consists of the disease groups that are malignant and nonmalignant. Through this we understand the quartiles q1 and q3, the median, the kernel density and the minimum and the maximum age."
      ],
      "metadata": {
        "id": "E6pk5iMRoy6O"
      }
    },
    {
      "cell_type": "code",
      "source": [
        "px.scatter(df1,x='donor_age', y =  'recipient_age')"
      ],
      "metadata": {
        "colab": {
          "base_uri": "https://localhost:8080/",
          "height": 542
        },
        "id": "GRKs_Wl0npd3",
        "outputId": "bf00db67-3ef6-42fb-bb23-8ef8dce6a4a6"
      },
      "execution_count": 48,
      "outputs": [
        {
          "output_type": "display_data",
          "data": {
            "text/html": [
              "<html>\n",
              "<head><meta charset=\"utf-8\" /></head>\n",
              "<body>\n",
              "    <div>            <script src=\"https://cdnjs.cloudflare.com/ajax/libs/mathjax/2.7.5/MathJax.js?config=TeX-AMS-MML_SVG\"></script><script type=\"text/javascript\">if (window.MathJax) {MathJax.Hub.Config({SVG: {font: \"STIX-Web\"}});}</script>                <script type=\"text/javascript\">window.PlotlyConfig = {MathJaxConfig: 'local'};</script>\n",
              "        <script src=\"https://cdn.plot.ly/plotly-2.8.3.min.js\"></script>                <div id=\"2ea4cac1-0cc9-438a-94c0-c630b05c7283\" class=\"plotly-graph-div\" style=\"height:525px; width:100%;\"></div>            <script type=\"text/javascript\">                                    window.PLOTLYENV=window.PLOTLYENV || {};                                    if (document.getElementById(\"2ea4cac1-0cc9-438a-94c0-c630b05c7283\")) {                    Plotly.newPlot(                        \"2ea4cac1-0cc9-438a-94c0-c630b05c7283\",                        [{\"hovertemplate\":\"donor_age=%{x}<br>recipient_age=%{y}<extra></extra>\",\"legendgroup\":\"\",\"marker\":{\"color\":\"#636efa\",\"symbol\":\"circle\"},\"mode\":\"markers\",\"name\":\"\",\"orientation\":\"v\",\"showlegend\":false,\"x\":[22.830137,23.342466,26.394521,39.684932,33.358904,27.391781,34.520548,32.641096,28.783562,29.731507,36.8,40.863014,30.60274,30.676712,41.164384,40.232877,40.821918,43.375342,31.745205,43.578082,42.380822,31.545205,24.780822,30.50411,20.605479,40.969863,39.983562,33.052055,39.172603,24.731507,24.353425,39.024658,23.446575,39.380822,20.961644,49.860274,43.517808,40.536986,21.4,34.273973,20.471233,44.380822,20.358904,31.526027,38.761644,28.805479,36.868493,29.772603,28.821918,30.287671,33.120548,39.641096,39.632877,34.169863,31.194521,30.389041,24.367123,37.287671,30.2,35.087671,29.161644,44.413699,55.40274,43.715068,45.915068,22.643836,47.112329,26.221918,24.476712,35.287671,31.671233,26.731507,39.643836,41.542466,42.268493,41.443836,29.964384,21.263014,21.756164,29.980822,37.0,33.550685,35.630137,40.052055,32.372603,25.210959,28.276712,40.386301,21.972603,22.408219,52.476712,21.128767,19.446575,30.156164,49.205479,41.873973,27.676712,40.339726,33.915068,25.715068,28.709589,30.594521,35.764384,42.049315,39.249315,38.827397,22.528767,28.268493,28.723288,37.254795,35.79726,26.663014,43.065753,21.405479,25.284932,33.643836,33.857534,24.284932,51.991781,29.158904,36.435616,37.380822,22.493151,47.369863,40.317808,42.739726,22.863014,40.912329,35.627397,22.430137,34.005479,34.624658,46.00274,38.2,51.005479,36.789041,43.745205,43.126027,46.545205,30.279452,39.627397,20.394521,25.772603,40.391781,39.0,23.09589,43.30411,19.663014,35.430137,25.506849,29.619178,45.136986,19.506849,40.419178,30.972603,29.306849,30.421918,24.575342,41.627397,23.578082,29.126027,22.257534,18.646575,24.180822,35.890411,29.928767,35.443836,28.073973,41.476712,40.947945,36.690411,42.416438,34.167123,37.060274,30.024658,30.854795,37.632877,37.575342,22.89589,27.347945,27.780822,55.553425],\"xaxis\":\"x\",\"y\":[9.6,4.0,6.6,18.1,1.3,8.9,14.4,7.9,4.7,1.9,13.4,5.1,11.5,17.8,13.5,17.9,4.7,0.6,17.7,14.7,9.7,13.9,10.9,6.7,8.5,0.7,4.7,2.8,8.4,8.6,4.6,3.1,10.9,1.7,1.6,16.6,2.2,2.1,13.3,13.8,3.1,4.1,9.9,11.4,13.4,11.3,12.1,8.5,15.1,8.3,6.9,4.9,5.0,6.5,1.8,3.4,2.3,7.9,2.8,12.6,4.5,15.6,18.4,14.0,14.2,12.7,11.5,3.9,14.8,12.2,11.8,11.3,13.5,13.5,17.8,3.8,6.5,7.4,5.5,9.2,14.1,12.1,15.5,3.9,20.2,1.7,18.2,8.2,15.4,7.6,9.4,14.0,15.3,7.2,5.7,6.1,11.5,3.2,9.5,17.3,3.1,16.5,7.7,18.7,5.6,7.7,9.0,5.4,7.3,17.8,8.1,7.1,6.7,12.7,4.5,17.5,1.3,1.3,16.7,15.1,20.1,17.8,2.3,11.6,17.7,7.7,17.9,2.0,17.4,16.0,9.0,14.7,18.8,16.0,18.9,16.6,3.3,5.2,6.0,3.4,17.0,6.8,18.2,13.7,5.1,18.3,14.0,13.0,13.5,12.2,10.0,15.5,12.9,3.0,11.5,14.1,8.5,5.0,13.4,6.4,4.2,4.4,9.6,12.5,9.7,11.2,3.6,2.9,17.8,16.1,3.4,4.3,12.7,8.8,7.5,4.8,8.8,12.9,13.9,10.4,8.0,9.5],\"yaxis\":\"y\",\"type\":\"scatter\"}],                        {\"template\":{\"data\":{\"bar\":[{\"error_x\":{\"color\":\"#2a3f5f\"},\"error_y\":{\"color\":\"#2a3f5f\"},\"marker\":{\"line\":{\"color\":\"#E5ECF6\",\"width\":0.5},\"pattern\":{\"fillmode\":\"overlay\",\"size\":10,\"solidity\":0.2}},\"type\":\"bar\"}],\"barpolar\":[{\"marker\":{\"line\":{\"color\":\"#E5ECF6\",\"width\":0.5},\"pattern\":{\"fillmode\":\"overlay\",\"size\":10,\"solidity\":0.2}},\"type\":\"barpolar\"}],\"carpet\":[{\"aaxis\":{\"endlinecolor\":\"#2a3f5f\",\"gridcolor\":\"white\",\"linecolor\":\"white\",\"minorgridcolor\":\"white\",\"startlinecolor\":\"#2a3f5f\"},\"baxis\":{\"endlinecolor\":\"#2a3f5f\",\"gridcolor\":\"white\",\"linecolor\":\"white\",\"minorgridcolor\":\"white\",\"startlinecolor\":\"#2a3f5f\"},\"type\":\"carpet\"}],\"choropleth\":[{\"colorbar\":{\"outlinewidth\":0,\"ticks\":\"\"},\"type\":\"choropleth\"}],\"contour\":[{\"colorbar\":{\"outlinewidth\":0,\"ticks\":\"\"},\"colorscale\":[[0.0,\"#0d0887\"],[0.1111111111111111,\"#46039f\"],[0.2222222222222222,\"#7201a8\"],[0.3333333333333333,\"#9c179e\"],[0.4444444444444444,\"#bd3786\"],[0.5555555555555556,\"#d8576b\"],[0.6666666666666666,\"#ed7953\"],[0.7777777777777778,\"#fb9f3a\"],[0.8888888888888888,\"#fdca26\"],[1.0,\"#f0f921\"]],\"type\":\"contour\"}],\"contourcarpet\":[{\"colorbar\":{\"outlinewidth\":0,\"ticks\":\"\"},\"type\":\"contourcarpet\"}],\"heatmap\":[{\"colorbar\":{\"outlinewidth\":0,\"ticks\":\"\"},\"colorscale\":[[0.0,\"#0d0887\"],[0.1111111111111111,\"#46039f\"],[0.2222222222222222,\"#7201a8\"],[0.3333333333333333,\"#9c179e\"],[0.4444444444444444,\"#bd3786\"],[0.5555555555555556,\"#d8576b\"],[0.6666666666666666,\"#ed7953\"],[0.7777777777777778,\"#fb9f3a\"],[0.8888888888888888,\"#fdca26\"],[1.0,\"#f0f921\"]],\"type\":\"heatmap\"}],\"heatmapgl\":[{\"colorbar\":{\"outlinewidth\":0,\"ticks\":\"\"},\"colorscale\":[[0.0,\"#0d0887\"],[0.1111111111111111,\"#46039f\"],[0.2222222222222222,\"#7201a8\"],[0.3333333333333333,\"#9c179e\"],[0.4444444444444444,\"#bd3786\"],[0.5555555555555556,\"#d8576b\"],[0.6666666666666666,\"#ed7953\"],[0.7777777777777778,\"#fb9f3a\"],[0.8888888888888888,\"#fdca26\"],[1.0,\"#f0f921\"]],\"type\":\"heatmapgl\"}],\"histogram\":[{\"marker\":{\"pattern\":{\"fillmode\":\"overlay\",\"size\":10,\"solidity\":0.2}},\"type\":\"histogram\"}],\"histogram2d\":[{\"colorbar\":{\"outlinewidth\":0,\"ticks\":\"\"},\"colorscale\":[[0.0,\"#0d0887\"],[0.1111111111111111,\"#46039f\"],[0.2222222222222222,\"#7201a8\"],[0.3333333333333333,\"#9c179e\"],[0.4444444444444444,\"#bd3786\"],[0.5555555555555556,\"#d8576b\"],[0.6666666666666666,\"#ed7953\"],[0.7777777777777778,\"#fb9f3a\"],[0.8888888888888888,\"#fdca26\"],[1.0,\"#f0f921\"]],\"type\":\"histogram2d\"}],\"histogram2dcontour\":[{\"colorbar\":{\"outlinewidth\":0,\"ticks\":\"\"},\"colorscale\":[[0.0,\"#0d0887\"],[0.1111111111111111,\"#46039f\"],[0.2222222222222222,\"#7201a8\"],[0.3333333333333333,\"#9c179e\"],[0.4444444444444444,\"#bd3786\"],[0.5555555555555556,\"#d8576b\"],[0.6666666666666666,\"#ed7953\"],[0.7777777777777778,\"#fb9f3a\"],[0.8888888888888888,\"#fdca26\"],[1.0,\"#f0f921\"]],\"type\":\"histogram2dcontour\"}],\"mesh3d\":[{\"colorbar\":{\"outlinewidth\":0,\"ticks\":\"\"},\"type\":\"mesh3d\"}],\"parcoords\":[{\"line\":{\"colorbar\":{\"outlinewidth\":0,\"ticks\":\"\"}},\"type\":\"parcoords\"}],\"pie\":[{\"automargin\":true,\"type\":\"pie\"}],\"scatter\":[{\"marker\":{\"colorbar\":{\"outlinewidth\":0,\"ticks\":\"\"}},\"type\":\"scatter\"}],\"scatter3d\":[{\"line\":{\"colorbar\":{\"outlinewidth\":0,\"ticks\":\"\"}},\"marker\":{\"colorbar\":{\"outlinewidth\":0,\"ticks\":\"\"}},\"type\":\"scatter3d\"}],\"scattercarpet\":[{\"marker\":{\"colorbar\":{\"outlinewidth\":0,\"ticks\":\"\"}},\"type\":\"scattercarpet\"}],\"scattergeo\":[{\"marker\":{\"colorbar\":{\"outlinewidth\":0,\"ticks\":\"\"}},\"type\":\"scattergeo\"}],\"scattergl\":[{\"marker\":{\"colorbar\":{\"outlinewidth\":0,\"ticks\":\"\"}},\"type\":\"scattergl\"}],\"scattermapbox\":[{\"marker\":{\"colorbar\":{\"outlinewidth\":0,\"ticks\":\"\"}},\"type\":\"scattermapbox\"}],\"scatterpolar\":[{\"marker\":{\"colorbar\":{\"outlinewidth\":0,\"ticks\":\"\"}},\"type\":\"scatterpolar\"}],\"scatterpolargl\":[{\"marker\":{\"colorbar\":{\"outlinewidth\":0,\"ticks\":\"\"}},\"type\":\"scatterpolargl\"}],\"scatterternary\":[{\"marker\":{\"colorbar\":{\"outlinewidth\":0,\"ticks\":\"\"}},\"type\":\"scatterternary\"}],\"surface\":[{\"colorbar\":{\"outlinewidth\":0,\"ticks\":\"\"},\"colorscale\":[[0.0,\"#0d0887\"],[0.1111111111111111,\"#46039f\"],[0.2222222222222222,\"#7201a8\"],[0.3333333333333333,\"#9c179e\"],[0.4444444444444444,\"#bd3786\"],[0.5555555555555556,\"#d8576b\"],[0.6666666666666666,\"#ed7953\"],[0.7777777777777778,\"#fb9f3a\"],[0.8888888888888888,\"#fdca26\"],[1.0,\"#f0f921\"]],\"type\":\"surface\"}],\"table\":[{\"cells\":{\"fill\":{\"color\":\"#EBF0F8\"},\"line\":{\"color\":\"white\"}},\"header\":{\"fill\":{\"color\":\"#C8D4E3\"},\"line\":{\"color\":\"white\"}},\"type\":\"table\"}]},\"layout\":{\"annotationdefaults\":{\"arrowcolor\":\"#2a3f5f\",\"arrowhead\":0,\"arrowwidth\":1},\"autotypenumbers\":\"strict\",\"coloraxis\":{\"colorbar\":{\"outlinewidth\":0,\"ticks\":\"\"}},\"colorscale\":{\"diverging\":[[0,\"#8e0152\"],[0.1,\"#c51b7d\"],[0.2,\"#de77ae\"],[0.3,\"#f1b6da\"],[0.4,\"#fde0ef\"],[0.5,\"#f7f7f7\"],[0.6,\"#e6f5d0\"],[0.7,\"#b8e186\"],[0.8,\"#7fbc41\"],[0.9,\"#4d9221\"],[1,\"#276419\"]],\"sequential\":[[0.0,\"#0d0887\"],[0.1111111111111111,\"#46039f\"],[0.2222222222222222,\"#7201a8\"],[0.3333333333333333,\"#9c179e\"],[0.4444444444444444,\"#bd3786\"],[0.5555555555555556,\"#d8576b\"],[0.6666666666666666,\"#ed7953\"],[0.7777777777777778,\"#fb9f3a\"],[0.8888888888888888,\"#fdca26\"],[1.0,\"#f0f921\"]],\"sequentialminus\":[[0.0,\"#0d0887\"],[0.1111111111111111,\"#46039f\"],[0.2222222222222222,\"#7201a8\"],[0.3333333333333333,\"#9c179e\"],[0.4444444444444444,\"#bd3786\"],[0.5555555555555556,\"#d8576b\"],[0.6666666666666666,\"#ed7953\"],[0.7777777777777778,\"#fb9f3a\"],[0.8888888888888888,\"#fdca26\"],[1.0,\"#f0f921\"]]},\"colorway\":[\"#636efa\",\"#EF553B\",\"#00cc96\",\"#ab63fa\",\"#FFA15A\",\"#19d3f3\",\"#FF6692\",\"#B6E880\",\"#FF97FF\",\"#FECB52\"],\"font\":{\"color\":\"#2a3f5f\"},\"geo\":{\"bgcolor\":\"white\",\"lakecolor\":\"white\",\"landcolor\":\"#E5ECF6\",\"showlakes\":true,\"showland\":true,\"subunitcolor\":\"white\"},\"hoverlabel\":{\"align\":\"left\"},\"hovermode\":\"closest\",\"mapbox\":{\"style\":\"light\"},\"paper_bgcolor\":\"white\",\"plot_bgcolor\":\"#E5ECF6\",\"polar\":{\"angularaxis\":{\"gridcolor\":\"white\",\"linecolor\":\"white\",\"ticks\":\"\"},\"bgcolor\":\"#E5ECF6\",\"radialaxis\":{\"gridcolor\":\"white\",\"linecolor\":\"white\",\"ticks\":\"\"}},\"scene\":{\"xaxis\":{\"backgroundcolor\":\"#E5ECF6\",\"gridcolor\":\"white\",\"gridwidth\":2,\"linecolor\":\"white\",\"showbackground\":true,\"ticks\":\"\",\"zerolinecolor\":\"white\"},\"yaxis\":{\"backgroundcolor\":\"#E5ECF6\",\"gridcolor\":\"white\",\"gridwidth\":2,\"linecolor\":\"white\",\"showbackground\":true,\"ticks\":\"\",\"zerolinecolor\":\"white\"},\"zaxis\":{\"backgroundcolor\":\"#E5ECF6\",\"gridcolor\":\"white\",\"gridwidth\":2,\"linecolor\":\"white\",\"showbackground\":true,\"ticks\":\"\",\"zerolinecolor\":\"white\"}},\"shapedefaults\":{\"line\":{\"color\":\"#2a3f5f\"}},\"ternary\":{\"aaxis\":{\"gridcolor\":\"white\",\"linecolor\":\"white\",\"ticks\":\"\"},\"baxis\":{\"gridcolor\":\"white\",\"linecolor\":\"white\",\"ticks\":\"\"},\"bgcolor\":\"#E5ECF6\",\"caxis\":{\"gridcolor\":\"white\",\"linecolor\":\"white\",\"ticks\":\"\"}},\"title\":{\"x\":0.05},\"xaxis\":{\"automargin\":true,\"gridcolor\":\"white\",\"linecolor\":\"white\",\"ticks\":\"\",\"title\":{\"standoff\":15},\"zerolinecolor\":\"white\",\"zerolinewidth\":2},\"yaxis\":{\"automargin\":true,\"gridcolor\":\"white\",\"linecolor\":\"white\",\"ticks\":\"\",\"title\":{\"standoff\":15},\"zerolinecolor\":\"white\",\"zerolinewidth\":2}}},\"xaxis\":{\"anchor\":\"y\",\"domain\":[0.0,1.0],\"title\":{\"text\":\"donor_age\"}},\"yaxis\":{\"anchor\":\"x\",\"domain\":[0.0,1.0],\"title\":{\"text\":\"recipient_age\"}},\"legend\":{\"tracegroupgap\":0},\"margin\":{\"t\":60}},                        {\"responsive\": true}                    ).then(function(){\n",
              "                            \n",
              "var gd = document.getElementById('2ea4cac1-0cc9-438a-94c0-c630b05c7283');\n",
              "var x = new MutationObserver(function (mutations, observer) {{\n",
              "        var display = window.getComputedStyle(gd).display;\n",
              "        if (!display || display === 'none') {{\n",
              "            console.log([gd, 'removed!']);\n",
              "            Plotly.purge(gd);\n",
              "            observer.disconnect();\n",
              "        }}\n",
              "}});\n",
              "\n",
              "// Listen for the removal of the full notebook cells\n",
              "var notebookContainer = gd.closest('#notebook-container');\n",
              "if (notebookContainer) {{\n",
              "    x.observe(notebookContainer, {childList: true});\n",
              "}}\n",
              "\n",
              "// Listen for the clearing of the current output cell\n",
              "var outputEl = gd.closest('.output');\n",
              "if (outputEl) {{\n",
              "    x.observe(outputEl, {childList: true});\n",
              "}}\n",
              "\n",
              "                        })                };                            </script>        </div>\n",
              "</body>\n",
              "</html>"
            ]
          },
          "metadata": {}
        }
      ]
    },
    {
      "cell_type": "code",
      "source": [
        "sns.swarmplot(x='ANC_recovery', y='PLT_recovery', data=df1, \n",
        "              hue='disease')"
      ],
      "metadata": {
        "colab": {
          "base_uri": "https://localhost:8080/",
          "height": 784
        },
        "id": "d64FGUXUp_nl",
        "outputId": "9495aac9-08d5-448e-c853-4cba849c84de"
      },
      "execution_count": 49,
      "outputs": [
        {
          "output_type": "stream",
          "name": "stderr",
          "text": [
            "/usr/local/lib/python3.7/dist-packages/seaborn/categorical.py:1296: UserWarning:\n",
            "\n",
            "70.0% of the points cannot be placed; you may want to decrease the size of the markers or use stripplot.\n",
            "\n",
            "/usr/local/lib/python3.7/dist-packages/seaborn/categorical.py:1296: UserWarning:\n",
            "\n",
            "85.0% of the points cannot be placed; you may want to decrease the size of the markers or use stripplot.\n",
            "\n",
            "/usr/local/lib/python3.7/dist-packages/seaborn/categorical.py:1296: UserWarning:\n",
            "\n",
            "81.0% of the points cannot be placed; you may want to decrease the size of the markers or use stripplot.\n",
            "\n",
            "/usr/local/lib/python3.7/dist-packages/seaborn/categorical.py:1296: UserWarning:\n",
            "\n",
            "87.0% of the points cannot be placed; you may want to decrease the size of the markers or use stripplot.\n",
            "\n",
            "/usr/local/lib/python3.7/dist-packages/seaborn/categorical.py:1296: UserWarning:\n",
            "\n",
            "79.2% of the points cannot be placed; you may want to decrease the size of the markers or use stripplot.\n",
            "\n",
            "/usr/local/lib/python3.7/dist-packages/seaborn/categorical.py:1296: UserWarning:\n",
            "\n",
            "75.0% of the points cannot be placed; you may want to decrease the size of the markers or use stripplot.\n",
            "\n",
            "/usr/local/lib/python3.7/dist-packages/seaborn/categorical.py:1296: UserWarning:\n",
            "\n",
            "25.0% of the points cannot be placed; you may want to decrease the size of the markers or use stripplot.\n",
            "\n"
          ]
        },
        {
          "output_type": "execute_result",
          "data": {
            "text/plain": [
              "<matplotlib.axes._subplots.AxesSubplot at 0x7f3643cc56d0>"
            ]
          },
          "metadata": {},
          "execution_count": 49
        },
        {
          "output_type": "display_data",
          "data": {
            "text/plain": [
              "<Figure size 432x288 with 1 Axes>"
            ],
            "image/png": "[encoded data removed]"
          },
          "metadata": {
            "needs_background": "light"
          }
        }
      ]
    },
    {
      "cell_type": "code",
      "source": [
        "##### Showing info about disease and recipent age##########\n",
        "grid = sns.FacetGrid(df1,hue='disease',aspect = 3)\n",
        "grid.map(sns.kdeplot,'recipient_age')\n",
        "grid.add_legend()"
      ],
      "metadata": {
        "colab": {
          "base_uri": "https://localhost:8080/",
          "height": 242
        },
        "id": "5-0nbNaSqO7O",
        "outputId": "044b7a79-2a6f-4098-9181-ab4147086d39"
      },
      "execution_count": 50,
      "outputs": [
        {
          "output_type": "execute_result",
          "data": {
            "text/plain": [
              "<seaborn.axisgrid.FacetGrid at 0x7f3643b874d0>"
            ]
          },
          "metadata": {},
          "execution_count": 50
        },
        {
          "output_type": "display_data",
          "data": {
            "text/plain": [
              "<Figure size 753.375x216 with 1 Axes>"
            ],
            "image/png": "[encoded data removed]"
          },
          "metadata": {
            "needs_background": "light"
          }
        }
      ]
    },
    {
      "cell_type": "markdown",
      "source": [
        "We can see that the highest is lymphoma which affects the children's age ranging from about 1 year to 25 years, followed by nonmalignant, AML, A11 and chronic diseases."
      ],
      "metadata": {
        "id": "fUrR06aYqtTQ"
      }
    },
    {
      "cell_type": "code",
      "source": [
        "grid = sns.FacetGrid(df1,hue='disease',aspect = 3)\n",
        "grid.map(sns.kdeplot,'recipient_body_mass','survival_time')\n",
        "grid.add_legend()"
      ],
      "metadata": {
        "colab": {
          "base_uri": "https://localhost:8080/",
          "height": 242
        },
        "id": "LIZfKQ2BqqXD",
        "outputId": "d360ce21-c3b8-4f1a-c6c8-5e88acbca483"
      },
      "execution_count": 54,
      "outputs": [
        {
          "output_type": "execute_result",
          "data": {
            "text/plain": [
              "<seaborn.axisgrid.FacetGrid at 0x7f36438f4290>"
            ]
          },
          "metadata": {},
          "execution_count": 54
        },
        {
          "output_type": "display_data",
          "data": {
            "text/plain": [
              "<Figure size 753.375x216 with 1 Axes>"
            ],
            "image/png": "[encoded data removed]"
          },
          "metadata": {
            "needs_background": "light"
          }
        }
      ]
    },
    {
      "cell_type": "code",
      "source": [
        "sns.kdeplot(df1.recipient_body_mass, df.survival_time)"
      ],
      "metadata": {
        "colab": {
          "base_uri": "https://localhost:8080/",
          "height": 385
        },
        "id": "qgYxGlESrwjC",
        "outputId": "9c117b62-02bd-4873-b436-1981d353f074"
      },
      "execution_count": 55,
      "outputs": [
        {
          "output_type": "stream",
          "name": "stderr",
          "text": [
            "/usr/local/lib/python3.7/dist-packages/seaborn/_decorators.py:43: FutureWarning:\n",
            "\n",
            "Pass the following variable as a keyword arg: y. From version 0.12, the only valid positional argument will be `data`, and passing other arguments without an explicit keyword will result in an error or misinterpretation.\n",
            "\n"
          ]
        },
        {
          "output_type": "execute_result",
          "data": {
            "text/plain": [
              "<matplotlib.axes._subplots.AxesSubplot at 0x7f3643578fd0>"
            ]
          },
          "metadata": {},
          "execution_count": 55
        },
        {
          "output_type": "display_data",
          "data": {
            "text/plain": [
              "<Figure size 432x288 with 1 Axes>"
            ],
            "image/png": "[encoded data removed]"
          },
          "metadata": {
            "needs_background": "light"
          }
        }
      ]
    },
    {
      "cell_type": "code",
      "source": [
        "fig = px.scatter_matrix(df1, dimensions=[\"donor_age\", \"recipient_age\",\"CD3_to_CD34_ratio\",'survival_time'], color=\"risk_group\")\n",
        "fig.show()"
      ],
      "metadata": {
        "colab": {
          "base_uri": "https://localhost:8080/",
          "height": 542
        },
        "id": "poEZ8m1RtbVn",
        "outputId": "557dac3f-7606-4338-c966-518b4ae7d9d0"
      },
      "execution_count": 57,
      "outputs": [
        {
          "output_type": "display_data",
          "data": {
            "text/html": [
              "<html>\n",
              "<head><meta charset=\"utf-8\" /></head>\n",
              "<body>\n",
              "    <div>            <script src=\"https://cdnjs.cloudflare.com/ajax/libs/mathjax/2.7.5/MathJax.js?config=TeX-AMS-MML_SVG\"></script><script type=\"text/javascript\">if (window.MathJax) {MathJax.Hub.Config({SVG: {font: \"STIX-Web\"}});}</script>                <script type=\"text/javascript\">window.PlotlyConfig = {MathJaxConfig: 'local'};</script>\n",
              "        <script src=\"https://cdn.plot.ly/plotly-2.8.3.min.js\"></script>                <div id=\"90bd94b3-b1e3-405a-a9b4-9ac9dca5edfd\" class=\"plotly-graph-div\" style=\"height:525px; width:100%;\"></div>            <script type=\"text/javascript\">                                    window.PLOTLYENV=window.PLOTLYENV || {};                                    if (document.getElementById(\"90bd94b3-b1e3-405a-a9b4-9ac9dca5edfd\")) {                    Plotly.newPlot(                        \"90bd94b3-b1e3-405a-a9b4-9ac9dca5edfd\",                        [{\"dimensions\":[{\"axis\":{\"matches\":true},\"label\":\"donor_age\",\"values\":[22.830137,33.358904,27.391781,29.731507,36.8,30.60274,30.676712,41.164384,43.578082,40.969863,33.052055,39.380822,20.961644,43.517808,28.805479,29.772603,28.821918,30.389041,24.367123,35.087671,29.161644,55.40274,22.643836,47.112329,24.476712,39.643836,41.443836,29.964384,21.756164,37.0,33.550685,32.372603,52.476712,21.128767,19.446575,49.205479,27.676712,33.915068,42.049315,38.827397,28.268493,37.254795,33.857534,37.380822,40.317808,22.430137,46.00274,38.2,43.745205,39.627397,20.394521,40.391781,39.0,23.09589,45.136986,19.506849,41.627397,29.126027,22.257534,35.890411,35.443836,28.073973,41.476712,37.060274,37.632877,37.575342,22.89589,55.553425]},{\"axis\":{\"matches\":true},\"label\":\"recipient_age\",\"values\":[9.6,1.3,8.9,1.9,13.4,11.5,17.8,13.5,14.7,0.7,2.8,1.7,1.6,2.2,11.3,8.5,15.1,3.4,2.3,12.6,4.5,18.4,12.7,11.5,14.8,13.5,3.8,6.5,5.5,14.1,12.1,20.2,9.4,14.0,15.3,5.7,11.5,9.5,18.7,7.7,5.4,17.8,1.3,17.8,17.7,16.0,18.8,16.0,3.3,17.0,6.8,13.7,5.1,18.3,15.5,12.9,13.4,4.2,4.4,9.7,3.6,2.9,17.8,8.8,8.8,12.9,13.9,9.5]},{\"axis\":{\"matches\":true},\"label\":\"CD3_to_CD34_ratio\",\"values\":[1.33876,3.972255,8.412758,11.883664,2.242442,3.713956,2.26309,12.028841,0.36872,1.788507,2.001808,2.778202,1.841206,2.733138,4.517296,3.650173,3.280961,2.969988,1.025586,5.761517,6.739936,14.130301,3.10536,2.780611,1.865411,12.479226,11.123182,6.002989,2.014498,2.734269,4.420206,2.687529,2.394072,0.709805,1.365785,1.38917,2.552321,7.517388,1.6173,6.537721,1.168705,1.483826,1.018042,1.070314,4.468419,2.118673,9.456741,19.210978,3.597279,6.258729,1.543305,0.455355,3.737477,7.910679,0.843646,2.965539,1.181537,12.272474,1.878043,2.241175,4.061324,2.069057,1.214932,2.205359,2.426122,2.52275,1.038858,0.948135]},{\"axis\":{\"matches\":true},\"label\":\"survival_time\",\"values\":[999.0,2043.0,2800.0,599.0,2503.0,335.0,1432.0,3288.0,115.0,1522.0,1041.0,2293.0,321.0,149.0,1006.0,2354.0,1000.0,1791.0,137.0,261.0,181.0,19.0,224.0,606.0,1728.0,66.0,102.0,113.0,849.0,60.0,403.0,767.0,824.0,1257.0,1280.0,191.0,2286.0,745.0,274.0,1593.0,1138.0,57.0,48.0,2112.0,196.0,1025.0,15.0,48.0,2337.0,2761.0,214.0,754.0,59.0,64.0,2461.0,413.0,174.0,421.0,1308.0,397.0,147.0,31.0,1243.0,1873.0,6.0,385.0,634.0,1109.0]}],\"hovertemplate\":\"risk_group=high<br>%{xaxis.title.text}=%{x}<br>%{yaxis.title.text}=%{y}<extra></extra>\",\"legendgroup\":\"high\",\"marker\":{\"color\":\"#636efa\",\"symbol\":\"circle\"},\"name\":\"high\",\"showlegend\":true,\"type\":\"splom\"},{\"dimensions\":[{\"axis\":{\"matches\":true},\"label\":\"donor_age\",\"values\":[23.342466,26.394521,39.684932,34.520548,32.641096,28.783562,40.863014,40.232877,40.821918,43.375342,31.745205,42.380822,31.545205,24.780822,30.50411,20.605479,39.983562,39.172603,24.731507,24.353425,39.024658,23.446575,49.860274,40.536986,21.4,34.273973,20.471233,44.380822,20.358904,31.526027,38.761644,36.868493,30.287671,33.120548,39.641096,39.632877,34.169863,31.194521,37.287671,30.2,44.413699,43.715068,45.915068,26.221918,35.287671,31.671233,26.731507,41.542466,42.268493,21.263014,29.980822,35.630137,40.052055,25.210959,28.276712,40.386301,21.972603,22.408219,30.156164,41.873973,40.339726,25.715068,28.709589,30.594521,35.764384,39.249315,22.528767,28.723288,35.79726,26.663014,43.065753,21.405479,25.284932,33.643836,24.284932,51.991781,29.158904,36.435616,22.493151,47.369863,42.739726,22.863014,40.912329,35.627397,34.005479,34.624658,51.005479,36.789041,43.126027,46.545205,30.279452,25.772603,43.30411,19.663014,35.430137,25.506849,29.619178,40.419178,30.972603,29.306849,30.421918,24.575342,23.578082,18.646575,24.180822,29.928767,40.947945,36.690411,42.416438,34.167123,30.024658,30.854795,27.347945,27.780822]},{\"axis\":{\"matches\":true},\"label\":\"recipient_age\",\"values\":[4.0,6.6,18.1,14.4,7.9,4.7,5.1,17.9,4.7,0.6,17.7,9.7,13.9,10.9,6.7,8.5,4.7,8.4,8.6,4.6,3.1,10.9,16.6,2.1,13.3,13.8,3.1,4.1,9.9,11.4,13.4,12.1,8.3,6.9,4.9,5.0,6.5,1.8,7.9,2.8,15.6,14.0,14.2,3.9,12.2,11.8,11.3,13.5,17.8,7.4,9.2,15.5,3.9,1.7,18.2,8.2,15.4,7.6,7.2,6.1,3.2,17.3,3.1,16.5,7.7,5.6,9.0,7.3,8.1,7.1,6.7,12.7,4.5,17.5,1.3,16.7,15.1,20.1,2.3,11.6,7.7,17.9,2.0,17.4,9.0,14.7,18.9,16.6,5.2,6.0,3.4,18.2,14.0,13.0,13.5,12.2,10.0,3.0,11.5,14.1,8.5,5.0,6.4,9.6,12.5,11.2,16.1,3.4,4.3,12.7,7.5,4.8,10.4,8.0]},{\"axis\":{\"matches\":true},\"label\":\"CD3_to_CD34_ratio\",\"values\":[11.078295,19.01323,29.481647,2.406248,3.772555,1.035244,2.734654,1.595133,3.676416,1.408646,1.711795,1.231287,3.81488,5.781319,13.890231,1.672532,3.242425,1.849607,2.380569,1.687395,16.186239,3.49847,8.784289,5.837647,2.215047,0.692898,2.335954,4.824785,0.927108,7.060927,6.022997,7.369445,5.69203,4.011209,1.351711,1.890822,1.876834,11.017048,12.958576,3.133461,6.157698,6.750632,47.869839,1.498879,2.927597,2.449389,1.786075,11.405197,12.36598,4.184092,2.098238,5.276616,1.589775,1.833687,14.642869,3.430293,6.34585,6.928599,2.337369,7.305471,2.722087,2.498917,0.204132,2.59522,1.848795,2.929081,3.787339,2.491794,7.805782,2.449323,99.56097,1.744246,5.045842,1.558548,4.489022,1.851411,4.2187,5.164562,1.283387,1.082899,1.346764,2.997231,1.839537,3.774746,2.703806,56.065024,1.038752,7.423372,0.799458,2.818993,10.611083,3.065758,3.465003,2.40947,1.2068,7.243234,2.496128,6.081859,12.984467,2.446267,1.350554,2.443228,1.854875,3.120205,0.309048,2.929514,4.094514,0.843967,1.830242,1.671314,16.32616,1.007599,1.635559,8.07777]},{\"axis\":{\"matches\":true},\"label\":\"survival_time\",\"values\":[163.0,435.0,53.0,41.0,671.0,676.0,964.0,58.0,1615.0,704.0,884.0,330.0,2231.0,149.0,2105.0,914.0,35.0,576.0,676.0,531.0,96.0,1084.0,111.0,1690.0,452.0,1376.0,28.0,2118.0,60.0,1327.0,150.0,1754.0,942.0,2926.0,1346.0,1424.0,2036.0,1958.0,11.0,2279.0,1949.0,1838.0,55.0,306.0,1587.0,445.0,1243.0,1937.0,435.0,1397.0,200.0,60.0,1018.0,580.0,202.0,1195.0,136.0,161.0,67.0,130.0,510.0,534.0,454.0,68.0,511.0,28.0,472.0,1839.0,1754.0,672.0,2117.0,236.0,1679.0,718.0,2153.0,117.0,1781.0,290.0,1301.0,108.0,1188.0,10.0,1171.0,2525.0,182.0,996.0,41.0,42.0,1385.0,766.0,2932.0,494.0,1214.0,1895.0,90.0,246.0,2317.0,1741.0,3364.0,353.0,1074.0,1692.0,433.0,2483.0,1297.0,458.0,2208.0,2373.0,1185.0,1985.0,1627.0,41.0,1895.0,382.0]}],\"hovertemplate\":\"risk_group=low<br>%{xaxis.title.text}=%{x}<br>%{yaxis.title.text}=%{y}<extra></extra>\",\"legendgroup\":\"low\",\"marker\":{\"color\":\"#EF553B\",\"symbol\":\"circle\"},\"name\":\"low\",\"showlegend\":true,\"type\":\"splom\"}],                        {\"template\":{\"data\":{\"bar\":[{\"error_x\":{\"color\":\"#2a3f5f\"},\"error_y\":{\"color\":\"#2a3f5f\"},\"marker\":{\"line\":{\"color\":\"#E5ECF6\",\"width\":0.5},\"pattern\":{\"fillmode\":\"overlay\",\"size\":10,\"solidity\":0.2}},\"type\":\"bar\"}],\"barpolar\":[{\"marker\":{\"line\":{\"color\":\"#E5ECF6\",\"width\":0.5},\"pattern\":{\"fillmode\":\"overlay\",\"size\":10,\"solidity\":0.2}},\"type\":\"barpolar\"}],\"carpet\":[{\"aaxis\":{\"endlinecolor\":\"#2a3f5f\",\"gridcolor\":\"white\",\"linecolor\":\"white\",\"minorgridcolor\":\"white\",\"startlinecolor\":\"#2a3f5f\"},\"baxis\":{\"endlinecolor\":\"#2a3f5f\",\"gridcolor\":\"white\",\"linecolor\":\"white\",\"minorgridcolor\":\"white\",\"startlinecolor\":\"#2a3f5f\"},\"type\":\"carpet\"}],\"choropleth\":[{\"colorbar\":{\"outlinewidth\":0,\"ticks\":\"\"},\"type\":\"choropleth\"}],\"contour\":[{\"colorbar\":{\"outlinewidth\":0,\"ticks\":\"\"},\"colorscale\":[[0.0,\"#0d0887\"],[0.1111111111111111,\"#46039f\"],[0.2222222222222222,\"#7201a8\"],[0.3333333333333333,\"#9c179e\"],[0.4444444444444444,\"#bd3786\"],[0.5555555555555556,\"#d8576b\"],[0.6666666666666666,\"#ed7953\"],[0.7777777777777778,\"#fb9f3a\"],[0.8888888888888888,\"#fdca26\"],[1.0,\"#f0f921\"]],\"type\":\"contour\"}],\"contourcarpet\":[{\"colorbar\":{\"outlinewidth\":0,\"ticks\":\"\"},\"type\":\"contourcarpet\"}],\"heatmap\":[{\"colorbar\":{\"outlinewidth\":0,\"ticks\":\"\"},\"colorscale\":[[0.0,\"#0d0887\"],[0.1111111111111111,\"#46039f\"],[0.2222222222222222,\"#7201a8\"],[0.3333333333333333,\"#9c179e\"],[0.4444444444444444,\"#bd3786\"],[0.5555555555555556,\"#d8576b\"],[0.6666666666666666,\"#ed7953\"],[0.7777777777777778,\"#fb9f3a\"],[0.8888888888888888,\"#fdca26\"],[1.0,\"#f0f921\"]],\"type\":\"heatmap\"}],\"heatmapgl\":[{\"colorbar\":{\"outlinewidth\":0,\"ticks\":\"\"},\"colorscale\":[[0.0,\"#0d0887\"],[0.1111111111111111,\"#46039f\"],[0.2222222222222222,\"#7201a8\"],[0.3333333333333333,\"#9c179e\"],[0.4444444444444444,\"#bd3786\"],[0.5555555555555556,\"#d8576b\"],[0.6666666666666666,\"#ed7953\"],[0.7777777777777778,\"#fb9f3a\"],[0.8888888888888888,\"#fdca26\"],[1.0,\"#f0f921\"]],\"type\":\"heatmapgl\"}],\"histogram\":[{\"marker\":{\"pattern\":{\"fillmode\":\"overlay\",\"size\":10,\"solidity\":0.2}},\"type\":\"histogram\"}],\"histogram2d\":[{\"colorbar\":{\"outlinewidth\":0,\"ticks\":\"\"},\"colorscale\":[[0.0,\"#0d0887\"],[0.1111111111111111,\"#46039f\"],[0.2222222222222222,\"#7201a8\"],[0.3333333333333333,\"#9c179e\"],[0.4444444444444444,\"#bd3786\"],[0.5555555555555556,\"#d8576b\"],[0.6666666666666666,\"#ed7953\"],[0.7777777777777778,\"#fb9f3a\"],[0.8888888888888888,\"#fdca26\"],[1.0,\"#f0f921\"]],\"type\":\"histogram2d\"}],\"histogram2dcontour\":[{\"colorbar\":{\"outlinewidth\":0,\"ticks\":\"\"},\"colorscale\":[[0.0,\"#0d0887\"],[0.1111111111111111,\"#46039f\"],[0.2222222222222222,\"#7201a8\"],[0.3333333333333333,\"#9c179e\"],[0.4444444444444444,\"#bd3786\"],[0.5555555555555556,\"#d8576b\"],[0.6666666666666666,\"#ed7953\"],[0.7777777777777778,\"#fb9f3a\"],[0.8888888888888888,\"#fdca26\"],[1.0,\"#f0f921\"]],\"type\":\"histogram2dcontour\"}],\"mesh3d\":[{\"colorbar\":{\"outlinewidth\":0,\"ticks\":\"\"},\"type\":\"mesh3d\"}],\"parcoords\":[{\"line\":{\"colorbar\":{\"outlinewidth\":0,\"ticks\":\"\"}},\"type\":\"parcoords\"}],\"pie\":[{\"automargin\":true,\"type\":\"pie\"}],\"scatter\":[{\"marker\":{\"colorbar\":{\"outlinewidth\":0,\"ticks\":\"\"}},\"type\":\"scatter\"}],\"scatter3d\":[{\"line\":{\"colorbar\":{\"outlinewidth\":0,\"ticks\":\"\"}},\"marker\":{\"colorbar\":{\"outlinewidth\":0,\"ticks\":\"\"}},\"type\":\"scatter3d\"}],\"scattercarpet\":[{\"marker\":{\"colorbar\":{\"outlinewidth\":0,\"ticks\":\"\"}},\"type\":\"scattercarpet\"}],\"scattergeo\":[{\"marker\":{\"colorbar\":{\"outlinewidth\":0,\"ticks\":\"\"}},\"type\":\"scattergeo\"}],\"scattergl\":[{\"marker\":{\"colorbar\":{\"outlinewidth\":0,\"ticks\":\"\"}},\"type\":\"scattergl\"}],\"scattermapbox\":[{\"marker\":{\"colorbar\":{\"outlinewidth\":0,\"ticks\":\"\"}},\"type\":\"scattermapbox\"}],\"scatterpolar\":[{\"marker\":{\"colorbar\":{\"outlinewidth\":0,\"ticks\":\"\"}},\"type\":\"scatterpolar\"}],\"scatterpolargl\":[{\"marker\":{\"colorbar\":{\"outlinewidth\":0,\"ticks\":\"\"}},\"type\":\"scatterpolargl\"}],\"scatterternary\":[{\"marker\":{\"colorbar\":{\"outlinewidth\":0,\"ticks\":\"\"}},\"type\":\"scatterternary\"}],\"surface\":[{\"colorbar\":{\"outlinewidth\":0,\"ticks\":\"\"},\"colorscale\":[[0.0,\"#0d0887\"],[0.1111111111111111,\"#46039f\"],[0.2222222222222222,\"#7201a8\"],[0.3333333333333333,\"#9c179e\"],[0.4444444444444444,\"#bd3786\"],[0.5555555555555556,\"#d8576b\"],[0.6666666666666666,\"#ed7953\"],[0.7777777777777778,\"#fb9f3a\"],[0.8888888888888888,\"#fdca26\"],[1.0,\"#f0f921\"]],\"type\":\"surface\"}],\"table\":[{\"cells\":{\"fill\":{\"color\":\"#EBF0F8\"},\"line\":{\"color\":\"white\"}},\"header\":{\"fill\":{\"color\":\"#C8D4E3\"},\"line\":{\"color\":\"white\"}},\"type\":\"table\"}]},\"layout\":{\"annotationdefaults\":{\"arrowcolor\":\"#2a3f5f\",\"arrowhead\":0,\"arrowwidth\":1},\"autotypenumbers\":\"strict\",\"coloraxis\":{\"colorbar\":{\"outlinewidth\":0,\"ticks\":\"\"}},\"colorscale\":{\"diverging\":[[0,\"#8e0152\"],[0.1,\"#c51b7d\"],[0.2,\"#de77ae\"],[0.3,\"#f1b6da\"],[0.4,\"#fde0ef\"],[0.5,\"#f7f7f7\"],[0.6,\"#e6f5d0\"],[0.7,\"#b8e186\"],[0.8,\"#7fbc41\"],[0.9,\"#4d9221\"],[1,\"#276419\"]],\"sequential\":[[0.0,\"#0d0887\"],[0.1111111111111111,\"#46039f\"],[0.2222222222222222,\"#7201a8\"],[0.3333333333333333,\"#9c179e\"],[0.4444444444444444,\"#bd3786\"],[0.5555555555555556,\"#d8576b\"],[0.6666666666666666,\"#ed7953\"],[0.7777777777777778,\"#fb9f3a\"],[0.8888888888888888,\"#fdca26\"],[1.0,\"#f0f921\"]],\"sequentialminus\":[[0.0,\"#0d0887\"],[0.1111111111111111,\"#46039f\"],[0.2222222222222222,\"#7201a8\"],[0.3333333333333333,\"#9c179e\"],[0.4444444444444444,\"#bd3786\"],[0.5555555555555556,\"#d8576b\"],[0.6666666666666666,\"#ed7953\"],[0.7777777777777778,\"#fb9f3a\"],[0.8888888888888888,\"#fdca26\"],[1.0,\"#f0f921\"]]},\"colorway\":[\"#636efa\",\"#EF553B\",\"#00cc96\",\"#ab63fa\",\"#FFA15A\",\"#19d3f3\",\"#FF6692\",\"#B6E880\",\"#FF97FF\",\"#FECB52\"],\"font\":{\"color\":\"#2a3f5f\"},\"geo\":{\"bgcolor\":\"white\",\"lakecolor\":\"white\",\"landcolor\":\"#E5ECF6\",\"showlakes\":true,\"showland\":true,\"subunitcolor\":\"white\"},\"hoverlabel\":{\"align\":\"left\"},\"hovermode\":\"closest\",\"mapbox\":{\"style\":\"light\"},\"paper_bgcolor\":\"white\",\"plot_bgcolor\":\"#E5ECF6\",\"polar\":{\"angularaxis\":{\"gridcolor\":\"white\",\"linecolor\":\"white\",\"ticks\":\"\"},\"bgcolor\":\"#E5ECF6\",\"radialaxis\":{\"gridcolor\":\"white\",\"linecolor\":\"white\",\"ticks\":\"\"}},\"scene\":{\"xaxis\":{\"backgroundcolor\":\"#E5ECF6\",\"gridcolor\":\"white\",\"gridwidth\":2,\"linecolor\":\"white\",\"showbackground\":true,\"ticks\":\"\",\"zerolinecolor\":\"white\"},\"yaxis\":{\"backgroundcolor\":\"#E5ECF6\",\"gridcolor\":\"white\",\"gridwidth\":2,\"linecolor\":\"white\",\"showbackground\":true,\"ticks\":\"\",\"zerolinecolor\":\"white\"},\"zaxis\":{\"backgroundcolor\":\"#E5ECF6\",\"gridcolor\":\"white\",\"gridwidth\":2,\"linecolor\":\"white\",\"showbackground\":true,\"ticks\":\"\",\"zerolinecolor\":\"white\"}},\"shapedefaults\":{\"line\":{\"color\":\"#2a3f5f\"}},\"ternary\":{\"aaxis\":{\"gridcolor\":\"white\",\"linecolor\":\"white\",\"ticks\":\"\"},\"baxis\":{\"gridcolor\":\"white\",\"linecolor\":\"white\",\"ticks\":\"\"},\"bgcolor\":\"#E5ECF6\",\"caxis\":{\"gridcolor\":\"white\",\"linecolor\":\"white\",\"ticks\":\"\"}},\"title\":{\"x\":0.05},\"xaxis\":{\"automargin\":true,\"gridcolor\":\"white\",\"linecolor\":\"white\",\"ticks\":\"\",\"title\":{\"standoff\":15},\"zerolinecolor\":\"white\",\"zerolinewidth\":2},\"yaxis\":{\"automargin\":true,\"gridcolor\":\"white\",\"linecolor\":\"white\",\"ticks\":\"\",\"title\":{\"standoff\":15},\"zerolinecolor\":\"white\",\"zerolinewidth\":2}}},\"legend\":{\"title\":{\"text\":\"risk_group\"},\"tracegroupgap\":0},\"margin\":{\"t\":60},\"dragmode\":\"select\"},                        {\"responsive\": true}                    ).then(function(){\n",
              "                            \n",
              "var gd = document.getElementById('90bd94b3-b1e3-405a-a9b4-9ac9dca5edfd');\n",
              "var x = new MutationObserver(function (mutations, observer) {{\n",
              "        var display = window.getComputedStyle(gd).display;\n",
              "        if (!display || display === 'none') {{\n",
              "            console.log([gd, 'removed!']);\n",
              "            Plotly.purge(gd);\n",
              "            observer.disconnect();\n",
              "        }}\n",
              "}});\n",
              "\n",
              "// Listen for the removal of the full notebook cells\n",
              "var notebookContainer = gd.closest('#notebook-container');\n",
              "if (notebookContainer) {{\n",
              "    x.observe(notebookContainer, {childList: true});\n",
              "}}\n",
              "\n",
              "// Listen for the clearing of the current output cell\n",
              "var outputEl = gd.closest('.output');\n",
              "if (outputEl) {{\n",
              "    x.observe(outputEl, {childList: true});\n",
              "}}\n",
              "\n",
              "                        })                };                            </script>        </div>\n",
              "</body>\n",
              "</html>"
            ]
          },
          "metadata": {}
        }
      ]
    },
    {
      "cell_type": "markdown",
      "source": [
        "Based on this scatter plot, higher the donor age, higher the recipient age, higher are chances of risk. "
      ],
      "metadata": {
        "id": "-V1-3RAStjJL"
      }
    },
    {
      "cell_type": "code",
      "source": [
        "#########Box and Scatter#############\n",
        "fig = px.scatter(df1, x=\"donor_age\", y=\"recipient_age\", color=\"disease\", marginal_y=\"violin\",\n",
        "           marginal_x=\"box\", trendline=\"ols\", template=\"simple_white\")\n",
        "fig.show()"
      ],
      "metadata": {
        "colab": {
          "base_uri": "https://localhost:8080/",
          "height": 542
        },
        "id": "S6yV4KgAsgme",
        "outputId": "59b8992a-3097-4bf1-ad13-6c8d0f472667"
      },
      "execution_count": 56,
      "outputs": [
        {
          "output_type": "display_data",
          "data": {
            "text/html": [
              "<html>\n",
              "<head><meta charset=\"utf-8\" /></head>\n",
              "<body>\n",
              "    <div>            <script src=\"https://cdnjs.cloudflare.com/ajax/libs/mathjax/2.7.5/MathJax.js?config=TeX-AMS-MML_SVG\"></script><script type=\"text/javascript\">if (window.MathJax) {MathJax.Hub.Config({SVG: {font: \"STIX-Web\"}});}</script>                <script type=\"text/javascript\">window.PlotlyConfig = {MathJaxConfig: 'local'};</script>\n",
              "        <script src=\"https://cdn.plot.ly/plotly-2.8.3.min.js\"></script>                <div id=\"7360d076-2630-41af-aabc-4ccd50382632\" class=\"plotly-graph-div\" style=\"height:525px; width:100%;\"></div>            <script type=\"text/javascript\">                                    window.PLOTLYENV=window.PLOTLYENV || {};                                    if (document.getElementById(\"7360d076-2630-41af-aabc-4ccd50382632\")) {                    Plotly.newPlot(                        \"7360d076-2630-41af-aabc-4ccd50382632\",                        [{\"hovertemplate\":\"disease=ALL<br>donor_age=%{x}<br>recipient_age=%{y}<extra></extra>\",\"legendgroup\":\"ALL\",\"marker\":{\"color\":\"#1F77B4\",\"symbol\":\"circle\"},\"mode\":\"markers\",\"name\":\"ALL\",\"orientation\":\"v\",\"showlegend\":true,\"x\":[22.830137,23.342466,26.394521,40.863014,43.375342,31.745205,43.578082,30.50411,39.983562,39.172603,24.731507,24.353425,39.024658,34.273973,20.471233,38.761644,29.772603,28.821918,30.287671,33.120548,30.2,35.087671,44.413699,45.915068,35.287671,31.671233,21.263014,29.980822,25.210959,28.276712,21.128767,35.764384,38.827397,26.663014,43.065753,33.643836,36.435616,22.493151,47.369863,40.317808,42.739726,40.912329,34.005479,34.624658,51.005479,36.789041,43.126027,46.545205,20.394521,39.0,43.30411,35.430137,25.506849,29.619178,30.421918,24.575342,41.627397,23.578082,29.126027,18.646575,35.443836,40.947945,36.690411,34.167123,30.024658,30.854795],\"xaxis\":\"x\",\"y\":[9.6,4.0,6.6,5.1,0.6,17.7,14.7,6.7,4.7,8.4,8.6,4.6,3.1,13.8,3.1,13.4,8.5,15.1,8.3,6.9,2.8,12.6,15.6,14.2,12.2,11.8,7.4,9.2,1.7,18.2,14.0,7.7,7.7,7.1,6.7,17.5,20.1,2.3,11.6,17.7,7.7,2.0,9.0,14.7,18.9,16.6,5.2,6.0,6.8,5.1,14.0,13.5,12.2,10.0,8.5,5.0,13.4,6.4,4.2,9.6,3.6,16.1,3.4,12.7,7.5,4.8],\"yaxis\":\"y\",\"type\":\"scatter\"},{\"alignmentgroup\":\"True\",\"hovertemplate\":\"disease=ALL<br>donor_age=%{x}<extra></extra>\",\"legendgroup\":\"ALL\",\"marker\":{\"color\":\"#1F77B4\",\"symbol\":\"circle\"},\"name\":\"ALL\",\"notched\":true,\"offsetgroup\":\"ALL\",\"showlegend\":false,\"x\":[22.830137,23.342466,26.394521,40.863014,43.375342,31.745205,43.578082,30.50411,39.983562,39.172603,24.731507,24.353425,39.024658,34.273973,20.471233,38.761644,29.772603,28.821918,30.287671,33.120548,30.2,35.087671,44.413699,45.915068,35.287671,31.671233,21.263014,29.980822,25.210959,28.276712,21.128767,35.764384,38.827397,26.663014,43.065753,33.643836,36.435616,22.493151,47.369863,40.317808,42.739726,40.912329,34.005479,34.624658,51.005479,36.789041,43.126027,46.545205,20.394521,39.0,43.30411,35.430137,25.506849,29.619178,30.421918,24.575342,41.627397,23.578082,29.126027,18.646575,35.443836,40.947945,36.690411,34.167123,30.024658,30.854795],\"xaxis\":\"x3\",\"yaxis\":\"y3\",\"type\":\"box\"},{\"alignmentgroup\":\"True\",\"hovertemplate\":\"disease=ALL<br>recipient_age=%{y}<extra></extra>\",\"legendgroup\":\"ALL\",\"marker\":{\"color\":\"#1F77B4\",\"symbol\":\"circle\"},\"name\":\"ALL\",\"offsetgroup\":\"ALL\",\"scalegroup\":\"y\",\"showlegend\":false,\"xaxis\":\"x2\",\"y\":[9.6,4.0,6.6,5.1,0.6,17.7,14.7,6.7,4.7,8.4,8.6,4.6,3.1,13.8,3.1,13.4,8.5,15.1,8.3,6.9,2.8,12.6,15.6,14.2,12.2,11.8,7.4,9.2,1.7,18.2,14.0,7.7,7.7,7.1,6.7,17.5,20.1,2.3,11.6,17.7,7.7,2.0,9.0,14.7,18.9,16.6,5.2,6.0,6.8,5.1,14.0,13.5,12.2,10.0,8.5,5.0,13.4,6.4,4.2,9.6,3.6,16.1,3.4,12.7,7.5,4.8],\"yaxis\":\"y2\",\"type\":\"violin\"},{\"hovertemplate\":\"<b>OLS trendline</b><br>recipient_age = 0.158173 * donor_age + 4.05675<br>R<sup>2</sup>=0.061951<br><br>disease=ALL<br>donor_age=%{x}<br>recipient_age=%{y} <b>(trend)</b><extra></extra>\",\"legendgroup\":\"ALL\",\"marker\":{\"color\":\"#1F77B4\",\"symbol\":\"circle\"},\"mode\":\"lines\",\"name\":\"ALL\",\"showlegend\":false,\"x\":[18.646575,20.394521,20.471233,21.128767,21.263014,22.493151,22.830137,23.342466,23.578082,24.353425,24.575342,24.731507,25.210959,25.506849,26.394521,26.663014,28.276712,28.821918,29.126027,29.619178,29.772603,29.980822,30.024658,30.2,30.287671,30.421918,30.50411,30.854795,31.671233,31.745205,33.120548,33.643836,34.005479,34.167123,34.273973,34.624658,35.087671,35.287671,35.430137,35.443836,35.764384,36.435616,36.690411,36.789041,38.761644,38.827397,39.0,39.024658,39.172603,39.983562,40.317808,40.863014,40.912329,40.947945,41.627397,42.739726,43.065753,43.126027,43.30411,43.375342,43.578082,44.413699,45.915068,46.545205,47.369863,51.005479],\"xaxis\":\"x\",\"y\":[7.0061412020237075,7.282619879701498,7.294753682646222,7.398758114618484,7.419992427945218,7.614567461225722,7.6678697049311495,7.74890655873326,7.786174758162607,7.908813448023011,7.943914829137886,7.968615988498388,8.044452573249846,8.091254520185323,8.231660677338692,8.27412914581869,8.529373351996282,8.615610474849046,8.663712449503821,8.741715852569751,8.765983616632667,8.798918337606535,8.805852029674073,8.83358648159729,8.847453707558898,8.868688020885632,8.881688614425531,8.93715767644543,9.066296504902317,9.077996912549452,9.295539682173576,9.37830995899257,9.43551228585589,9.461080077638098,9.477980912509356,9.533449974529255,9.606686345668653,9.638321038923227,9.660855379969256,9.663022198283727,9.713724386550563,9.819895478663831,9.860197287002826,9.875797935981318,10.187811390071571,10.19821176999941,10.225512984798506,10.229413226129864,10.252814199597603,10.38108639563278,10.43395524404062,10.520192366893383,10.52799269138263,10.533626197557403,10.641097475563436,10.817038409129266,10.86860722981781,10.878140977323941,10.906308982718212,10.91757599506776,10.949644083619921,11.081816520986454,11.31929325987108,11.418964213387865,11.549403227737514,12.124461212494603],\"yaxis\":\"y\",\"type\":\"scatter\"},{\"hovertemplate\":\"disease=AML<br>donor_age=%{x}<br>recipient_age=%{y}<extra></extra>\",\"legendgroup\":\"AML\",\"marker\":{\"color\":\"#FF7F0E\",\"symbol\":\"circle\"},\"mode\":\"markers\",\"name\":\"AML\",\"orientation\":\"v\",\"showlegend\":true,\"x\":[39.684932,34.520548,30.676712,20.961644,40.536986,21.4,44.380822,31.526027,55.40274,24.476712,42.268493,35.630137,32.372603,21.972603,27.676712,28.709589,42.049315,37.380822,22.430137,43.745205,39.627397,25.772603,45.136986,19.506849,29.306849,24.180822,35.890411,29.928767,28.073973,41.476712,37.060274,37.632877,22.89589],\"xaxis\":\"x\",\"y\":[18.1,14.4,17.8,1.6,2.1,13.3,4.1,11.4,18.4,14.8,17.8,15.5,20.2,15.4,11.5,3.1,18.7,17.8,16.0,3.3,17.0,18.2,15.5,12.9,14.1,12.5,9.7,11.2,2.9,17.8,8.8,8.8,13.9],\"yaxis\":\"y\",\"type\":\"scatter\"},{\"alignmentgroup\":\"True\",\"hovertemplate\":\"disease=AML<br>donor_age=%{x}<extra></extra>\",\"legendgroup\":\"AML\",\"marker\":{\"color\":\"#FF7F0E\",\"symbol\":\"circle\"},\"name\":\"AML\",\"notched\":true,\"offsetgroup\":\"AML\",\"showlegend\":false,\"x\":[39.684932,34.520548,30.676712,20.961644,40.536986,21.4,44.380822,31.526027,55.40274,24.476712,42.268493,35.630137,32.372603,21.972603,27.676712,28.709589,42.049315,37.380822,22.430137,43.745205,39.627397,25.772603,45.136986,19.506849,29.306849,24.180822,35.890411,29.928767,28.073973,41.476712,37.060274,37.632877,22.89589],\"xaxis\":\"x3\",\"yaxis\":\"y3\",\"type\":\"box\"},{\"alignmentgroup\":\"True\",\"hovertemplate\":\"disease=AML<br>recipient_age=%{y}<extra></extra>\",\"legendgroup\":\"AML\",\"marker\":{\"color\":\"#FF7F0E\",\"symbol\":\"circle\"},\"name\":\"AML\",\"offsetgroup\":\"AML\",\"scalegroup\":\"y\",\"showlegend\":false,\"xaxis\":\"x2\",\"y\":[18.1,14.4,17.8,1.6,2.1,13.3,4.1,11.4,18.4,14.8,17.8,15.5,20.2,15.4,11.5,3.1,18.7,17.8,16.0,3.3,17.0,18.2,15.5,12.9,14.1,12.5,9.7,11.2,2.9,17.8,8.8,8.8,13.9],\"yaxis\":\"y2\",\"type\":\"violin\"},{\"hovertemplate\":\"<b>OLS trendline</b><br>recipient_age = 0.0627543 * donor_age + 10.6039<br>R<sup>2</sup>=0.009839<br><br>disease=AML<br>donor_age=%{x}<br>recipient_age=%{y} <b>(trend)</b><extra></extra>\",\"legendgroup\":\"AML\",\"marker\":{\"color\":\"#FF7F0E\",\"symbol\":\"circle\"},\"mode\":\"lines\",\"name\":\"AML\",\"showlegend\":false,\"x\":[19.506849,20.961644,21.4,21.972603,22.430137,22.89589,24.180822,24.476712,25.772603,27.676712,28.073973,28.709589,29.306849,29.928767,30.676712,31.526027,32.372603,34.520548,35.630137,35.890411,37.060274,37.380822,37.632877,39.627397,39.684932,40.536986,41.476712,42.049315,42.268493,43.745205,44.380822,45.136986,55.40274],\"xaxis\":\"x\",\"y\":[11.828029371986533,11.919324032429646,11.946832761957314,11.982766069711127,12.011478301449054,12.040706310883623,12.12134133549705,12.139909709101932,12.221232458228982,12.340723509959073,12.365653351003544,12.4055409962678,12.44302163711153,12.482049673799489,12.528986448262643,12.582284627411076,12.635410922496837,12.77020373483499,12.839835229984764,12.856168545986105,12.929582494583649,12.94969826403276,12.965515802337462,13.090680534239208,13.094291103624306,13.147761166835409,13.206733026155497,13.242666333909309,13.256420698673143,13.34909074538919,13.388978453407757,13.43643100556755,14.080651342881428],\"yaxis\":\"y\",\"type\":\"scatter\"},{\"hovertemplate\":\"disease=chronic<br>donor_age=%{x}<br>recipient_age=%{y}<extra></extra>\",\"legendgroup\":\"chronic\",\"marker\":{\"color\":\"#2CA02C\",\"symbol\":\"circle\"},\"mode\":\"markers\",\"name\":\"chronic\",\"orientation\":\"v\",\"showlegend\":true,\"x\":[33.358904,27.391781,29.731507,36.8,41.164384,40.232877,40.821918,31.545205,33.052055,39.380822,43.517808,28.805479,24.367123,43.715068,22.643836,47.112329,41.542466,41.443836,29.964384,21.756164,52.476712,19.446575,49.205479,41.873973,25.715068,30.594521,22.528767,28.268493,28.723288,37.254795,21.405479,33.857534,24.284932,51.991781,29.158904,35.627397,38.2,30.279452,40.391781,23.09589,19.663014,40.419178,30.972603,27.780822],\"xaxis\":\"x\",\"y\":[1.3,8.9,1.9,13.4,13.5,17.9,4.7,13.9,2.8,1.7,2.2,11.3,2.3,14.0,12.7,11.5,13.5,3.8,6.5,5.5,9.4,15.3,5.7,6.1,17.3,16.5,9.0,5.4,7.3,17.8,12.7,1.3,1.3,16.7,15.1,17.4,16.0,3.4,13.7,18.3,13.0,3.0,11.5,8.0],\"yaxis\":\"y\",\"type\":\"scatter\"},{\"alignmentgroup\":\"True\",\"hovertemplate\":\"disease=chronic<br>donor_age=%{x}<extra></extra>\",\"legendgroup\":\"chronic\",\"marker\":{\"color\":\"#2CA02C\",\"symbol\":\"circle\"},\"name\":\"chronic\",\"notched\":true,\"offsetgroup\":\"chronic\",\"showlegend\":false,\"x\":[33.358904,27.391781,29.731507,36.8,41.164384,40.232877,40.821918,31.545205,33.052055,39.380822,43.517808,28.805479,24.367123,43.715068,22.643836,47.112329,41.542466,41.443836,29.964384,21.756164,52.476712,19.446575,49.205479,41.873973,25.715068,30.594521,22.528767,28.268493,28.723288,37.254795,21.405479,33.857534,24.284932,51.991781,29.158904,35.627397,38.2,30.279452,40.391781,23.09589,19.663014,40.419178,30.972603,27.780822],\"xaxis\":\"x3\",\"yaxis\":\"y3\",\"type\":\"box\"},{\"alignmentgroup\":\"True\",\"hovertemplate\":\"disease=chronic<br>recipient_age=%{y}<extra></extra>\",\"legendgroup\":\"chronic\",\"marker\":{\"color\":\"#2CA02C\",\"symbol\":\"circle\"},\"name\":\"chronic\",\"offsetgroup\":\"chronic\",\"scalegroup\":\"y\",\"showlegend\":false,\"xaxis\":\"x2\",\"y\":[1.3,8.9,1.9,13.4,13.5,17.9,4.7,13.9,2.8,1.7,2.2,11.3,2.3,14.0,12.7,11.5,13.5,3.8,6.5,5.5,9.4,15.3,5.7,6.1,17.3,16.5,9.0,5.4,7.3,17.8,12.7,1.3,1.3,16.7,15.1,17.4,16.0,3.4,13.7,18.3,13.0,3.0,11.5,8.0],\"yaxis\":\"y2\",\"type\":\"violin\"},{\"hovertemplate\":\"<b>OLS trendline</b><br>recipient_age = -0.00413935 * donor_age + 9.78711<br>R<sup>2</sup>=0.000042<br><br>disease=chronic<br>donor_age=%{x}<br>recipient_age=%{y} <b>(trend)</b><extra></extra>\",\"legendgroup\":\"chronic\",\"marker\":{\"color\":\"#2CA02C\",\"symbol\":\"circle\"},\"mode\":\"lines\",\"name\":\"chronic\",\"showlegend\":false,\"x\":[19.446575,19.663014,21.405479,21.756164,22.528767,22.643836,23.09589,24.284932,24.367123,25.715068,27.391781,27.780822,28.268493,28.723288,28.805479,29.158904,29.731507,29.964384,30.279452,30.594521,30.972603,31.545205,33.052055,33.358904,33.857534,35.627397,36.8,37.254795,38.2,39.380822,40.232877,40.391781,40.419178,40.821918,41.164384,41.443836,41.542466,41.873973,43.517808,43.715068,47.112329,49.205479,51.991781,52.476712],\"xaxis\":\"x\",\"y\":[9.70661090528756,9.705714989125074,9.698502321555614,9.697050714592722,9.693852642549858,9.693376332010162,9.691505123563827,9.686583265924146,9.68624304884076,9.680663436517463,9.673722939303232,9.672112563540225,9.670093923965675,9.668211369568741,9.667871152485356,9.666408203711214,9.664038001102682,9.663074042351388,9.661769866516709,9.660465686542683,9.658900673885327,9.656530475416144,9.650293100130533,9.649022945590257,9.646958942910054,9.639632865506785,9.634779054595258,9.632896500198326,9.62898396855494,9.62409613634901,9.620569184894665,9.619911426071699,9.619798020377237,9.618130939697325,9.616713354028837,9.615556605183023,9.615148341371482,9.613776118808648,9.606971715050728,9.606155187427648,9.592092744715918,9.583428470183566,9.571894998880486,9.569887701117187],\"yaxis\":\"y\",\"type\":\"scatter\"},{\"hovertemplate\":\"disease=nonmalignant<br>donor_age=%{x}<br>recipient_age=%{y}<extra></extra>\",\"legendgroup\":\"nonmalignant\",\"marker\":{\"color\":\"#D62728\",\"symbol\":\"circle\"},\"mode\":\"markers\",\"name\":\"nonmalignant\",\"orientation\":\"v\",\"showlegend\":true,\"x\":[32.641096,28.783562,42.380822,24.780822,20.605479,40.969863,23.446575,49.860274,20.358904,36.868493,39.641096,39.632877,34.169863,31.194521,30.389041,37.287671,29.161644,26.221918,26.731507,40.052055,40.386301,22.408219,40.339726,39.249315,35.79726,25.284932,22.863014,22.257534,42.416438,27.347945,55.553425],\"xaxis\":\"x\",\"y\":[7.9,4.7,9.7,10.9,8.5,0.7,10.9,16.6,9.9,12.1,4.9,5.0,6.5,1.8,3.4,7.9,4.5,3.9,11.3,3.9,8.2,7.6,3.2,5.6,8.1,4.5,17.9,4.4,4.3,10.4,9.5],\"yaxis\":\"y\",\"type\":\"scatter\"},{\"alignmentgroup\":\"True\",\"hovertemplate\":\"disease=nonmalignant<br>donor_age=%{x}<extra></extra>\",\"legendgroup\":\"nonmalignant\",\"marker\":{\"color\":\"#D62728\",\"symbol\":\"circle\"},\"name\":\"nonmalignant\",\"notched\":true,\"offsetgroup\":\"nonmalignant\",\"showlegend\":false,\"x\":[32.641096,28.783562,42.380822,24.780822,20.605479,40.969863,23.446575,49.860274,20.358904,36.868493,39.641096,39.632877,34.169863,31.194521,30.389041,37.287671,29.161644,26.221918,26.731507,40.052055,40.386301,22.408219,40.339726,39.249315,35.79726,25.284932,22.863014,22.257534,42.416438,27.347945,55.553425],\"xaxis\":\"x3\",\"yaxis\":\"y3\",\"type\":\"box\"},{\"alignmentgroup\":\"True\",\"hovertemplate\":\"disease=nonmalignant<br>recipient_age=%{y}<extra></extra>\",\"legendgroup\":\"nonmalignant\",\"marker\":{\"color\":\"#D62728\",\"symbol\":\"circle\"},\"name\":\"nonmalignant\",\"offsetgroup\":\"nonmalignant\",\"scalegroup\":\"y\",\"showlegend\":false,\"xaxis\":\"x2\",\"y\":[7.9,4.7,9.7,10.9,8.5,0.7,10.9,16.6,9.9,12.1,4.9,5.0,6.5,1.8,3.4,7.9,4.5,3.9,11.3,3.9,8.2,7.6,3.2,5.6,8.1,4.5,17.9,4.4,4.3,10.4,9.5],\"yaxis\":\"y2\",\"type\":\"violin\"},{\"hovertemplate\":\"<b>OLS trendline</b><br>recipient_age = -0.0280144 * donor_age + 8.30739<br>R<sup>2</sup>=0.003913<br><br>disease=nonmalignant<br>donor_age=%{x}<br>recipient_age=%{y} <b>(trend)</b><extra></extra>\",\"legendgroup\":\"nonmalignant\",\"marker\":{\"color\":\"#D62728\",\"symbol\":\"circle\"},\"mode\":\"lines\",\"name\":\"nonmalignant\",\"showlegend\":false,\"x\":[20.358904,20.605479,22.257534,22.408219,22.863014,23.446575,24.780822,25.284932,26.221918,26.731507,27.347945,28.783562,29.161644,30.389041,31.194521,32.641096,34.169863,35.79726,36.868493,37.287671,39.249315,39.632877,39.641096,40.052055,40.339726,40.386301,40.969863,42.380822,42.416438,49.860274,55.553425],\"xaxis\":\"x\",\"y\":[7.737048330427451,7.730140682863789,7.683859374151283,7.679638026191715,7.666897222891641,7.650549118988575,7.613171006694653,7.599048673881847,7.5727995851255425,7.558523761484382,7.541254628568033,7.501036697827275,7.4904449622248634,7.456060187220519,7.433495158488576,7.392970246091111,7.35014277516763,7.304552245218684,7.2745423090022605,7.2627992941368404,7.207845039255474,7.197099784810321,7.196869534560598,7.185356769944902,7.1772978431182315,7.17599307302687,7.159644941109417,7.12011778913222,7.1191200287119525,6.910585523552459,6.751095386130936],\"yaxis\":\"y\",\"type\":\"scatter\"},{\"hovertemplate\":\"disease=lymphoma<br>donor_age=%{x}<br>recipient_age=%{y}<extra></extra>\",\"legendgroup\":\"lymphoma\",\"marker\":{\"color\":\"#9467BD\",\"symbol\":\"circle\"},\"mode\":\"markers\",\"name\":\"lymphoma\",\"orientation\":\"v\",\"showlegend\":true,\"x\":[30.60274,39.643836,37.0,33.550685,30.156164,33.915068,46.00274,37.575342],\"xaxis\":\"x\",\"y\":[11.5,13.5,14.1,12.1,7.2,9.5,18.8,12.9],\"yaxis\":\"y\",\"type\":\"scatter\"},{\"alignmentgroup\":\"True\",\"hovertemplate\":\"disease=lymphoma<br>donor_age=%{x}<extra></extra>\",\"legendgroup\":\"lymphoma\",\"marker\":{\"color\":\"#9467BD\",\"symbol\":\"circle\"},\"name\":\"lymphoma\",\"notched\":true,\"offsetgroup\":\"lymphoma\",\"showlegend\":false,\"x\":[30.60274,39.643836,37.0,33.550685,30.156164,33.915068,46.00274,37.575342],\"xaxis\":\"x3\",\"yaxis\":\"y3\",\"type\":\"box\"},{\"alignmentgroup\":\"True\",\"hovertemplate\":\"disease=lymphoma<br>recipient_age=%{y}<extra></extra>\",\"legendgroup\":\"lymphoma\",\"marker\":{\"color\":\"#9467BD\",\"symbol\":\"circle\"},\"name\":\"lymphoma\",\"offsetgroup\":\"lymphoma\",\"scalegroup\":\"y\",\"showlegend\":false,\"xaxis\":\"x2\",\"y\":[11.5,13.5,14.1,12.1,7.2,9.5,18.8,12.9],\"yaxis\":\"y2\",\"type\":\"violin\"},{\"hovertemplate\":\"<b>OLS trendline</b><br>recipient_age = 0.590904 * donor_age + -8.85554<br>R<sup>2</sup>=0.814395<br><br>disease=lymphoma<br>donor_age=%{x}<br>recipient_age=%{y} <b>(trend)</b><extra></extra>\",\"legendgroup\":\"lymphoma\",\"marker\":{\"color\":\"#9467BD\",\"symbol\":\"circle\"},\"mode\":\"lines\",\"name\":\"lymphoma\",\"showlegend\":false,\"x\":[30.156164,30.60274,33.550685,33.915068,37.0,37.575342,39.643836,46.00274],\"xaxis\":\"x\",\"y\":[8.963866228137535,9.22774994958185,10.969703608562986,11.18501912500597,13.007919004450125,13.347891121319849,14.57017331853877,18.327677644402982],\"yaxis\":\"y\",\"type\":\"scatter\"}],                        {\"template\":{\"data\":{\"barpolar\":[{\"marker\":{\"line\":{\"color\":\"white\",\"width\":0.5},\"pattern\":{\"fillmode\":\"overlay\",\"size\":10,\"solidity\":0.2}},\"type\":\"barpolar\"}],\"bar\":[{\"error_x\":{\"color\":\"rgb(36,36,36)\"},\"error_y\":{\"color\":\"rgb(36,36,36)\"},\"marker\":{\"line\":{\"color\":\"white\",\"width\":0.5},\"pattern\":{\"fillmode\":\"overlay\",\"size\":10,\"solidity\":0.2}},\"type\":\"bar\"}],\"carpet\":[{\"aaxis\":{\"endlinecolor\":\"rgb(36,36,36)\",\"gridcolor\":\"white\",\"linecolor\":\"white\",\"minorgridcolor\":\"white\",\"startlinecolor\":\"rgb(36,36,36)\"},\"baxis\":{\"endlinecolor\":\"rgb(36,36,36)\",\"gridcolor\":\"white\",\"linecolor\":\"white\",\"minorgridcolor\":\"white\",\"startlinecolor\":\"rgb(36,36,36)\"},\"type\":\"carpet\"}],\"choropleth\":[{\"colorbar\":{\"outlinewidth\":1,\"tickcolor\":\"rgb(36,36,36)\",\"ticks\":\"outside\"},\"type\":\"choropleth\"}],\"contourcarpet\":[{\"colorbar\":{\"outlinewidth\":1,\"tickcolor\":\"rgb(36,36,36)\",\"ticks\":\"outside\"},\"type\":\"contourcarpet\"}],\"contour\":[{\"colorbar\":{\"outlinewidth\":1,\"tickcolor\":\"rgb(36,36,36)\",\"ticks\":\"outside\"},\"colorscale\":[[0.0,\"#440154\"],[0.1111111111111111,\"#482878\"],[0.2222222222222222,\"#3e4989\"],[0.3333333333333333,\"#31688e\"],[0.4444444444444444,\"#26828e\"],[0.5555555555555556,\"#1f9e89\"],[0.6666666666666666,\"#35b779\"],[0.7777777777777778,\"#6ece58\"],[0.8888888888888888,\"#b5de2b\"],[1.0,\"#fde725\"]],\"type\":\"contour\"}],\"heatmapgl\":[{\"colorbar\":{\"outlinewidth\":1,\"tickcolor\":\"rgb(36,36,36)\",\"ticks\":\"outside\"},\"colorscale\":[[0.0,\"#440154\"],[0.1111111111111111,\"#482878\"],[0.2222222222222222,\"#3e4989\"],[0.3333333333333333,\"#31688e\"],[0.4444444444444444,\"#26828e\"],[0.5555555555555556,\"#1f9e89\"],[0.6666666666666666,\"#35b779\"],[0.7777777777777778,\"#6ece58\"],[0.8888888888888888,\"#b5de2b\"],[1.0,\"#fde725\"]],\"type\":\"heatmapgl\"}],\"heatmap\":[{\"colorbar\":{\"outlinewidth\":1,\"tickcolor\":\"rgb(36,36,36)\",\"ticks\":\"outside\"},\"colorscale\":[[0.0,\"#440154\"],[0.1111111111111111,\"#482878\"],[0.2222222222222222,\"#3e4989\"],[0.3333333333333333,\"#31688e\"],[0.4444444444444444,\"#26828e\"],[0.5555555555555556,\"#1f9e89\"],[0.6666666666666666,\"#35b779\"],[0.7777777777777778,\"#6ece58\"],[0.8888888888888888,\"#b5de2b\"],[1.0,\"#fde725\"]],\"type\":\"heatmap\"}],\"histogram2dcontour\":[{\"colorbar\":{\"outlinewidth\":1,\"tickcolor\":\"rgb(36,36,36)\",\"ticks\":\"outside\"},\"colorscale\":[[0.0,\"#440154\"],[0.1111111111111111,\"#482878\"],[0.2222222222222222,\"#3e4989\"],[0.3333333333333333,\"#31688e\"],[0.4444444444444444,\"#26828e\"],[0.5555555555555556,\"#1f9e89\"],[0.6666666666666666,\"#35b779\"],[0.7777777777777778,\"#6ece58\"],[0.8888888888888888,\"#b5de2b\"],[1.0,\"#fde725\"]],\"type\":\"histogram2dcontour\"}],\"histogram2d\":[{\"colorbar\":{\"outlinewidth\":1,\"tickcolor\":\"rgb(36,36,36)\",\"ticks\":\"outside\"},\"colorscale\":[[0.0,\"#440154\"],[0.1111111111111111,\"#482878\"],[0.2222222222222222,\"#3e4989\"],[0.3333333333333333,\"#31688e\"],[0.4444444444444444,\"#26828e\"],[0.5555555555555556,\"#1f9e89\"],[0.6666666666666666,\"#35b779\"],[0.7777777777777778,\"#6ece58\"],[0.8888888888888888,\"#b5de2b\"],[1.0,\"#fde725\"]],\"type\":\"histogram2d\"}],\"histogram\":[{\"marker\":{\"line\":{\"color\":\"white\",\"width\":0.6}},\"type\":\"histogram\"}],\"mesh3d\":[{\"colorbar\":{\"outlinewidth\":1,\"tickcolor\":\"rgb(36,36,36)\",\"ticks\":\"outside\"},\"type\":\"mesh3d\"}],\"parcoords\":[{\"line\":{\"colorbar\":{\"outlinewidth\":1,\"tickcolor\":\"rgb(36,36,36)\",\"ticks\":\"outside\"}},\"type\":\"parcoords\"}],\"pie\":[{\"automargin\":true,\"type\":\"pie\"}],\"scatter3d\":[{\"line\":{\"colorbar\":{\"outlinewidth\":1,\"tickcolor\":\"rgb(36,36,36)\",\"ticks\":\"outside\"}},\"marker\":{\"colorbar\":{\"outlinewidth\":1,\"tickcolor\":\"rgb(36,36,36)\",\"ticks\":\"outside\"}},\"type\":\"scatter3d\"}],\"scattercarpet\":[{\"marker\":{\"colorbar\":{\"outlinewidth\":1,\"tickcolor\":\"rgb(36,36,36)\",\"ticks\":\"outside\"}},\"type\":\"scattercarpet\"}],\"scattergeo\":[{\"marker\":{\"colorbar\":{\"outlinewidth\":1,\"tickcolor\":\"rgb(36,36,36)\",\"ticks\":\"outside\"}},\"type\":\"scattergeo\"}],\"scattergl\":[{\"marker\":{\"colorbar\":{\"outlinewidth\":1,\"tickcolor\":\"rgb(36,36,36)\",\"ticks\":\"outside\"}},\"type\":\"scattergl\"}],\"scattermapbox\":[{\"marker\":{\"colorbar\":{\"outlinewidth\":1,\"tickcolor\":\"rgb(36,36,36)\",\"ticks\":\"outside\"}},\"type\":\"scattermapbox\"}],\"scatterpolargl\":[{\"marker\":{\"colorbar\":{\"outlinewidth\":1,\"tickcolor\":\"rgb(36,36,36)\",\"ticks\":\"outside\"}},\"type\":\"scatterpolargl\"}],\"scatterpolar\":[{\"marker\":{\"colorbar\":{\"outlinewidth\":1,\"tickcolor\":\"rgb(36,36,36)\",\"ticks\":\"outside\"}},\"type\":\"scatterpolar\"}],\"scatter\":[{\"marker\":{\"colorbar\":{\"outlinewidth\":1,\"tickcolor\":\"rgb(36,36,36)\",\"ticks\":\"outside\"}},\"type\":\"scatter\"}],\"scatterternary\":[{\"marker\":{\"colorbar\":{\"outlinewidth\":1,\"tickcolor\":\"rgb(36,36,36)\",\"ticks\":\"outside\"}},\"type\":\"scatterternary\"}],\"surface\":[{\"colorbar\":{\"outlinewidth\":1,\"tickcolor\":\"rgb(36,36,36)\",\"ticks\":\"outside\"},\"colorscale\":[[0.0,\"#440154\"],[0.1111111111111111,\"#482878\"],[0.2222222222222222,\"#3e4989\"],[0.3333333333333333,\"#31688e\"],[0.4444444444444444,\"#26828e\"],[0.5555555555555556,\"#1f9e89\"],[0.6666666666666666,\"#35b779\"],[0.7777777777777778,\"#6ece58\"],[0.8888888888888888,\"#b5de2b\"],[1.0,\"#fde725\"]],\"type\":\"surface\"}],\"table\":[{\"cells\":{\"fill\":{\"color\":\"rgb(237,237,237)\"},\"line\":{\"color\":\"white\"}},\"header\":{\"fill\":{\"color\":\"rgb(217,217,217)\"},\"line\":{\"color\":\"white\"}},\"type\":\"table\"}]},\"layout\":{\"annotationdefaults\":{\"arrowhead\":0,\"arrowwidth\":1},\"autotypenumbers\":\"strict\",\"coloraxis\":{\"colorbar\":{\"outlinewidth\":1,\"tickcolor\":\"rgb(36,36,36)\",\"ticks\":\"outside\"}},\"colorscale\":{\"diverging\":[[0.0,\"rgb(103,0,31)\"],[0.1,\"rgb(178,24,43)\"],[0.2,\"rgb(214,96,77)\"],[0.3,\"rgb(244,165,130)\"],[0.4,\"rgb(253,219,199)\"],[0.5,\"rgb(247,247,247)\"],[0.6,\"rgb(209,229,240)\"],[0.7,\"rgb(146,197,222)\"],[0.8,\"rgb(67,147,195)\"],[0.9,\"rgb(33,102,172)\"],[1.0,\"rgb(5,48,97)\"]],\"sequential\":[[0.0,\"#440154\"],[0.1111111111111111,\"#482878\"],[0.2222222222222222,\"#3e4989\"],[0.3333333333333333,\"#31688e\"],[0.4444444444444444,\"#26828e\"],[0.5555555555555556,\"#1f9e89\"],[0.6666666666666666,\"#35b779\"],[0.7777777777777778,\"#6ece58\"],[0.8888888888888888,\"#b5de2b\"],[1.0,\"#fde725\"]],\"sequentialminus\":[[0.0,\"#440154\"],[0.1111111111111111,\"#482878\"],[0.2222222222222222,\"#3e4989\"],[0.3333333333333333,\"#31688e\"],[0.4444444444444444,\"#26828e\"],[0.5555555555555556,\"#1f9e89\"],[0.6666666666666666,\"#35b779\"],[0.7777777777777778,\"#6ece58\"],[0.8888888888888888,\"#b5de2b\"],[1.0,\"#fde725\"]]},\"colorway\":[\"#1F77B4\",\"#FF7F0E\",\"#2CA02C\",\"#D62728\",\"#9467BD\",\"#8C564B\",\"#E377C2\",\"#7F7F7F\",\"#BCBD22\",\"#17BECF\"],\"font\":{\"color\":\"rgb(36,36,36)\"},\"geo\":{\"bgcolor\":\"white\",\"lakecolor\":\"white\",\"landcolor\":\"white\",\"showlakes\":true,\"showland\":true,\"subunitcolor\":\"white\"},\"hoverlabel\":{\"align\":\"left\"},\"hovermode\":\"closest\",\"mapbox\":{\"style\":\"light\"},\"paper_bgcolor\":\"white\",\"plot_bgcolor\":\"white\",\"polar\":{\"angularaxis\":{\"gridcolor\":\"rgb(232,232,232)\",\"linecolor\":\"rgb(36,36,36)\",\"showgrid\":false,\"showline\":true,\"ticks\":\"outside\"},\"bgcolor\":\"white\",\"radialaxis\":{\"gridcolor\":\"rgb(232,232,232)\",\"linecolor\":\"rgb(36,36,36)\",\"showgrid\":false,\"showline\":true,\"ticks\":\"outside\"}},\"scene\":{\"xaxis\":{\"backgroundcolor\":\"white\",\"gridcolor\":\"rgb(232,232,232)\",\"gridwidth\":2,\"linecolor\":\"rgb(36,36,36)\",\"showbackground\":true,\"showgrid\":false,\"showline\":true,\"ticks\":\"outside\",\"zeroline\":false,\"zerolinecolor\":\"rgb(36,36,36)\"},\"yaxis\":{\"backgroundcolor\":\"white\",\"gridcolor\":\"rgb(232,232,232)\",\"gridwidth\":2,\"linecolor\":\"rgb(36,36,36)\",\"showbackground\":true,\"showgrid\":false,\"showline\":true,\"ticks\":\"outside\",\"zeroline\":false,\"zerolinecolor\":\"rgb(36,36,36)\"},\"zaxis\":{\"backgroundcolor\":\"white\",\"gridcolor\":\"rgb(232,232,232)\",\"gridwidth\":2,\"linecolor\":\"rgb(36,36,36)\",\"showbackground\":true,\"showgrid\":false,\"showline\":true,\"ticks\":\"outside\",\"zeroline\":false,\"zerolinecolor\":\"rgb(36,36,36)\"}},\"shapedefaults\":{\"fillcolor\":\"black\",\"line\":{\"width\":0},\"opacity\":0.3},\"ternary\":{\"aaxis\":{\"gridcolor\":\"rgb(232,232,232)\",\"linecolor\":\"rgb(36,36,36)\",\"showgrid\":false,\"showline\":true,\"ticks\":\"outside\"},\"baxis\":{\"gridcolor\":\"rgb(232,232,232)\",\"linecolor\":\"rgb(36,36,36)\",\"showgrid\":false,\"showline\":true,\"ticks\":\"outside\"},\"bgcolor\":\"white\",\"caxis\":{\"gridcolor\":\"rgb(232,232,232)\",\"linecolor\":\"rgb(36,36,36)\",\"showgrid\":false,\"showline\":true,\"ticks\":\"outside\"}},\"title\":{\"x\":0.05},\"xaxis\":{\"automargin\":true,\"gridcolor\":\"rgb(232,232,232)\",\"linecolor\":\"rgb(36,36,36)\",\"showgrid\":false,\"showline\":true,\"ticks\":\"outside\",\"title\":{\"standoff\":15},\"zeroline\":false,\"zerolinecolor\":\"rgb(36,36,36)\"},\"yaxis\":{\"automargin\":true,\"gridcolor\":\"rgb(232,232,232)\",\"linecolor\":\"rgb(36,36,36)\",\"showgrid\":false,\"showline\":true,\"ticks\":\"outside\",\"title\":{\"standoff\":15},\"zeroline\":false,\"zerolinecolor\":\"rgb(36,36,36)\"}}},\"xaxis\":{\"anchor\":\"y\",\"domain\":[0.0,0.7363],\"title\":{\"text\":\"donor_age\"}},\"yaxis\":{\"anchor\":\"x\",\"domain\":[0.0,0.7326],\"title\":{\"text\":\"recipient_age\"}},\"xaxis2\":{\"anchor\":\"y2\",\"domain\":[0.7413,1.0],\"matches\":\"x2\",\"showticklabels\":false,\"showline\":false,\"ticks\":\"\"},\"yaxis2\":{\"anchor\":\"x2\",\"domain\":[0.0,0.7326],\"matches\":\"y\",\"showticklabels\":false},\"xaxis3\":{\"anchor\":\"y3\",\"domain\":[0.0,0.7363],\"matches\":\"x\",\"showticklabels\":false},\"yaxis3\":{\"anchor\":\"x3\",\"domain\":[0.7426,1.0],\"matches\":\"y3\",\"showticklabels\":false,\"showline\":false,\"ticks\":\"\"},\"xaxis4\":{\"anchor\":\"y4\",\"domain\":[0.7413,1.0],\"matches\":\"x2\",\"showticklabels\":false,\"showline\":false,\"ticks\":\"\"},\"yaxis4\":{\"anchor\":\"x4\",\"domain\":[0.7426,1.0],\"matches\":\"y3\",\"showticklabels\":false,\"showline\":false,\"ticks\":\"\"},\"legend\":{\"title\":{\"text\":\"disease\"},\"tracegroupgap\":0},\"margin\":{\"t\":60}},                        {\"responsive\": true}                    ).then(function(){\n",
              "                            \n",
              "var gd = document.getElementById('7360d076-2630-41af-aabc-4ccd50382632');\n",
              "var x = new MutationObserver(function (mutations, observer) {{\n",
              "        var display = window.getComputedStyle(gd).display;\n",
              "        if (!display || display === 'none') {{\n",
              "            console.log([gd, 'removed!']);\n",
              "            Plotly.purge(gd);\n",
              "            observer.disconnect();\n",
              "        }}\n",
              "}});\n",
              "\n",
              "// Listen for the removal of the full notebook cells\n",
              "var notebookContainer = gd.closest('#notebook-container');\n",
              "if (notebookContainer) {{\n",
              "    x.observe(notebookContainer, {childList: true});\n",
              "}}\n",
              "\n",
              "// Listen for the clearing of the current output cell\n",
              "var outputEl = gd.closest('.output');\n",
              "if (outputEl) {{\n",
              "    x.observe(outputEl, {childList: true});\n",
              "}}\n",
              "\n",
              "                        })                };                            </script>        </div>\n",
              "</body>\n",
              "</html>"
            ]
          },
          "metadata": {}
        }
      ]
    },
    {
      "cell_type": "code",
      "source": [
        "def violin(col):\n",
        "    fig=px.violin(df1,y=col,x='survival_status',color = 'disease',box=True)\n",
        "    return fig.show()"
      ],
      "metadata": {
        "id": "r-pAus_jssyx"
      },
      "execution_count": 59,
      "outputs": []
    },
    {
      "cell_type": "code",
      "source": [
        "violin('recipient_body_mass')"
      ],
      "metadata": {
        "colab": {
          "base_uri": "https://localhost:8080/",
          "height": 542
        },
        "id": "Fw5du4wguo46",
        "outputId": "4a16ea60-211a-47b7-e702-899954ef49a6"
      },
      "execution_count": 61,
      "outputs": [
        {
          "output_type": "display_data",
          "data": {
            "text/html": [
              "<html>\n",
              "<head><meta charset=\"utf-8\" /></head>\n",
              "<body>\n",
              "    <div>            <script src=\"https://cdnjs.cloudflare.com/ajax/libs/mathjax/2.7.5/MathJax.js?config=TeX-AMS-MML_SVG\"></script><script type=\"text/javascript\">if (window.MathJax) {MathJax.Hub.Config({SVG: {font: \"STIX-Web\"}});}</script>                <script type=\"text/javascript\">window.PlotlyConfig = {MathJaxConfig: 'local'};</script>\n",
              "        <script src=\"https://cdn.plot.ly/plotly-2.8.3.min.js\"></script>                <div id=\"4a6d7b56-95c2-4d90-930e-a9fc1b765e75\" class=\"plotly-graph-div\" style=\"height:525px; width:100%;\"></div>            <script type=\"text/javascript\">                                    window.PLOTLYENV=window.PLOTLYENV || {};                                    if (document.getElementById(\"4a6d7b56-95c2-4d90-930e-a9fc1b765e75\")) {                    Plotly.newPlot(                        \"4a6d7b56-95c2-4d90-930e-a9fc1b765e75\",                        [{\"alignmentgroup\":\"True\",\"box\":{\"visible\":true},\"hovertemplate\":\"disease=ALL<br>survival_status=%{x}<br>recipient_body_mass=%{y}<extra></extra>\",\"legendgroup\":\"ALL\",\"marker\":{\"color\":\"#636efa\"},\"name\":\"ALL\",\"offsetgroup\":\"ALL\",\"orientation\":\"v\",\"scalegroup\":\"True\",\"showlegend\":true,\"x\":[0,1,1,0,0,0,1,0,1,1,0,0,1,0,1,1,0,0,0,0,0,1,0,1,0,0,0,1,0,1,0,0,0,1,0,0,1,0,1,1,0,0,1,1,1,1,0,0,1,1,0,1,1,0,0,0,1,0,1,0,1,0,0,0,0,1],\"x0\":\" \",\"xaxis\":\"x\",\"y\":[35.0,20.6,23.4,18.1,6.0,64.0,62.0,23.8,17.0,38.3,20.0,23.0,15.0,48.0,15.0,76.0,30.0,48.8,38.5,28.5,13.0,51.0,68.0,61.0,30.8,45.5,26.5,26.0,11.2,72.5,54.1,18.6,19.5,32.0,17.6,65.0,54.5,12.0,33.0,59.0,20.8,12.0,33.0,62.0,70.0,58.9,20.9,17.3,23.0,17.5,58.0,65.0,44.1,55.0,24.0,25.4,38.4,18.3,18.0,36.0,17.0,57.0,24.0,49.0,28.0,25.0],\"y0\":\" \",\"yaxis\":\"y\",\"type\":\"violin\"},{\"alignmentgroup\":\"True\",\"box\":{\"visible\":true},\"hovertemplate\":\"disease=AML<br>survival_status=%{x}<br>recipient_body_mass=%{y}<extra></extra>\",\"legendgroup\":\"AML\",\"marker\":{\"color\":\"#EF553B\"},\"name\":\"AML\",\"offsetgroup\":\"AML\",\"orientation\":\"v\",\"scalegroup\":\"True\",\"showlegend\":true,\"x\":[1,1,0,1,0,0,0,0,1,0,1,1,0,1,0,0,1,0,0,0,0,0,0,1,1,0,1,0,1,1,0,1,1],\"x0\":\" \",\"xaxis\":\"x\",\"y\":[50.0,51.0,55.0,11.25,15.0,43.5,15.3,41.4,47.0,49.0,56.5,61.3,62.5,70.0,33.0,15.3,52.7,51.3,44.5,13.0,62.0,54.6,71.0,40.3,49.0,35.9,44.3,30.5,11.2,50.8,24.0,33.0,44.5],\"y0\":\" \",\"yaxis\":\"y\",\"type\":\"violin\"},{\"alignmentgroup\":\"True\",\"box\":{\"visible\":true},\"hovertemplate\":\"disease=chronic<br>survival_status=%{x}<br>recipient_body_mass=%{y}<extra></extra>\",\"legendgroup\":\"chronic\",\"marker\":{\"color\":\"#00cc96\"},\"name\":\"chronic\",\"offsetgroup\":\"chronic\",\"orientation\":\"v\",\"scalegroup\":\"True\",\"showlegend\":true,\"x\":[0,0,0,0,0,1,0,0,0,0,1,0,1,0,1,1,0,1,1,1,0,0,1,1,1,1,0,0,0,1,1,1,0,1,0,0,1,0,0,1,0,0,0,1],\"x0\":\" \",\"xaxis\":\"x\",\"y\":[9.0,40.0,10.5,47.0,30.0,97.8,20.5,31.0,14.3,10.0,10.5,34.1,14.0,52.0,54.9,30.0,58.0,16.5,16.0,28.0,22.6,51.1,23.0,19.0,73.0,55.2,25.2,19.6,25.0,90.0,37.0,9.6,10.5,50.6,60.0,65.0,71.0,14.8,35.5,62.0,43.0,13.0,36.0,24.0],\"y0\":\" \",\"yaxis\":\"y\",\"type\":\"violin\"},{\"alignmentgroup\":\"True\",\"box\":{\"visible\":true},\"hovertemplate\":\"disease=nonmalignant<br>survival_status=%{x}<br>recipient_body_mass=%{y}<extra></extra>\",\"legendgroup\":\"nonmalignant\",\"marker\":{\"color\":\"#ab63fa\"},\"name\":\"nonmalignant\",\"offsetgroup\":\"nonmalignant\",\"orientation\":\"v\",\"scalegroup\":\"True\",\"showlegend\":true,\"x\":[0,0,1,1,0,0,0,1,1,0,0,0,0,0,0,1,1,1,0,1,0,1,0,1,0,0,1,0,0,0,0],\"x0\":\" \",\"xaxis\":\"x\",\"y\":[20.5,16.5,43.2,39.3,26.8,6.4,49.6,63.0,29.0,60.4,7.5,19.5,23.0,8.15,10.0,37.0,15.0,11.9,46.7,14.1,24.5,34.0,17.2,24.3,26.9,19.0,42.4,16.0,14.0,33.0,37.0],\"y0\":\" \",\"yaxis\":\"y\",\"type\":\"violin\"},{\"alignmentgroup\":\"True\",\"box\":{\"visible\":true},\"hovertemplate\":\"disease=lymphoma<br>survival_status=%{x}<br>recipient_body_mass=%{y}<extra></extra>\",\"legendgroup\":\"lymphoma\",\"marker\":{\"color\":\"#FFA15A\"},\"name\":\"lymphoma\",\"offsetgroup\":\"lymphoma\",\"orientation\":\"v\",\"scalegroup\":\"True\",\"showlegend\":true,\"x\":[1,1,1,1,1,1,1,1],\"x0\":\" \",\"xaxis\":\"x\",\"y\":[42.0,47.0,44.3,43.0,24.3,23.0,103.4,44.0],\"y0\":\" \",\"yaxis\":\"y\",\"type\":\"violin\"}],                        {\"template\":{\"data\":{\"bar\":[{\"error_x\":{\"color\":\"#2a3f5f\"},\"error_y\":{\"color\":\"#2a3f5f\"},\"marker\":{\"line\":{\"color\":\"#E5ECF6\",\"width\":0.5},\"pattern\":{\"fillmode\":\"overlay\",\"size\":10,\"solidity\":0.2}},\"type\":\"bar\"}],\"barpolar\":[{\"marker\":{\"line\":{\"color\":\"#E5ECF6\",\"width\":0.5},\"pattern\":{\"fillmode\":\"overlay\",\"size\":10,\"solidity\":0.2}},\"type\":\"barpolar\"}],\"carpet\":[{\"aaxis\":{\"endlinecolor\":\"#2a3f5f\",\"gridcolor\":\"white\",\"linecolor\":\"white\",\"minorgridcolor\":\"white\",\"startlinecolor\":\"#2a3f5f\"},\"baxis\":{\"endlinecolor\":\"#2a3f5f\",\"gridcolor\":\"white\",\"linecolor\":\"white\",\"minorgridcolor\":\"white\",\"startlinecolor\":\"#2a3f5f\"},\"type\":\"carpet\"}],\"choropleth\":[{\"colorbar\":{\"outlinewidth\":0,\"ticks\":\"\"},\"type\":\"choropleth\"}],\"contour\":[{\"colorbar\":{\"outlinewidth\":0,\"ticks\":\"\"},\"colorscale\":[[0.0,\"#0d0887\"],[0.1111111111111111,\"#46039f\"],[0.2222222222222222,\"#7201a8\"],[0.3333333333333333,\"#9c179e\"],[0.4444444444444444,\"#bd3786\"],[0.5555555555555556,\"#d8576b\"],[0.6666666666666666,\"#ed7953\"],[0.7777777777777778,\"#fb9f3a\"],[0.8888888888888888,\"#fdca26\"],[1.0,\"#f0f921\"]],\"type\":\"contour\"}],\"contourcarpet\":[{\"colorbar\":{\"outlinewidth\":0,\"ticks\":\"\"},\"type\":\"contourcarpet\"}],\"heatmap\":[{\"colorbar\":{\"outlinewidth\":0,\"ticks\":\"\"},\"colorscale\":[[0.0,\"#0d0887\"],[0.1111111111111111,\"#46039f\"],[0.2222222222222222,\"#7201a8\"],[0.3333333333333333,\"#9c179e\"],[0.4444444444444444,\"#bd3786\"],[0.5555555555555556,\"#d8576b\"],[0.6666666666666666,\"#ed7953\"],[0.7777777777777778,\"#fb9f3a\"],[0.8888888888888888,\"#fdca26\"],[1.0,\"#f0f921\"]],\"type\":\"heatmap\"}],\"heatmapgl\":[{\"colorbar\":{\"outlinewidth\":0,\"ticks\":\"\"},\"colorscale\":[[0.0,\"#0d0887\"],[0.1111111111111111,\"#46039f\"],[0.2222222222222222,\"#7201a8\"],[0.3333333333333333,\"#9c179e\"],[0.4444444444444444,\"#bd3786\"],[0.5555555555555556,\"#d8576b\"],[0.6666666666666666,\"#ed7953\"],[0.7777777777777778,\"#fb9f3a\"],[0.8888888888888888,\"#fdca26\"],[1.0,\"#f0f921\"]],\"type\":\"heatmapgl\"}],\"histogram\":[{\"marker\":{\"pattern\":{\"fillmode\":\"overlay\",\"size\":10,\"solidity\":0.2}},\"type\":\"histogram\"}],\"histogram2d\":[{\"colorbar\":{\"outlinewidth\":0,\"ticks\":\"\"},\"colorscale\":[[0.0,\"#0d0887\"],[0.1111111111111111,\"#46039f\"],[0.2222222222222222,\"#7201a8\"],[0.3333333333333333,\"#9c179e\"],[0.4444444444444444,\"#bd3786\"],[0.5555555555555556,\"#d8576b\"],[0.6666666666666666,\"#ed7953\"],[0.7777777777777778,\"#fb9f3a\"],[0.8888888888888888,\"#fdca26\"],[1.0,\"#f0f921\"]],\"type\":\"histogram2d\"}],\"histogram2dcontour\":[{\"colorbar\":{\"outlinewidth\":0,\"ticks\":\"\"},\"colorscale\":[[0.0,\"#0d0887\"],[0.1111111111111111,\"#46039f\"],[0.2222222222222222,\"#7201a8\"],[0.3333333333333333,\"#9c179e\"],[0.4444444444444444,\"#bd3786\"],[0.5555555555555556,\"#d8576b\"],[0.6666666666666666,\"#ed7953\"],[0.7777777777777778,\"#fb9f3a\"],[0.8888888888888888,\"#fdca26\"],[1.0,\"#f0f921\"]],\"type\":\"histogram2dcontour\"}],\"mesh3d\":[{\"colorbar\":{\"outlinewidth\":0,\"ticks\":\"\"},\"type\":\"mesh3d\"}],\"parcoords\":[{\"line\":{\"colorbar\":{\"outlinewidth\":0,\"ticks\":\"\"}},\"type\":\"parcoords\"}],\"pie\":[{\"automargin\":true,\"type\":\"pie\"}],\"scatter\":[{\"marker\":{\"colorbar\":{\"outlinewidth\":0,\"ticks\":\"\"}},\"type\":\"scatter\"}],\"scatter3d\":[{\"line\":{\"colorbar\":{\"outlinewidth\":0,\"ticks\":\"\"}},\"marker\":{\"colorbar\":{\"outlinewidth\":0,\"ticks\":\"\"}},\"type\":\"scatter3d\"}],\"scattercarpet\":[{\"marker\":{\"colorbar\":{\"outlinewidth\":0,\"ticks\":\"\"}},\"type\":\"scattercarpet\"}],\"scattergeo\":[{\"marker\":{\"colorbar\":{\"outlinewidth\":0,\"ticks\":\"\"}},\"type\":\"scattergeo\"}],\"scattergl\":[{\"marker\":{\"colorbar\":{\"outlinewidth\":0,\"ticks\":\"\"}},\"type\":\"scattergl\"}],\"scattermapbox\":[{\"marker\":{\"colorbar\":{\"outlinewidth\":0,\"ticks\":\"\"}},\"type\":\"scattermapbox\"}],\"scatterpolar\":[{\"marker\":{\"colorbar\":{\"outlinewidth\":0,\"ticks\":\"\"}},\"type\":\"scatterpolar\"}],\"scatterpolargl\":[{\"marker\":{\"colorbar\":{\"outlinewidth\":0,\"ticks\":\"\"}},\"type\":\"scatterpolargl\"}],\"scatterternary\":[{\"marker\":{\"colorbar\":{\"outlinewidth\":0,\"ticks\":\"\"}},\"type\":\"scatterternary\"}],\"surface\":[{\"colorbar\":{\"outlinewidth\":0,\"ticks\":\"\"},\"colorscale\":[[0.0,\"#0d0887\"],[0.1111111111111111,\"#46039f\"],[0.2222222222222222,\"#7201a8\"],[0.3333333333333333,\"#9c179e\"],[0.4444444444444444,\"#bd3786\"],[0.5555555555555556,\"#d8576b\"],[0.6666666666666666,\"#ed7953\"],[0.7777777777777778,\"#fb9f3a\"],[0.8888888888888888,\"#fdca26\"],[1.0,\"#f0f921\"]],\"type\":\"surface\"}],\"table\":[{\"cells\":{\"fill\":{\"color\":\"#EBF0F8\"},\"line\":{\"color\":\"white\"}},\"header\":{\"fill\":{\"color\":\"#C8D4E3\"},\"line\":{\"color\":\"white\"}},\"type\":\"table\"}]},\"layout\":{\"annotationdefaults\":{\"arrowcolor\":\"#2a3f5f\",\"arrowhead\":0,\"arrowwidth\":1},\"autotypenumbers\":\"strict\",\"coloraxis\":{\"colorbar\":{\"outlinewidth\":0,\"ticks\":\"\"}},\"colorscale\":{\"diverging\":[[0,\"#8e0152\"],[0.1,\"#c51b7d\"],[0.2,\"#de77ae\"],[0.3,\"#f1b6da\"],[0.4,\"#fde0ef\"],[0.5,\"#f7f7f7\"],[0.6,\"#e6f5d0\"],[0.7,\"#b8e186\"],[0.8,\"#7fbc41\"],[0.9,\"#4d9221\"],[1,\"#276419\"]],\"sequential\":[[0.0,\"#0d0887\"],[0.1111111111111111,\"#46039f\"],[0.2222222222222222,\"#7201a8\"],[0.3333333333333333,\"#9c179e\"],[0.4444444444444444,\"#bd3786\"],[0.5555555555555556,\"#d8576b\"],[0.6666666666666666,\"#ed7953\"],[0.7777777777777778,\"#fb9f3a\"],[0.8888888888888888,\"#fdca26\"],[1.0,\"#f0f921\"]],\"sequentialminus\":[[0.0,\"#0d0887\"],[0.1111111111111111,\"#46039f\"],[0.2222222222222222,\"#7201a8\"],[0.3333333333333333,\"#9c179e\"],[0.4444444444444444,\"#bd3786\"],[0.5555555555555556,\"#d8576b\"],[0.6666666666666666,\"#ed7953\"],[0.7777777777777778,\"#fb9f3a\"],[0.8888888888888888,\"#fdca26\"],[1.0,\"#f0f921\"]]},\"colorway\":[\"#636efa\",\"#EF553B\",\"#00cc96\",\"#ab63fa\",\"#FFA15A\",\"#19d3f3\",\"#FF6692\",\"#B6E880\",\"#FF97FF\",\"#FECB52\"],\"font\":{\"color\":\"#2a3f5f\"},\"geo\":{\"bgcolor\":\"white\",\"lakecolor\":\"white\",\"landcolor\":\"#E5ECF6\",\"showlakes\":true,\"showland\":true,\"subunitcolor\":\"white\"},\"hoverlabel\":{\"align\":\"left\"},\"hovermode\":\"closest\",\"mapbox\":{\"style\":\"light\"},\"paper_bgcolor\":\"white\",\"plot_bgcolor\":\"#E5ECF6\",\"polar\":{\"angularaxis\":{\"gridcolor\":\"white\",\"linecolor\":\"white\",\"ticks\":\"\"},\"bgcolor\":\"#E5ECF6\",\"radialaxis\":{\"gridcolor\":\"white\",\"linecolor\":\"white\",\"ticks\":\"\"}},\"scene\":{\"xaxis\":{\"backgroundcolor\":\"#E5ECF6\",\"gridcolor\":\"white\",\"gridwidth\":2,\"linecolor\":\"white\",\"showbackground\":true,\"ticks\":\"\",\"zerolinecolor\":\"white\"},\"yaxis\":{\"backgroundcolor\":\"#E5ECF6\",\"gridcolor\":\"white\",\"gridwidth\":2,\"linecolor\":\"white\",\"showbackground\":true,\"ticks\":\"\",\"zerolinecolor\":\"white\"},\"zaxis\":{\"backgroundcolor\":\"#E5ECF6\",\"gridcolor\":\"white\",\"gridwidth\":2,\"linecolor\":\"white\",\"showbackground\":true,\"ticks\":\"\",\"zerolinecolor\":\"white\"}},\"shapedefaults\":{\"line\":{\"color\":\"#2a3f5f\"}},\"ternary\":{\"aaxis\":{\"gridcolor\":\"white\",\"linecolor\":\"white\",\"ticks\":\"\"},\"baxis\":{\"gridcolor\":\"white\",\"linecolor\":\"white\",\"ticks\":\"\"},\"bgcolor\":\"#E5ECF6\",\"caxis\":{\"gridcolor\":\"white\",\"linecolor\":\"white\",\"ticks\":\"\"}},\"title\":{\"x\":0.05},\"xaxis\":{\"automargin\":true,\"gridcolor\":\"white\",\"linecolor\":\"white\",\"ticks\":\"\",\"title\":{\"standoff\":15},\"zerolinecolor\":\"white\",\"zerolinewidth\":2},\"yaxis\":{\"automargin\":true,\"gridcolor\":\"white\",\"linecolor\":\"white\",\"ticks\":\"\",\"title\":{\"standoff\":15},\"zerolinecolor\":\"white\",\"zerolinewidth\":2}}},\"xaxis\":{\"anchor\":\"y\",\"domain\":[0.0,1.0],\"title\":{\"text\":\"survival_status\"}},\"yaxis\":{\"anchor\":\"x\",\"domain\":[0.0,1.0],\"title\":{\"text\":\"recipient_body_mass\"}},\"legend\":{\"title\":{\"text\":\"disease\"},\"tracegroupgap\":0},\"margin\":{\"t\":60},\"violinmode\":\"group\"},                        {\"responsive\": true}                    ).then(function(){\n",
              "                            \n",
              "var gd = document.getElementById('4a6d7b56-95c2-4d90-930e-a9fc1b765e75');\n",
              "var x = new MutationObserver(function (mutations, observer) {{\n",
              "        var display = window.getComputedStyle(gd).display;\n",
              "        if (!display || display === 'none') {{\n",
              "            console.log([gd, 'removed!']);\n",
              "            Plotly.purge(gd);\n",
              "            observer.disconnect();\n",
              "        }}\n",
              "}});\n",
              "\n",
              "// Listen for the removal of the full notebook cells\n",
              "var notebookContainer = gd.closest('#notebook-container');\n",
              "if (notebookContainer) {{\n",
              "    x.observe(notebookContainer, {childList: true});\n",
              "}}\n",
              "\n",
              "// Listen for the clearing of the current output cell\n",
              "var outputEl = gd.closest('.output');\n",
              "if (outputEl) {{\n",
              "    x.observe(outputEl, {childList: true});\n",
              "}}\n",
              "\n",
              "                        })                };                            </script>        </div>\n",
              "</body>\n",
              "</html>"
            ]
          },
          "metadata": {}
        }
      ]
    },
    {
      "cell_type": "code",
      "source": [
        "def kde_plot(feature):   \n",
        "    grid = sns.FacetGrid(df1,hue='survival_status',aspect = 2)\n",
        "    grid.map(sns.kdeplot,feature)\n",
        "    grid.add_legend()"
      ],
      "metadata": {
        "id": "WNlGWCRHu3ed"
      },
      "execution_count": 73,
      "outputs": []
    },
    {
      "cell_type": "code",
      "source": [
        "kde_plot('recipient_age')"
      ],
      "metadata": {
        "colab": {
          "base_uri": "https://localhost:8080/",
          "height": 225
        },
        "id": "JzBfgL-rvlVA",
        "outputId": "7f3b2072-8d03-48f6-d1ff-12686346a763"
      },
      "execution_count": 74,
      "outputs": [
        {
          "output_type": "display_data",
          "data": {
            "text/plain": [
              "<Figure size 515.125x216 with 1 Axes>"
            ],
            "image/png": "[encoded data removed]"
          },
          "metadata": {
            "needs_background": "light"
          }
        }
      ]
    },
    {
      "cell_type": "code",
      "source": [
        "def scatters(col1,col2):\n",
        "    fig = px.scatter(df1,x=col1,y=col2,color='survival_status')\n",
        "    return fig.show()"
      ],
      "metadata": {
        "id": "JwYp5AItvuXn"
      },
      "execution_count": 68,
      "outputs": []
    },
    {
      "cell_type": "code",
      "source": [
        "scatters('recipient_age','survival_time')"
      ],
      "metadata": {
        "colab": {
          "base_uri": "https://localhost:8080/",
          "height": 542
        },
        "id": "etaYAJIcwXO7",
        "outputId": "722a03c3-610e-4138-bce6-e0a2a67c1bf0"
      },
      "execution_count": 70,
      "outputs": [
        {
          "output_type": "display_data",
          "data": {
            "text/html": [
              "<html>\n",
              "<head><meta charset=\"utf-8\" /></head>\n",
              "<body>\n",
              "    <div>            <script src=\"https://cdnjs.cloudflare.com/ajax/libs/mathjax/2.7.5/MathJax.js?config=TeX-AMS-MML_SVG\"></script><script type=\"text/javascript\">if (window.MathJax) {MathJax.Hub.Config({SVG: {font: \"STIX-Web\"}});}</script>                <script type=\"text/javascript\">window.PlotlyConfig = {MathJaxConfig: 'local'};</script>\n",
              "        <script src=\"https://cdn.plot.ly/plotly-2.8.3.min.js\"></script>                <div id=\"2b12634e-4b0f-4cea-b58c-69fff3b59126\" class=\"plotly-graph-div\" style=\"height:525px; width:100%;\"></div>            <script type=\"text/javascript\">                                    window.PLOTLYENV=window.PLOTLYENV || {};                                    if (document.getElementById(\"2b12634e-4b0f-4cea-b58c-69fff3b59126\")) {                    Plotly.newPlot(                        \"2b12634e-4b0f-4cea-b58c-69fff3b59126\",                        [{\"hovertemplate\":\"recipient_age=%{x}<br>survival_time=%{y}<br>survival_status=%{marker.color}<extra></extra>\",\"legendgroup\":\"\",\"marker\":{\"color\":[0,1,1,1,0,0,1,0,0,0,0,0,1,0,0,1,0,0,0,1,1,0,1,0,0,0,1,0,1,0,0,1,0,0,1,1,1,0,0,0,1,0,1,0,1,0,0,0,0,0,0,0,0,0,0,0,1,1,0,1,1,0,1,0,1,1,1,1,0,0,0,0,1,0,1,1,1,0,1,1,1,1,1,1,0,0,1,0,1,1,0,0,0,1,1,1,0,0,1,1,0,1,0,1,1,0,0,0,0,1,0,1,0,1,0,0,1,0,1,0,1,0,0,1,1,0,1,0,0,0,1,1,1,1,1,1,0,0,0,0,0,1,0,0,1,1,0,0,1,1,0,0,1,0,0,1,0,0,1,0,1,0,0,0,1,0,1,1,1,0,0,0,0,0,0,1,1,1,1,0,1,0],\"coloraxis\":\"coloraxis\",\"symbol\":\"circle\"},\"mode\":\"markers\",\"name\":\"\",\"orientation\":\"v\",\"showlegend\":false,\"x\":[9.6,4.0,6.6,18.1,1.3,8.9,14.4,7.9,4.7,1.9,13.4,5.1,11.5,17.8,13.5,17.9,4.7,0.6,17.7,14.7,9.7,13.9,10.9,6.7,8.5,0.7,4.7,2.8,8.4,8.6,4.6,3.1,10.9,1.7,1.6,16.6,2.2,2.1,13.3,13.8,3.1,4.1,9.9,11.4,13.4,11.3,12.1,8.5,15.1,8.3,6.9,4.9,5.0,6.5,1.8,3.4,2.3,7.9,2.8,12.6,4.5,15.6,18.4,14.0,14.2,12.7,11.5,3.9,14.8,12.2,11.8,11.3,13.5,13.5,17.8,3.8,6.5,7.4,5.5,9.2,14.1,12.1,15.5,3.9,20.2,1.7,18.2,8.2,15.4,7.6,9.4,14.0,15.3,7.2,5.7,6.1,11.5,3.2,9.5,17.3,3.1,16.5,7.7,18.7,5.6,7.7,9.0,5.4,7.3,17.8,8.1,7.1,6.7,12.7,4.5,17.5,1.3,1.3,16.7,15.1,20.1,17.8,2.3,11.6,17.7,7.7,17.9,2.0,17.4,16.0,9.0,14.7,18.8,16.0,18.9,16.6,3.3,5.2,6.0,3.4,17.0,6.8,18.2,13.7,5.1,18.3,14.0,13.0,13.5,12.2,10.0,15.5,12.9,3.0,11.5,14.1,8.5,5.0,13.4,6.4,4.2,4.4,9.6,12.5,9.7,11.2,3.6,2.9,17.8,16.1,3.4,4.3,12.7,8.8,7.5,4.8,8.8,12.9,13.9,10.4,8.0,9.5],\"xaxis\":\"x\",\"y\":[999.0,163.0,435.0,53.0,2043.0,2800.0,41.0,671.0,676.0,599.0,2503.0,964.0,335.0,1432.0,3288.0,58.0,1615.0,704.0,884.0,115.0,330.0,2231.0,149.0,2105.0,914.0,1522.0,35.0,1041.0,576.0,676.0,531.0,96.0,1084.0,2293.0,321.0,111.0,149.0,1690.0,452.0,1376.0,28.0,2118.0,60.0,1327.0,150.0,1006.0,1754.0,2354.0,1000.0,942.0,2926.0,1346.0,1424.0,2036.0,1958.0,1791.0,137.0,11.0,2279.0,261.0,181.0,1949.0,19.0,1838.0,55.0,224.0,606.0,306.0,1728.0,1587.0,445.0,1243.0,66.0,1937.0,435.0,102.0,113.0,1397.0,849.0,200.0,60.0,403.0,60.0,1018.0,767.0,580.0,202.0,1195.0,136.0,161.0,824.0,1257.0,1280.0,67.0,191.0,130.0,2286.0,510.0,745.0,534.0,454.0,68.0,511.0,274.0,28.0,1593.0,472.0,1138.0,1839.0,57.0,1754.0,672.0,2117.0,236.0,1679.0,718.0,48.0,2153.0,117.0,1781.0,290.0,2112.0,1301.0,108.0,196.0,1188.0,10.0,1171.0,2525.0,1025.0,182.0,996.0,15.0,48.0,41.0,42.0,2337.0,1385.0,766.0,2932.0,2761.0,214.0,494.0,754.0,59.0,64.0,1214.0,1895.0,90.0,246.0,2317.0,2461.0,413.0,1741.0,3364.0,353.0,1074.0,1692.0,174.0,433.0,421.0,1308.0,2483.0,1297.0,397.0,458.0,147.0,31.0,1243.0,2208.0,2373.0,1185.0,1985.0,1873.0,1627.0,41.0,6.0,385.0,634.0,1895.0,382.0,1109.0],\"yaxis\":\"y\",\"type\":\"scatter\"}],                        {\"template\":{\"data\":{\"bar\":[{\"error_x\":{\"color\":\"#2a3f5f\"},\"error_y\":{\"color\":\"#2a3f5f\"},\"marker\":{\"line\":{\"color\":\"#E5ECF6\",\"width\":0.5},\"pattern\":{\"fillmode\":\"overlay\",\"size\":10,\"solidity\":0.2}},\"type\":\"bar\"}],\"barpolar\":[{\"marker\":{\"line\":{\"color\":\"#E5ECF6\",\"width\":0.5},\"pattern\":{\"fillmode\":\"overlay\",\"size\":10,\"solidity\":0.2}},\"type\":\"barpolar\"}],\"carpet\":[{\"aaxis\":{\"endlinecolor\":\"#2a3f5f\",\"gridcolor\":\"white\",\"linecolor\":\"white\",\"minorgridcolor\":\"white\",\"startlinecolor\":\"#2a3f5f\"},\"baxis\":{\"endlinecolor\":\"#2a3f5f\",\"gridcolor\":\"white\",\"linecolor\":\"white\",\"minorgridcolor\":\"white\",\"startlinecolor\":\"#2a3f5f\"},\"type\":\"carpet\"}],\"choropleth\":[{\"colorbar\":{\"outlinewidth\":0,\"ticks\":\"\"},\"type\":\"choropleth\"}],\"contour\":[{\"colorbar\":{\"outlinewidth\":0,\"ticks\":\"\"},\"colorscale\":[[0.0,\"#0d0887\"],[0.1111111111111111,\"#46039f\"],[0.2222222222222222,\"#7201a8\"],[0.3333333333333333,\"#9c179e\"],[0.4444444444444444,\"#bd3786\"],[0.5555555555555556,\"#d8576b\"],[0.6666666666666666,\"#ed7953\"],[0.7777777777777778,\"#fb9f3a\"],[0.8888888888888888,\"#fdca26\"],[1.0,\"#f0f921\"]],\"type\":\"contour\"}],\"contourcarpet\":[{\"colorbar\":{\"outlinewidth\":0,\"ticks\":\"\"},\"type\":\"contourcarpet\"}],\"heatmap\":[{\"colorbar\":{\"outlinewidth\":0,\"ticks\":\"\"},\"colorscale\":[[0.0,\"#0d0887\"],[0.1111111111111111,\"#46039f\"],[0.2222222222222222,\"#7201a8\"],[0.3333333333333333,\"#9c179e\"],[0.4444444444444444,\"#bd3786\"],[0.5555555555555556,\"#d8576b\"],[0.6666666666666666,\"#ed7953\"],[0.7777777777777778,\"#fb9f3a\"],[0.8888888888888888,\"#fdca26\"],[1.0,\"#f0f921\"]],\"type\":\"heatmap\"}],\"heatmapgl\":[{\"colorbar\":{\"outlinewidth\":0,\"ticks\":\"\"},\"colorscale\":[[0.0,\"#0d0887\"],[0.1111111111111111,\"#46039f\"],[0.2222222222222222,\"#7201a8\"],[0.3333333333333333,\"#9c179e\"],[0.4444444444444444,\"#bd3786\"],[0.5555555555555556,\"#d8576b\"],[0.6666666666666666,\"#ed7953\"],[0.7777777777777778,\"#fb9f3a\"],[0.8888888888888888,\"#fdca26\"],[1.0,\"#f0f921\"]],\"type\":\"heatmapgl\"}],\"histogram\":[{\"marker\":{\"pattern\":{\"fillmode\":\"overlay\",\"size\":10,\"solidity\":0.2}},\"type\":\"histogram\"}],\"histogram2d\":[{\"colorbar\":{\"outlinewidth\":0,\"ticks\":\"\"},\"colorscale\":[[0.0,\"#0d0887\"],[0.1111111111111111,\"#46039f\"],[0.2222222222222222,\"#7201a8\"],[0.3333333333333333,\"#9c179e\"],[0.4444444444444444,\"#bd3786\"],[0.5555555555555556,\"#d8576b\"],[0.6666666666666666,\"#ed7953\"],[0.7777777777777778,\"#fb9f3a\"],[0.8888888888888888,\"#fdca26\"],[1.0,\"#f0f921\"]],\"type\":\"histogram2d\"}],\"histogram2dcontour\":[{\"colorbar\":{\"outlinewidth\":0,\"ticks\":\"\"},\"colorscale\":[[0.0,\"#0d0887\"],[0.1111111111111111,\"#46039f\"],[0.2222222222222222,\"#7201a8\"],[0.3333333333333333,\"#9c179e\"],[0.4444444444444444,\"#bd3786\"],[0.5555555555555556,\"#d8576b\"],[0.6666666666666666,\"#ed7953\"],[0.7777777777777778,\"#fb9f3a\"],[0.8888888888888888,\"#fdca26\"],[1.0,\"#f0f921\"]],\"type\":\"histogram2dcontour\"}],\"mesh3d\":[{\"colorbar\":{\"outlinewidth\":0,\"ticks\":\"\"},\"type\":\"mesh3d\"}],\"parcoords\":[{\"line\":{\"colorbar\":{\"outlinewidth\":0,\"ticks\":\"\"}},\"type\":\"parcoords\"}],\"pie\":[{\"automargin\":true,\"type\":\"pie\"}],\"scatter\":[{\"marker\":{\"colorbar\":{\"outlinewidth\":0,\"ticks\":\"\"}},\"type\":\"scatter\"}],\"scatter3d\":[{\"line\":{\"colorbar\":{\"outlinewidth\":0,\"ticks\":\"\"}},\"marker\":{\"colorbar\":{\"outlinewidth\":0,\"ticks\":\"\"}},\"type\":\"scatter3d\"}],\"scattercarpet\":[{\"marker\":{\"colorbar\":{\"outlinewidth\":0,\"ticks\":\"\"}},\"type\":\"scattercarpet\"}],\"scattergeo\":[{\"marker\":{\"colorbar\":{\"outlinewidth\":0,\"ticks\":\"\"}},\"type\":\"scattergeo\"}],\"scattergl\":[{\"marker\":{\"colorbar\":{\"outlinewidth\":0,\"ticks\":\"\"}},\"type\":\"scattergl\"}],\"scattermapbox\":[{\"marker\":{\"colorbar\":{\"outlinewidth\":0,\"ticks\":\"\"}},\"type\":\"scattermapbox\"}],\"scatterpolar\":[{\"marker\":{\"colorbar\":{\"outlinewidth\":0,\"ticks\":\"\"}},\"type\":\"scatterpolar\"}],\"scatterpolargl\":[{\"marker\":{\"colorbar\":{\"outlinewidth\":0,\"ticks\":\"\"}},\"type\":\"scatterpolargl\"}],\"scatterternary\":[{\"marker\":{\"colorbar\":{\"outlinewidth\":0,\"ticks\":\"\"}},\"type\":\"scatterternary\"}],\"surface\":[{\"colorbar\":{\"outlinewidth\":0,\"ticks\":\"\"},\"colorscale\":[[0.0,\"#0d0887\"],[0.1111111111111111,\"#46039f\"],[0.2222222222222222,\"#7201a8\"],[0.3333333333333333,\"#9c179e\"],[0.4444444444444444,\"#bd3786\"],[0.5555555555555556,\"#d8576b\"],[0.6666666666666666,\"#ed7953\"],[0.7777777777777778,\"#fb9f3a\"],[0.8888888888888888,\"#fdca26\"],[1.0,\"#f0f921\"]],\"type\":\"surface\"}],\"table\":[{\"cells\":{\"fill\":{\"color\":\"#EBF0F8\"},\"line\":{\"color\":\"white\"}},\"header\":{\"fill\":{\"color\":\"#C8D4E3\"},\"line\":{\"color\":\"white\"}},\"type\":\"table\"}]},\"layout\":{\"annotationdefaults\":{\"arrowcolor\":\"#2a3f5f\",\"arrowhead\":0,\"arrowwidth\":1},\"autotypenumbers\":\"strict\",\"coloraxis\":{\"colorbar\":{\"outlinewidth\":0,\"ticks\":\"\"}},\"colorscale\":{\"diverging\":[[0,\"#8e0152\"],[0.1,\"#c51b7d\"],[0.2,\"#de77ae\"],[0.3,\"#f1b6da\"],[0.4,\"#fde0ef\"],[0.5,\"#f7f7f7\"],[0.6,\"#e6f5d0\"],[0.7,\"#b8e186\"],[0.8,\"#7fbc41\"],[0.9,\"#4d9221\"],[1,\"#276419\"]],\"sequential\":[[0.0,\"#0d0887\"],[0.1111111111111111,\"#46039f\"],[0.2222222222222222,\"#7201a8\"],[0.3333333333333333,\"#9c179e\"],[0.4444444444444444,\"#bd3786\"],[0.5555555555555556,\"#d8576b\"],[0.6666666666666666,\"#ed7953\"],[0.7777777777777778,\"#fb9f3a\"],[0.8888888888888888,\"#fdca26\"],[1.0,\"#f0f921\"]],\"sequentialminus\":[[0.0,\"#0d0887\"],[0.1111111111111111,\"#46039f\"],[0.2222222222222222,\"#7201a8\"],[0.3333333333333333,\"#9c179e\"],[0.4444444444444444,\"#bd3786\"],[0.5555555555555556,\"#d8576b\"],[0.6666666666666666,\"#ed7953\"],[0.7777777777777778,\"#fb9f3a\"],[0.8888888888888888,\"#fdca26\"],[1.0,\"#f0f921\"]]},\"colorway\":[\"#636efa\",\"#EF553B\",\"#00cc96\",\"#ab63fa\",\"#FFA15A\",\"#19d3f3\",\"#FF6692\",\"#B6E880\",\"#FF97FF\",\"#FECB52\"],\"font\":{\"color\":\"#2a3f5f\"},\"geo\":{\"bgcolor\":\"white\",\"lakecolor\":\"white\",\"landcolor\":\"#E5ECF6\",\"showlakes\":true,\"showland\":true,\"subunitcolor\":\"white\"},\"hoverlabel\":{\"align\":\"left\"},\"hovermode\":\"closest\",\"mapbox\":{\"style\":\"light\"},\"paper_bgcolor\":\"white\",\"plot_bgcolor\":\"#E5ECF6\",\"polar\":{\"angularaxis\":{\"gridcolor\":\"white\",\"linecolor\":\"white\",\"ticks\":\"\"},\"bgcolor\":\"#E5ECF6\",\"radialaxis\":{\"gridcolor\":\"white\",\"linecolor\":\"white\",\"ticks\":\"\"}},\"scene\":{\"xaxis\":{\"backgroundcolor\":\"#E5ECF6\",\"gridcolor\":\"white\",\"gridwidth\":2,\"linecolor\":\"white\",\"showbackground\":true,\"ticks\":\"\",\"zerolinecolor\":\"white\"},\"yaxis\":{\"backgroundcolor\":\"#E5ECF6\",\"gridcolor\":\"white\",\"gridwidth\":2,\"linecolor\":\"white\",\"showbackground\":true,\"ticks\":\"\",\"zerolinecolor\":\"white\"},\"zaxis\":{\"backgroundcolor\":\"#E5ECF6\",\"gridcolor\":\"white\",\"gridwidth\":2,\"linecolor\":\"white\",\"showbackground\":true,\"ticks\":\"\",\"zerolinecolor\":\"white\"}},\"shapedefaults\":{\"line\":{\"color\":\"#2a3f5f\"}},\"ternary\":{\"aaxis\":{\"gridcolor\":\"white\",\"linecolor\":\"white\",\"ticks\":\"\"},\"baxis\":{\"gridcolor\":\"white\",\"linecolor\":\"white\",\"ticks\":\"\"},\"bgcolor\":\"#E5ECF6\",\"caxis\":{\"gridcolor\":\"white\",\"linecolor\":\"white\",\"ticks\":\"\"}},\"title\":{\"x\":0.05},\"xaxis\":{\"automargin\":true,\"gridcolor\":\"white\",\"linecolor\":\"white\",\"ticks\":\"\",\"title\":{\"standoff\":15},\"zerolinecolor\":\"white\",\"zerolinewidth\":2},\"yaxis\":{\"automargin\":true,\"gridcolor\":\"white\",\"linecolor\":\"white\",\"ticks\":\"\",\"title\":{\"standoff\":15},\"zerolinecolor\":\"white\",\"zerolinewidth\":2}}},\"xaxis\":{\"anchor\":\"y\",\"domain\":[0.0,1.0],\"title\":{\"text\":\"recipient_age\"}},\"yaxis\":{\"anchor\":\"x\",\"domain\":[0.0,1.0],\"title\":{\"text\":\"survival_time\"}},\"coloraxis\":{\"colorbar\":{\"title\":{\"text\":\"survival_status\"}},\"colorscale\":[[0.0,\"#0d0887\"],[0.1111111111111111,\"#46039f\"],[0.2222222222222222,\"#7201a8\"],[0.3333333333333333,\"#9c179e\"],[0.4444444444444444,\"#bd3786\"],[0.5555555555555556,\"#d8576b\"],[0.6666666666666666,\"#ed7953\"],[0.7777777777777778,\"#fb9f3a\"],[0.8888888888888888,\"#fdca26\"],[1.0,\"#f0f921\"]]},\"legend\":{\"tracegroupgap\":0},\"margin\":{\"t\":60}},                        {\"responsive\": true}                    ).then(function(){\n",
              "                            \n",
              "var gd = document.getElementById('2b12634e-4b0f-4cea-b58c-69fff3b59126');\n",
              "var x = new MutationObserver(function (mutations, observer) {{\n",
              "        var display = window.getComputedStyle(gd).display;\n",
              "        if (!display || display === 'none') {{\n",
              "            console.log([gd, 'removed!']);\n",
              "            Plotly.purge(gd);\n",
              "            observer.disconnect();\n",
              "        }}\n",
              "}});\n",
              "\n",
              "// Listen for the removal of the full notebook cells\n",
              "var notebookContainer = gd.closest('#notebook-container');\n",
              "if (notebookContainer) {{\n",
              "    x.observe(notebookContainer, {childList: true});\n",
              "}}\n",
              "\n",
              "// Listen for the clearing of the current output cell\n",
              "var outputEl = gd.closest('.output');\n",
              "if (outputEl) {{\n",
              "    x.observe(outputEl, {childList: true});\n",
              "}}\n",
              "\n",
              "                        })                };                            </script>        </div>\n",
              "</body>\n",
              "</html>"
            ]
          },
          "metadata": {}
        }
      ]
    },
    {
      "cell_type": "markdown",
      "source": [
        "From the kde plot and the scatter plot we can see that the survival time is independent of the recipients age, since even after recovery the survival time depends on every individual and here it shows it decreases in all cases."
      ],
      "metadata": {
        "id": "nr8MlqMswmYn"
      }
    },
    {
      "cell_type": "code",
      "source": [
        "df1.info()"
      ],
      "metadata": {
        "colab": {
          "base_uri": "https://localhost:8080/"
        },
        "id": "Xyx3MMa8wbj1",
        "outputId": "3b85b22b-e5d8-484e-ac11-409073f97eef"
      },
      "execution_count": 75,
      "outputs": [
        {
          "output_type": "stream",
          "name": "stdout",
          "text": [
            "<class 'pandas.core.frame.DataFrame'>\n",
            "Int64Index: 182 entries, 0 to 186\n",
            "Data columns (total 30 columns):\n",
            " #   Column                     Non-Null Count  Dtype  \n",
            "---  ------                     --------------  -----  \n",
            " 0   donor_age                  182 non-null    float64\n",
            " 1   donor_age_below_35         182 non-null    object \n",
            " 2   donor_ABO                  182 non-null    object \n",
            " 3   donor_CMV                  182 non-null    object \n",
            " 4   recipient_age              182 non-null    float64\n",
            " 5   recipient_gender           182 non-null    object \n",
            " 6   recipient_body_mass        182 non-null    float64\n",
            " 7   recipient_ABO              182 non-null    object \n",
            " 8   recipient_rh               182 non-null    object \n",
            " 9   recipient_CMV              182 non-null    object \n",
            " 10  disease                    182 non-null    object \n",
            " 11  disease_group              182 non-null    object \n",
            " 12  ABO_match                  182 non-null    object \n",
            " 13  CMV_status                 182 non-null    object \n",
            " 14  HLA_match                  182 non-null    object \n",
            " 15  allel                      182 non-null    object \n",
            " 16  HLA_group_1                182 non-null    object \n",
            " 17  risk_group                 182 non-null    object \n",
            " 18  stem_cell_source           182 non-null    object \n",
            " 19  tx_post_relapse            182 non-null    object \n",
            " 20  CD34_x1e6_per_kg           182 non-null    float64\n",
            " 21  CD3_x1e8_per_kg            182 non-null    float64\n",
            " 22  CD3_to_CD34_ratio          182 non-null    float64\n",
            " 23  ANC_recovery               182 non-null    float64\n",
            " 24  PLT_recovery               182 non-null    float64\n",
            " 25  time_to_acute_GvHD_III_IV  182 non-null    float64\n",
            " 26  extensive_chronic_GvHD     182 non-null    object \n",
            " 27  relapse                    182 non-null    object \n",
            " 28  survival_time              182 non-null    float64\n",
            " 29  survival_status            182 non-null    int64  \n",
            "dtypes: float64(10), int64(1), object(19)\n",
            "memory usage: 48.1+ KB\n"
          ]
        }
      ]
    },
    {
      "cell_type": "code",
      "source": [
        "df1.isnull().sum().sort_values(ascending = True)"
      ],
      "metadata": {
        "colab": {
          "base_uri": "https://localhost:8080/"
        },
        "id": "Iywu-wkzxlgv",
        "outputId": "c9ec68dc-b127-4761-d0f2-a7f8dc45d512"
      },
      "execution_count": 80,
      "outputs": [
        {
          "output_type": "execute_result",
          "data": {
            "text/plain": [
              "donor_age                    0\n",
              "relapse                      0\n",
              "extensive_chronic_GvHD       0\n",
              "time_to_acute_GvHD_III_IV    0\n",
              "PLT_recovery                 0\n",
              "ANC_recovery                 0\n",
              "CD3_to_CD34_ratio            0\n",
              "CD3_x1e8_per_kg              0\n",
              "CD34_x1e6_per_kg             0\n",
              "tx_post_relapse              0\n",
              "stem_cell_source             0\n",
              "risk_group                   0\n",
              "HLA_group_1                  0\n",
              "allel                        0\n",
              "HLA_match                    0\n",
              "CMV_status                   0\n",
              "ABO_match                    0\n",
              "disease_group                0\n",
              "disease                      0\n",
              "recipient_CMV                0\n",
              "recipient_rh                 0\n",
              "recipient_ABO                0\n",
              "recipient_body_mass          0\n",
              "recipient_gender             0\n",
              "recipient_age                0\n",
              "donor_CMV                    0\n",
              "donor_ABO                    0\n",
              "donor_age_below_35           0\n",
              "survival_time                0\n",
              "survival_status              0\n",
              "dtype: int64"
            ]
          },
          "metadata": {},
          "execution_count": 80
        }
      ]
    },
    {
      "cell_type": "code",
      "source": [
        "df1[num_col].isnull().sum()"
      ],
      "metadata": {
        "colab": {
          "base_uri": "https://localhost:8080/"
        },
        "id": "pd1j8kZextn0",
        "outputId": "1aac6625-5057-4c25-ef84-9b694ef3b8f9"
      },
      "execution_count": 82,
      "outputs": [
        {
          "output_type": "execute_result",
          "data": {
            "text/plain": [
              "donor_age                    0\n",
              "recipient_age                0\n",
              "recipient_body_mass          0\n",
              "CD34_x1e6_per_kg             0\n",
              "CD3_x1e8_per_kg              0\n",
              "CD3_to_CD34_ratio            0\n",
              "ANC_recovery                 0\n",
              "PLT_recovery                 0\n",
              "time_to_acute_GvHD_III_IV    0\n",
              "survival_time                0\n",
              "survival_status              0\n",
              "dtype: int64"
            ]
          },
          "metadata": {},
          "execution_count": 82
        }
      ]
    },
    {
      "cell_type": "code",
      "source": [
        "df1[cat_col].isnull().sum()"
      ],
      "metadata": {
        "colab": {
          "base_uri": "https://localhost:8080/"
        },
        "id": "rbEs7erpyPM4",
        "outputId": "46c51a63-4968-4860-8061-49f30893f09a"
      },
      "execution_count": 83,
      "outputs": [
        {
          "output_type": "execute_result",
          "data": {
            "text/plain": [
              "donor_age_below_35        0\n",
              "donor_ABO                 0\n",
              "donor_CMV                 0\n",
              "recipient_gender          0\n",
              "recipient_ABO             0\n",
              "recipient_rh              0\n",
              "recipient_CMV             0\n",
              "disease                   0\n",
              "disease_group             0\n",
              "ABO_match                 0\n",
              "CMV_status                0\n",
              "HLA_match                 0\n",
              "allel                     0\n",
              "HLA_group_1               0\n",
              "risk_group                0\n",
              "stem_cell_source          0\n",
              "tx_post_relapse           0\n",
              "extensive_chronic_GvHD    0\n",
              "relapse                   0\n",
              "dtype: int64"
            ]
          },
          "metadata": {},
          "execution_count": 83
        }
      ]
    },
    {
      "cell_type": "markdown",
      "source": [
        "Data is clean and does not contain any null values."
      ],
      "metadata": {
        "id": "dJ08y8kHyf7H"
      }
    },
    {
      "cell_type": "code",
      "source": [
        "df1.head()"
      ],
      "metadata": {
        "colab": {
          "base_uri": "https://localhost:8080/",
          "height": 297
        },
        "id": "OK0cejkd-K3o",
        "outputId": "14712cc9-362a-4993-e9fe-44f0df519b85"
      },
      "execution_count": 85,
      "outputs": [
        {
          "output_type": "execute_result",
          "data": {
            "text/plain": [
              "   donor_age donor_age_below_35 donor_ABO donor_CMV  recipient_age  \\\n",
              "0  22.830137                yes         A   present            9.6   \n",
              "1  23.342466                yes         B    absent            4.0   \n",
              "2  26.394521                yes         B    absent            6.6   \n",
              "3  39.684932                 no         A   present           18.1   \n",
              "4  33.358904                yes         A    absent            1.3   \n",
              "\n",
              "  recipient_gender  recipient_body_mass recipient_ABO recipient_rh  \\\n",
              "0             male                 35.0             A         plus   \n",
              "1             male                 20.6             B         plus   \n",
              "2             male                 23.4             B         plus   \n",
              "3           female                 50.0            AB         plus   \n",
              "4           female                  9.0            AB        minus   \n",
              "\n",
              "  recipient_CMV  ... CD34_x1e6_per_kg CD3_x1e8_per_kg CD3_to_CD34_ratio  \\\n",
              "0       present  ...             7.20            5.38          1.338760   \n",
              "1        absent  ...             4.50            0.41         11.078295   \n",
              "2       present  ...             7.94            0.42         19.013230   \n",
              "3        absent  ...             4.25            0.14         29.481647   \n",
              "4       present  ...            51.85           13.05          3.972255   \n",
              "\n",
              "  ANC_recovery PLT_recovery time_to_acute_GvHD_III_IV extensive_chronic_GvHD  \\\n",
              "0         19.0         51.0                      32.0                     no   \n",
              "1         16.0         37.0                 1000000.0                     no   \n",
              "2         23.0         20.0                 1000000.0                     no   \n",
              "3         23.0         29.0                      19.0                      ?   \n",
              "4         14.0         14.0                 1000000.0                     no   \n",
              "\n",
              "  relapse survival_time survival_status  \n",
              "0      no         999.0               0  \n",
              "1     yes         163.0               1  \n",
              "2     yes         435.0               1  \n",
              "3      no          53.0               1  \n",
              "4      no        2043.0               0  \n",
              "\n",
              "[5 rows x 30 columns]"
            ],
            "text/html": [
              "\n",
              "  <div id=\"df-29829104-0933-402a-81cc-c6358e1ce231\">\n",
              "    <div class=\"colab-df-container\">\n",
              "      <div>\n",
              "<style scoped>\n",
              "    .dataframe tbody tr th:only-of-type {\n",
              "        vertical-align: middle;\n",
              "    }\n",
              "\n",
              "    .dataframe tbody tr th {\n",
              "        vertical-align: top;\n",
              "    }\n",
              "\n",
              "    .dataframe thead th {\n",
              "        text-align: right;\n",
              "    }\n",
              "</style>\n",
              "<table border=\"1\" class=\"dataframe\">\n",
              "  <thead>\n",
              "    <tr style=\"text-align: right;\">\n",
              "      <th></th>\n",
              "      <th>donor_age</th>\n",
              "      <th>donor_age_below_35</th>\n",
              "      <th>donor_ABO</th>\n",
              "      <th>donor_CMV</th>\n",
              "      <th>recipient_age</th>\n",
              "      <th>recipient_gender</th>\n",
              "      <th>recipient_body_mass</th>\n",
              "      <th>recipient_ABO</th>\n",
              "      <th>recipient_rh</th>\n",
              "      <th>recipient_CMV</th>\n",
              "      <th>...</th>\n",
              "      <th>CD34_x1e6_per_kg</th>\n",
              "      <th>CD3_x1e8_per_kg</th>\n",
              "      <th>CD3_to_CD34_ratio</th>\n",
              "      <th>ANC_recovery</th>\n",
              "      <th>PLT_recovery</th>\n",
              "      <th>time_to_acute_GvHD_III_IV</th>\n",
              "      <th>extensive_chronic_GvHD</th>\n",
              "      <th>relapse</th>\n",
              "      <th>survival_time</th>\n",
              "      <th>survival_status</th>\n",
              "    </tr>\n",
              "  </thead>\n",
              "  <tbody>\n",
              "    <tr>\n",
              "      <th>0</th>\n",
              "      <td>22.830137</td>\n",
              "      <td>yes</td>\n",
              "      <td>A</td>\n",
              "      <td>present</td>\n",
              "      <td>9.6</td>\n",
              "      <td>male</td>\n",
              "      <td>35.0</td>\n",
              "      <td>A</td>\n",
              "      <td>plus</td>\n",
              "      <td>present</td>\n",
              "      <td>...</td>\n",
              "      <td>7.20</td>\n",
              "      <td>5.38</td>\n",
              "      <td>1.338760</td>\n",
              "      <td>19.0</td>\n",
              "      <td>51.0</td>\n",
              "      <td>32.0</td>\n",
              "      <td>no</td>\n",
              "      <td>no</td>\n",
              "      <td>999.0</td>\n",
              "      <td>0</td>\n",
              "    </tr>\n",
              "    <tr>\n",
              "      <th>1</th>\n",
              "      <td>23.342466</td>\n",
              "      <td>yes</td>\n",
              "      <td>B</td>\n",
              "      <td>absent</td>\n",
              "      <td>4.0</td>\n",
              "      <td>male</td>\n",
              "      <td>20.6</td>\n",
              "      <td>B</td>\n",
              "      <td>plus</td>\n",
              "      <td>absent</td>\n",
              "      <td>...</td>\n",
              "      <td>4.50</td>\n",
              "      <td>0.41</td>\n",
              "      <td>11.078295</td>\n",
              "      <td>16.0</td>\n",
              "      <td>37.0</td>\n",
              "      <td>1000000.0</td>\n",
              "      <td>no</td>\n",
              "      <td>yes</td>\n",
              "      <td>163.0</td>\n",
              "      <td>1</td>\n",
              "    </tr>\n",
              "    <tr>\n",
              "      <th>2</th>\n",
              "      <td>26.394521</td>\n",
              "      <td>yes</td>\n",
              "      <td>B</td>\n",
              "      <td>absent</td>\n",
              "      <td>6.6</td>\n",
              "      <td>male</td>\n",
              "      <td>23.4</td>\n",
              "      <td>B</td>\n",
              "      <td>plus</td>\n",
              "      <td>present</td>\n",
              "      <td>...</td>\n",
              "      <td>7.94</td>\n",
              "      <td>0.42</td>\n",
              "      <td>19.013230</td>\n",
              "      <td>23.0</td>\n",
              "      <td>20.0</td>\n",
              "      <td>1000000.0</td>\n",
              "      <td>no</td>\n",
              "      <td>yes</td>\n",
              "      <td>435.0</td>\n",
              "      <td>1</td>\n",
              "    </tr>\n",
              "    <tr>\n",
              "      <th>3</th>\n",
              "      <td>39.684932</td>\n",
              "      <td>no</td>\n",
              "      <td>A</td>\n",
              "      <td>present</td>\n",
              "      <td>18.1</td>\n",
              "      <td>female</td>\n",
              "      <td>50.0</td>\n",
              "      <td>AB</td>\n",
              "      <td>plus</td>\n",
              "      <td>absent</td>\n",
              "      <td>...</td>\n",
              "      <td>4.25</td>\n",
              "      <td>0.14</td>\n",
              "      <td>29.481647</td>\n",
              "      <td>23.0</td>\n",
              "      <td>29.0</td>\n",
              "      <td>19.0</td>\n",
              "      <td>?</td>\n",
              "      <td>no</td>\n",
              "      <td>53.0</td>\n",
              "      <td>1</td>\n",
              "    </tr>\n",
              "    <tr>\n",
              "      <th>4</th>\n",
              "      <td>33.358904</td>\n",
              "      <td>yes</td>\n",
              "      <td>A</td>\n",
              "      <td>absent</td>\n",
              "      <td>1.3</td>\n",
              "      <td>female</td>\n",
              "      <td>9.0</td>\n",
              "      <td>AB</td>\n",
              "      <td>minus</td>\n",
              "      <td>present</td>\n",
              "      <td>...</td>\n",
              "      <td>51.85</td>\n",
              "      <td>13.05</td>\n",
              "      <td>3.972255</td>\n",
              "      <td>14.0</td>\n",
              "      <td>14.0</td>\n",
              "      <td>1000000.0</td>\n",
              "      <td>no</td>\n",
              "      <td>no</td>\n",
              "      <td>2043.0</td>\n",
              "      <td>0</td>\n",
              "    </tr>\n",
              "  </tbody>\n",
              "</table>\n",
              "<p>5 rows × 30 columns</p>\n",
              "</div>\n",
              "      <button class=\"colab-df-convert\" onclick=\"convertToInteractive('df-29829104-0933-402a-81cc-c6358e1ce231')\"\n",
              "              title=\"Convert this dataframe to an interactive table.\"\n",
              "              style=\"display:none;\">\n",
              "        \n",
              "  <svg xmlns=\"http://www.w3.org/2000/svg\" height=\"24px\"viewBox=\"0 0 24 24\"\n",
              "       width=\"24px\">\n",
              "    <path d=\"M0 0h24v24H0V0z\" fill=\"none\"/>\n",
              "    <path d=\"M18.56 5.44l.94 2.06.94-2.06 2.06-.94-2.06-.94-.94-2.06-.94 2.06-2.06.94zm-11 1L8.5 8.5l.94-2.06 2.06-.94-2.06-.94L8.5 2.5l-.94 2.06-2.06.94zm10 10l.94 2.06.94-2.06 2.06-.94-2.06-.94-.94-2.06-.94 2.06-2.06.94z\"/><path d=\"M17.41 7.96l-1.37-1.37c-.4-.4-.92-.59-1.43-.59-.52 0-1.04.2-1.43.59L10.3 9.45l-7.72 7.72c-.78.78-.78 2.05 0 2.83L4 21.41c.39.39.9.59 1.41.59.51 0 1.02-.2 1.41-.59l7.78-7.78 2.81-2.81c.8-.78.8-2.07 0-2.86zM5.41 20L4 18.59l7.72-7.72 1.47 1.35L5.41 20z\"/>\n",
              "  </svg>\n",
              "      </button>\n",
              "      \n",
              "  <style>\n",
              "    .colab-df-container {\n",
              "      display:flex;\n",
              "      flex-wrap:wrap;\n",
              "      gap: 12px;\n",
              "    }\n",
              "\n",
              "    .colab-df-convert {\n",
              "      background-color: #E8F0FE;\n",
              "      border: none;\n",
              "      border-radius: 50%;\n",
              "      cursor: pointer;\n",
              "      display: none;\n",
              "      fill: #1967D2;\n",
              "      height: 32px;\n",
              "      padding: 0 0 0 0;\n",
              "      width: 32px;\n",
              "    }\n",
              "\n",
              "    .colab-df-convert:hover {\n",
              "      background-color: #E2EBFA;\n",
              "      box-shadow: 0px 1px 2px rgba(60, 64, 67, 0.3), 0px 1px 3px 1px rgba(60, 64, 67, 0.15);\n",
              "      fill: #174EA6;\n",
              "    }\n",
              "\n",
              "    [theme=dark] .colab-df-convert {\n",
              "      background-color: #3B4455;\n",
              "      fill: #D2E3FC;\n",
              "    }\n",
              "\n",
              "    [theme=dark] .colab-df-convert:hover {\n",
              "      background-color: #434B5C;\n",
              "      box-shadow: 0px 1px 3px 1px rgba(0, 0, 0, 0.15);\n",
              "      filter: drop-shadow(0px 1px 2px rgba(0, 0, 0, 0.3));\n",
              "      fill: #FFFFFF;\n",
              "    }\n",
              "  </style>\n",
              "\n",
              "      <script>\n",
              "        const buttonEl =\n",
              "          document.querySelector('#df-29829104-0933-402a-81cc-c6358e1ce231 button.colab-df-convert');\n",
              "        buttonEl.style.display =\n",
              "          google.colab.kernel.accessAllowed ? 'block' : 'none';\n",
              "\n",
              "        async function convertToInteractive(key) {\n",
              "          const element = document.querySelector('#df-29829104-0933-402a-81cc-c6358e1ce231');\n",
              "          const dataTable =\n",
              "            await google.colab.kernel.invokeFunction('convertToInteractive',\n",
              "                                                     [key], {});\n",
              "          if (!dataTable) return;\n",
              "\n",
              "          const docLinkHtml = 'Like what you see? Visit the ' +\n",
              "            '<a target=\"_blank\" href=https://colab.research.google.com/notebooks/data_table.ipynb>data table notebook</a>'\n",
              "            + ' to learn more about interactive tables.';\n",
              "          element.innerHTML = '';\n",
              "          dataTable['output_type'] = 'display_data';\n",
              "          await google.colab.output.renderOutput(dataTable, element);\n",
              "          const docLink = document.createElement('div');\n",
              "          docLink.innerHTML = docLinkHtml;\n",
              "          element.appendChild(docLink);\n",
              "        }\n",
              "      </script>\n",
              "    </div>\n",
              "  </div>\n",
              "  "
            ]
          },
          "metadata": {},
          "execution_count": 85
        }
      ]
    },
    {
      "cell_type": "code",
      "source": [
        "from sklearn.preprocessing import LabelEncoder\n",
        "from sklearn.feature_selection import SelectKBest\n",
        "from sklearn.feature_selection import chi2"
      ],
      "metadata": {
        "id": "KdCdfTlwydPu"
      },
      "execution_count": 90,
      "outputs": []
    },
    {
      "cell_type": "code",
      "source": [
        "le = LabelEncoder()\n",
        "data = df1"
      ],
      "metadata": {
        "id": "H2vyMX9V4Su9"
      },
      "execution_count": 91,
      "outputs": []
    },
    {
      "cell_type": "code",
      "source": [
        "for col in cat_col:\n",
        "    data[col]=le.fit_transform(data[col])"
      ],
      "metadata": {
        "colab": {
          "base_uri": "https://localhost:8080/"
        },
        "id": "SQzFZ_ry_eXq",
        "outputId": "aeec36f0-6c18-40c3-9fae-c929d736185a"
      },
      "execution_count": 92,
      "outputs": [
        {
          "output_type": "stream",
          "name": "stderr",
          "text": [
            "/usr/local/lib/python3.7/dist-packages/ipykernel_launcher.py:2: SettingWithCopyWarning:\n",
            "\n",
            "\n",
            "A value is trying to be set on a copy of a slice from a DataFrame.\n",
            "Try using .loc[row_indexer,col_indexer] = value instead\n",
            "\n",
            "See the caveats in the documentation: https://pandas.pydata.org/pandas-docs/stable/user_guide/indexing.html#returning-a-view-versus-a-copy\n",
            "\n"
          ]
        }
      ]
    },
    {
      "cell_type": "code",
      "source": [
        "data.head()"
      ],
      "metadata": {
        "colab": {
          "base_uri": "https://localhost:8080/",
          "height": 297
        },
        "id": "QC7vdkaH_h46",
        "outputId": "0707f07c-dc64-4951-e801-68fb6341febd"
      },
      "execution_count": 93,
      "outputs": [
        {
          "output_type": "execute_result",
          "data": {
            "text/plain": [
              "   donor_age  donor_age_below_35  donor_ABO  donor_CMV  recipient_age  \\\n",
              "0  22.830137                   1          1          2            9.6   \n",
              "1  23.342466                   1          3          1            4.0   \n",
              "2  26.394521                   1          3          1            6.6   \n",
              "3  39.684932                   0          1          2           18.1   \n",
              "4  33.358904                   1          1          1            1.3   \n",
              "\n",
              "   recipient_gender  recipient_body_mass  recipient_ABO  recipient_rh  \\\n",
              "0                 1                 35.0              2             2   \n",
              "1                 1                 20.6              4             2   \n",
              "2                 1                 23.4              4             2   \n",
              "3                 0                 50.0              3             2   \n",
              "4                 0                  9.0              3             1   \n",
              "\n",
              "   recipient_CMV  ...  CD34_x1e6_per_kg  CD3_x1e8_per_kg  CD3_to_CD34_ratio  \\\n",
              "0              2  ...              7.20             5.38           1.338760   \n",
              "1              1  ...              4.50             0.41          11.078295   \n",
              "2              2  ...              7.94             0.42          19.013230   \n",
              "3              1  ...              4.25             0.14          29.481647   \n",
              "4              2  ...             51.85            13.05           3.972255   \n",
              "\n",
              "   ANC_recovery  PLT_recovery  time_to_acute_GvHD_III_IV  \\\n",
              "0          19.0          51.0                       32.0   \n",
              "1          16.0          37.0                  1000000.0   \n",
              "2          23.0          20.0                  1000000.0   \n",
              "3          23.0          29.0                       19.0   \n",
              "4          14.0          14.0                  1000000.0   \n",
              "\n",
              "   extensive_chronic_GvHD  relapse  survival_time  survival_status  \n",
              "0                       1        0          999.0                0  \n",
              "1                       1        1          163.0                1  \n",
              "2                       1        1          435.0                1  \n",
              "3                       0        0           53.0                1  \n",
              "4                       1        0         2043.0                0  \n",
              "\n",
              "[5 rows x 30 columns]"
            ],
            "text/html": [
              "\n",
              "  <div id=\"df-0ff74356-364b-4126-8d36-488166df4672\">\n",
              "    <div class=\"colab-df-container\">\n",
              "      <div>\n",
              "<style scoped>\n",
              "    .dataframe tbody tr th:only-of-type {\n",
              "        vertical-align: middle;\n",
              "    }\n",
              "\n",
              "    .dataframe tbody tr th {\n",
              "        vertical-align: top;\n",
              "    }\n",
              "\n",
              "    .dataframe thead th {\n",
              "        text-align: right;\n",
              "    }\n",
              "</style>\n",
              "<table border=\"1\" class=\"dataframe\">\n",
              "  <thead>\n",
              "    <tr style=\"text-align: right;\">\n",
              "      <th></th>\n",
              "      <th>donor_age</th>\n",
              "      <th>donor_age_below_35</th>\n",
              "      <th>donor_ABO</th>\n",
              "      <th>donor_CMV</th>\n",
              "      <th>recipient_age</th>\n",
              "      <th>recipient_gender</th>\n",
              "      <th>recipient_body_mass</th>\n",
              "      <th>recipient_ABO</th>\n",
              "      <th>recipient_rh</th>\n",
              "      <th>recipient_CMV</th>\n",
              "      <th>...</th>\n",
              "      <th>CD34_x1e6_per_kg</th>\n",
              "      <th>CD3_x1e8_per_kg</th>\n",
              "      <th>CD3_to_CD34_ratio</th>\n",
              "      <th>ANC_recovery</th>\n",
              "      <th>PLT_recovery</th>\n",
              "      <th>time_to_acute_GvHD_III_IV</th>\n",
              "      <th>extensive_chronic_GvHD</th>\n",
              "      <th>relapse</th>\n",
              "      <th>survival_time</th>\n",
              "      <th>survival_status</th>\n",
              "    </tr>\n",
              "  </thead>\n",
              "  <tbody>\n",
              "    <tr>\n",
              "      <th>0</th>\n",
              "      <td>22.830137</td>\n",
              "      <td>1</td>\n",
              "      <td>1</td>\n",
              "      <td>2</td>\n",
              "      <td>9.6</td>\n",
              "      <td>1</td>\n",
              "      <td>35.0</td>\n",
              "      <td>2</td>\n",
              "      <td>2</td>\n",
              "      <td>2</td>\n",
              "      <td>...</td>\n",
              "      <td>7.20</td>\n",
              "      <td>5.38</td>\n",
              "      <td>1.338760</td>\n",
              "      <td>19.0</td>\n",
              "      <td>51.0</td>\n",
              "      <td>32.0</td>\n",
              "      <td>1</td>\n",
              "      <td>0</td>\n",
              "      <td>999.0</td>\n",
              "      <td>0</td>\n",
              "    </tr>\n",
              "    <tr>\n",
              "      <th>1</th>\n",
              "      <td>23.342466</td>\n",
              "      <td>1</td>\n",
              "      <td>3</td>\n",
              "      <td>1</td>\n",
              "      <td>4.0</td>\n",
              "      <td>1</td>\n",
              "      <td>20.6</td>\n",
              "      <td>4</td>\n",
              "      <td>2</td>\n",
              "      <td>1</td>\n",
              "      <td>...</td>\n",
              "      <td>4.50</td>\n",
              "      <td>0.41</td>\n",
              "      <td>11.078295</td>\n",
              "      <td>16.0</td>\n",
              "      <td>37.0</td>\n",
              "      <td>1000000.0</td>\n",
              "      <td>1</td>\n",
              "      <td>1</td>\n",
              "      <td>163.0</td>\n",
              "      <td>1</td>\n",
              "    </tr>\n",
              "    <tr>\n",
              "      <th>2</th>\n",
              "      <td>26.394521</td>\n",
              "      <td>1</td>\n",
              "      <td>3</td>\n",
              "      <td>1</td>\n",
              "      <td>6.6</td>\n",
              "      <td>1</td>\n",
              "      <td>23.4</td>\n",
              "      <td>4</td>\n",
              "      <td>2</td>\n",
              "      <td>2</td>\n",
              "      <td>...</td>\n",
              "      <td>7.94</td>\n",
              "      <td>0.42</td>\n",
              "      <td>19.013230</td>\n",
              "      <td>23.0</td>\n",
              "      <td>20.0</td>\n",
              "      <td>1000000.0</td>\n",
              "      <td>1</td>\n",
              "      <td>1</td>\n",
              "      <td>435.0</td>\n",
              "      <td>1</td>\n",
              "    </tr>\n",
              "    <tr>\n",
              "      <th>3</th>\n",
              "      <td>39.684932</td>\n",
              "      <td>0</td>\n",
              "      <td>1</td>\n",
              "      <td>2</td>\n",
              "      <td>18.1</td>\n",
              "      <td>0</td>\n",
              "      <td>50.0</td>\n",
              "      <td>3</td>\n",
              "      <td>2</td>\n",
              "      <td>1</td>\n",
              "      <td>...</td>\n",
              "      <td>4.25</td>\n",
              "      <td>0.14</td>\n",
              "      <td>29.481647</td>\n",
              "      <td>23.0</td>\n",
              "      <td>29.0</td>\n",
              "      <td>19.0</td>\n",
              "      <td>0</td>\n",
              "      <td>0</td>\n",
              "      <td>53.0</td>\n",
              "      <td>1</td>\n",
              "    </tr>\n",
              "    <tr>\n",
              "      <th>4</th>\n",
              "      <td>33.358904</td>\n",
              "      <td>1</td>\n",
              "      <td>1</td>\n",
              "      <td>1</td>\n",
              "      <td>1.3</td>\n",
              "      <td>0</td>\n",
              "      <td>9.0</td>\n",
              "      <td>3</td>\n",
              "      <td>1</td>\n",
              "      <td>2</td>\n",
              "      <td>...</td>\n",
              "      <td>51.85</td>\n",
              "      <td>13.05</td>\n",
              "      <td>3.972255</td>\n",
              "      <td>14.0</td>\n",
              "      <td>14.0</td>\n",
              "      <td>1000000.0</td>\n",
              "      <td>1</td>\n",
              "      <td>0</td>\n",
              "      <td>2043.0</td>\n",
              "      <td>0</td>\n",
              "    </tr>\n",
              "  </tbody>\n",
              "</table>\n",
              "<p>5 rows × 30 columns</p>\n",
              "</div>\n",
              "      <button class=\"colab-df-convert\" onclick=\"convertToInteractive('df-0ff74356-364b-4126-8d36-488166df4672')\"\n",
              "              title=\"Convert this dataframe to an interactive table.\"\n",
              "              style=\"display:none;\">\n",
              "        \n",
              "  <svg xmlns=\"http://www.w3.org/2000/svg\" height=\"24px\"viewBox=\"0 0 24 24\"\n",
              "       width=\"24px\">\n",
              "    <path d=\"M0 0h24v24H0V0z\" fill=\"none\"/>\n",
              "    <path d=\"M18.56 5.44l.94 2.06.94-2.06 2.06-.94-2.06-.94-.94-2.06-.94 2.06-2.06.94zm-11 1L8.5 8.5l.94-2.06 2.06-.94-2.06-.94L8.5 2.5l-.94 2.06-2.06.94zm10 10l.94 2.06.94-2.06 2.06-.94-2.06-.94-.94-2.06-.94 2.06-2.06.94z\"/><path d=\"M17.41 7.96l-1.37-1.37c-.4-.4-.92-.59-1.43-.59-.52 0-1.04.2-1.43.59L10.3 9.45l-7.72 7.72c-.78.78-.78 2.05 0 2.83L4 21.41c.39.39.9.59 1.41.59.51 0 1.02-.2 1.41-.59l7.78-7.78 2.81-2.81c.8-.78.8-2.07 0-2.86zM5.41 20L4 18.59l7.72-7.72 1.47 1.35L5.41 20z\"/>\n",
              "  </svg>\n",
              "      </button>\n",
              "      \n",
              "  <style>\n",
              "    .colab-df-container {\n",
              "      display:flex;\n",
              "      flex-wrap:wrap;\n",
              "      gap: 12px;\n",
              "    }\n",
              "\n",
              "    .colab-df-convert {\n",
              "      background-color: #E8F0FE;\n",
              "      border: none;\n",
              "      border-radius: 50%;\n",
              "      cursor: pointer;\n",
              "      display: none;\n",
              "      fill: #1967D2;\n",
              "      height: 32px;\n",
              "      padding: 0 0 0 0;\n",
              "      width: 32px;\n",
              "    }\n",
              "\n",
              "    .colab-df-convert:hover {\n",
              "      background-color: #E2EBFA;\n",
              "      box-shadow: 0px 1px 2px rgba(60, 64, 67, 0.3), 0px 1px 3px 1px rgba(60, 64, 67, 0.15);\n",
              "      fill: #174EA6;\n",
              "    }\n",
              "\n",
              "    [theme=dark] .colab-df-convert {\n",
              "      background-color: #3B4455;\n",
              "      fill: #D2E3FC;\n",
              "    }\n",
              "\n",
              "    [theme=dark] .colab-df-convert:hover {\n",
              "      background-color: #434B5C;\n",
              "      box-shadow: 0px 1px 3px 1px rgba(0, 0, 0, 0.15);\n",
              "      filter: drop-shadow(0px 1px 2px rgba(0, 0, 0, 0.3));\n",
              "      fill: #FFFFFF;\n",
              "    }\n",
              "  </style>\n",
              "\n",
              "      <script>\n",
              "        const buttonEl =\n",
              "          document.querySelector('#df-0ff74356-364b-4126-8d36-488166df4672 button.colab-df-convert');\n",
              "        buttonEl.style.display =\n",
              "          google.colab.kernel.accessAllowed ? 'block' : 'none';\n",
              "\n",
              "        async function convertToInteractive(key) {\n",
              "          const element = document.querySelector('#df-0ff74356-364b-4126-8d36-488166df4672');\n",
              "          const dataTable =\n",
              "            await google.colab.kernel.invokeFunction('convertToInteractive',\n",
              "                                                     [key], {});\n",
              "          if (!dataTable) return;\n",
              "\n",
              "          const docLinkHtml = 'Like what you see? Visit the ' +\n",
              "            '<a target=\"_blank\" href=https://colab.research.google.com/notebooks/data_table.ipynb>data table notebook</a>'\n",
              "            + ' to learn more about interactive tables.';\n",
              "          element.innerHTML = '';\n",
              "          dataTable['output_type'] = 'display_data';\n",
              "          await google.colab.output.renderOutput(dataTable, element);\n",
              "          const docLink = document.createElement('div');\n",
              "          docLink.innerHTML = docLinkHtml;\n",
              "          element.appendChild(docLink);\n",
              "        }\n",
              "      </script>\n",
              "    </div>\n",
              "  </div>\n",
              "  "
            ]
          },
          "metadata": {},
          "execution_count": 93
        }
      ]
    },
    {
      "cell_type": "code",
      "source": [
        "independent_column =[col for col in data.columns if col!='survival_status']\n",
        "dependent_column='survival_status'"
      ],
      "metadata": {
        "id": "KBSu5k5I_m3u"
      },
      "execution_count": 94,
      "outputs": []
    },
    {
      "cell_type": "code",
      "source": [
        "X=data[independent_column]\n",
        "y=data[dependent_column]"
      ],
      "metadata": {
        "id": "GYWoNBo8ATKk"
      },
      "execution_count": 100,
      "outputs": []
    },
    {
      "cell_type": "code",
      "source": [
        "X.head()"
      ],
      "metadata": {
        "colab": {
          "base_uri": "https://localhost:8080/",
          "height": 297
        },
        "id": "OXj_2Uc8AcIM",
        "outputId": "581e5e5a-852b-4efb-9379-1330afe424b7"
      },
      "execution_count": 101,
      "outputs": [
        {
          "output_type": "execute_result",
          "data": {
            "text/plain": [
              "   donor_age  donor_age_below_35  donor_ABO  donor_CMV  recipient_age  \\\n",
              "0  22.830137                   1          1          2            9.6   \n",
              "1  23.342466                   1          3          1            4.0   \n",
              "2  26.394521                   1          3          1            6.6   \n",
              "3  39.684932                   0          1          2           18.1   \n",
              "4  33.358904                   1          1          1            1.3   \n",
              "\n",
              "   recipient_gender  recipient_body_mass  recipient_ABO  recipient_rh  \\\n",
              "0                 1                 35.0              2             2   \n",
              "1                 1                 20.6              4             2   \n",
              "2                 1                 23.4              4             2   \n",
              "3                 0                 50.0              3             2   \n",
              "4                 0                  9.0              3             1   \n",
              "\n",
              "   recipient_CMV  ...  tx_post_relapse  CD34_x1e6_per_kg  CD3_x1e8_per_kg  \\\n",
              "0              2  ...                0              7.20             5.38   \n",
              "1              1  ...                0              4.50             0.41   \n",
              "2              2  ...                0              7.94             0.42   \n",
              "3              1  ...                0              4.25             0.14   \n",
              "4              2  ...                0             51.85            13.05   \n",
              "\n",
              "   CD3_to_CD34_ratio  ANC_recovery  PLT_recovery  time_to_acute_GvHD_III_IV  \\\n",
              "0           1.338760          19.0          51.0                       32.0   \n",
              "1          11.078295          16.0          37.0                  1000000.0   \n",
              "2          19.013230          23.0          20.0                  1000000.0   \n",
              "3          29.481647          23.0          29.0                       19.0   \n",
              "4           3.972255          14.0          14.0                  1000000.0   \n",
              "\n",
              "   extensive_chronic_GvHD  relapse  survival_time  \n",
              "0                       1        0          999.0  \n",
              "1                       1        1          163.0  \n",
              "2                       1        1          435.0  \n",
              "3                       0        0           53.0  \n",
              "4                       1        0         2043.0  \n",
              "\n",
              "[5 rows x 29 columns]"
            ],
            "text/html": [
              "\n",
              "  <div id=\"df-50ca1016-76b5-4237-a002-7d7192b9489b\">\n",
              "    <div class=\"colab-df-container\">\n",
              "      <div>\n",
              "<style scoped>\n",
              "    .dataframe tbody tr th:only-of-type {\n",
              "        vertical-align: middle;\n",
              "    }\n",
              "\n",
              "    .dataframe tbody tr th {\n",
              "        vertical-align: top;\n",
              "    }\n",
              "\n",
              "    .dataframe thead th {\n",
              "        text-align: right;\n",
              "    }\n",
              "</style>\n",
              "<table border=\"1\" class=\"dataframe\">\n",
              "  <thead>\n",
              "    <tr style=\"text-align: right;\">\n",
              "      <th></th>\n",
              "      <th>donor_age</th>\n",
              "      <th>donor_age_below_35</th>\n",
              "      <th>donor_ABO</th>\n",
              "      <th>donor_CMV</th>\n",
              "      <th>recipient_age</th>\n",
              "      <th>recipient_gender</th>\n",
              "      <th>recipient_body_mass</th>\n",
              "      <th>recipient_ABO</th>\n",
              "      <th>recipient_rh</th>\n",
              "      <th>recipient_CMV</th>\n",
              "      <th>...</th>\n",
              "      <th>tx_post_relapse</th>\n",
              "      <th>CD34_x1e6_per_kg</th>\n",
              "      <th>CD3_x1e8_per_kg</th>\n",
              "      <th>CD3_to_CD34_ratio</th>\n",
              "      <th>ANC_recovery</th>\n",
              "      <th>PLT_recovery</th>\n",
              "      <th>time_to_acute_GvHD_III_IV</th>\n",
              "      <th>extensive_chronic_GvHD</th>\n",
              "      <th>relapse</th>\n",
              "      <th>survival_time</th>\n",
              "    </tr>\n",
              "  </thead>\n",
              "  <tbody>\n",
              "    <tr>\n",
              "      <th>0</th>\n",
              "      <td>22.830137</td>\n",
              "      <td>1</td>\n",
              "      <td>1</td>\n",
              "      <td>2</td>\n",
              "      <td>9.6</td>\n",
              "      <td>1</td>\n",
              "      <td>35.0</td>\n",
              "      <td>2</td>\n",
              "      <td>2</td>\n",
              "      <td>2</td>\n",
              "      <td>...</td>\n",
              "      <td>0</td>\n",
              "      <td>7.20</td>\n",
              "      <td>5.38</td>\n",
              "      <td>1.338760</td>\n",
              "      <td>19.0</td>\n",
              "      <td>51.0</td>\n",
              "      <td>32.0</td>\n",
              "      <td>1</td>\n",
              "      <td>0</td>\n",
              "      <td>999.0</td>\n",
              "    </tr>\n",
              "    <tr>\n",
              "      <th>1</th>\n",
              "      <td>23.342466</td>\n",
              "      <td>1</td>\n",
              "      <td>3</td>\n",
              "      <td>1</td>\n",
              "      <td>4.0</td>\n",
              "      <td>1</td>\n",
              "      <td>20.6</td>\n",
              "      <td>4</td>\n",
              "      <td>2</td>\n",
              "      <td>1</td>\n",
              "      <td>...</td>\n",
              "      <td>0</td>\n",
              "      <td>4.50</td>\n",
              "      <td>0.41</td>\n",
              "      <td>11.078295</td>\n",
              "      <td>16.0</td>\n",
              "      <td>37.0</td>\n",
              "      <td>1000000.0</td>\n",
              "      <td>1</td>\n",
              "      <td>1</td>\n",
              "      <td>163.0</td>\n",
              "    </tr>\n",
              "    <tr>\n",
              "      <th>2</th>\n",
              "      <td>26.394521</td>\n",
              "      <td>1</td>\n",
              "      <td>3</td>\n",
              "      <td>1</td>\n",
              "      <td>6.6</td>\n",
              "      <td>1</td>\n",
              "      <td>23.4</td>\n",
              "      <td>4</td>\n",
              "      <td>2</td>\n",
              "      <td>2</td>\n",
              "      <td>...</td>\n",
              "      <td>0</td>\n",
              "      <td>7.94</td>\n",
              "      <td>0.42</td>\n",
              "      <td>19.013230</td>\n",
              "      <td>23.0</td>\n",
              "      <td>20.0</td>\n",
              "      <td>1000000.0</td>\n",
              "      <td>1</td>\n",
              "      <td>1</td>\n",
              "      <td>435.0</td>\n",
              "    </tr>\n",
              "    <tr>\n",
              "      <th>3</th>\n",
              "      <td>39.684932</td>\n",
              "      <td>0</td>\n",
              "      <td>1</td>\n",
              "      <td>2</td>\n",
              "      <td>18.1</td>\n",
              "      <td>0</td>\n",
              "      <td>50.0</td>\n",
              "      <td>3</td>\n",
              "      <td>2</td>\n",
              "      <td>1</td>\n",
              "      <td>...</td>\n",
              "      <td>0</td>\n",
              "      <td>4.25</td>\n",
              "      <td>0.14</td>\n",
              "      <td>29.481647</td>\n",
              "      <td>23.0</td>\n",
              "      <td>29.0</td>\n",
              "      <td>19.0</td>\n",
              "      <td>0</td>\n",
              "      <td>0</td>\n",
              "      <td>53.0</td>\n",
              "    </tr>\n",
              "    <tr>\n",
              "      <th>4</th>\n",
              "      <td>33.358904</td>\n",
              "      <td>1</td>\n",
              "      <td>1</td>\n",
              "      <td>1</td>\n",
              "      <td>1.3</td>\n",
              "      <td>0</td>\n",
              "      <td>9.0</td>\n",
              "      <td>3</td>\n",
              "      <td>1</td>\n",
              "      <td>2</td>\n",
              "      <td>...</td>\n",
              "      <td>0</td>\n",
              "      <td>51.85</td>\n",
              "      <td>13.05</td>\n",
              "      <td>3.972255</td>\n",
              "      <td>14.0</td>\n",
              "      <td>14.0</td>\n",
              "      <td>1000000.0</td>\n",
              "      <td>1</td>\n",
              "      <td>0</td>\n",
              "      <td>2043.0</td>\n",
              "    </tr>\n",
              "  </tbody>\n",
              "</table>\n",
              "<p>5 rows × 29 columns</p>\n",
              "</div>\n",
              "      <button class=\"colab-df-convert\" onclick=\"convertToInteractive('df-50ca1016-76b5-4237-a002-7d7192b9489b')\"\n",
              "              title=\"Convert this dataframe to an interactive table.\"\n",
              "              style=\"display:none;\">\n",
              "        \n",
              "  <svg xmlns=\"http://www.w3.org/2000/svg\" height=\"24px\"viewBox=\"0 0 24 24\"\n",
              "       width=\"24px\">\n",
              "    <path d=\"M0 0h24v24H0V0z\" fill=\"none\"/>\n",
              "    <path d=\"M18.56 5.44l.94 2.06.94-2.06 2.06-.94-2.06-.94-.94-2.06-.94 2.06-2.06.94zm-11 1L8.5 8.5l.94-2.06 2.06-.94-2.06-.94L8.5 2.5l-.94 2.06-2.06.94zm10 10l.94 2.06.94-2.06 2.06-.94-2.06-.94-.94-2.06-.94 2.06-2.06.94z\"/><path d=\"M17.41 7.96l-1.37-1.37c-.4-.4-.92-.59-1.43-.59-.52 0-1.04.2-1.43.59L10.3 9.45l-7.72 7.72c-.78.78-.78 2.05 0 2.83L4 21.41c.39.39.9.59 1.41.59.51 0 1.02-.2 1.41-.59l7.78-7.78 2.81-2.81c.8-.78.8-2.07 0-2.86zM5.41 20L4 18.59l7.72-7.72 1.47 1.35L5.41 20z\"/>\n",
              "  </svg>\n",
              "      </button>\n",
              "      \n",
              "  <style>\n",
              "    .colab-df-container {\n",
              "      display:flex;\n",
              "      flex-wrap:wrap;\n",
              "      gap: 12px;\n",
              "    }\n",
              "\n",
              "    .colab-df-convert {\n",
              "      background-color: #E8F0FE;\n",
              "      border: none;\n",
              "      border-radius: 50%;\n",
              "      cursor: pointer;\n",
              "      display: none;\n",
              "      fill: #1967D2;\n",
              "      height: 32px;\n",
              "      padding: 0 0 0 0;\n",
              "      width: 32px;\n",
              "    }\n",
              "\n",
              "    .colab-df-convert:hover {\n",
              "      background-color: #E2EBFA;\n",
              "      box-shadow: 0px 1px 2px rgba(60, 64, 67, 0.3), 0px 1px 3px 1px rgba(60, 64, 67, 0.15);\n",
              "      fill: #174EA6;\n",
              "    }\n",
              "\n",
              "    [theme=dark] .colab-df-convert {\n",
              "      background-color: #3B4455;\n",
              "      fill: #D2E3FC;\n",
              "    }\n",
              "\n",
              "    [theme=dark] .colab-df-convert:hover {\n",
              "      background-color: #434B5C;\n",
              "      box-shadow: 0px 1px 3px 1px rgba(0, 0, 0, 0.15);\n",
              "      filter: drop-shadow(0px 1px 2px rgba(0, 0, 0, 0.3));\n",
              "      fill: #FFFFFF;\n",
              "    }\n",
              "  </style>\n",
              "\n",
              "      <script>\n",
              "        const buttonEl =\n",
              "          document.querySelector('#df-50ca1016-76b5-4237-a002-7d7192b9489b button.colab-df-convert');\n",
              "        buttonEl.style.display =\n",
              "          google.colab.kernel.accessAllowed ? 'block' : 'none';\n",
              "\n",
              "        async function convertToInteractive(key) {\n",
              "          const element = document.querySelector('#df-50ca1016-76b5-4237-a002-7d7192b9489b');\n",
              "          const dataTable =\n",
              "            await google.colab.kernel.invokeFunction('convertToInteractive',\n",
              "                                                     [key], {});\n",
              "          if (!dataTable) return;\n",
              "\n",
              "          const docLinkHtml = 'Like what you see? Visit the ' +\n",
              "            '<a target=\"_blank\" href=https://colab.research.google.com/notebooks/data_table.ipynb>data table notebook</a>'\n",
              "            + ' to learn more about interactive tables.';\n",
              "          element.innerHTML = '';\n",
              "          dataTable['output_type'] = 'display_data';\n",
              "          await google.colab.output.renderOutput(dataTable, element);\n",
              "          const docLink = document.createElement('div');\n",
              "          docLink.innerHTML = docLinkHtml;\n",
              "          element.appendChild(docLink);\n",
              "        }\n",
              "      </script>\n",
              "    </div>\n",
              "  </div>\n",
              "  "
            ]
          },
          "metadata": {},
          "execution_count": 101
        }
      ]
    },
    {
      "cell_type": "code",
      "source": [
        "Y.head()"
      ],
      "metadata": {
        "colab": {
          "base_uri": "https://localhost:8080/"
        },
        "id": "inWC3PNZAf7w",
        "outputId": "545cb19f-c1e0-4c9d-f16a-1e9f3d16ea2b"
      },
      "execution_count": 102,
      "outputs": [
        {
          "output_type": "execute_result",
          "data": {
            "text/plain": [
              "0    0\n",
              "1    1\n",
              "2    1\n",
              "3    1\n",
              "4    0\n",
              "Name: survival_status, dtype: int64"
            ]
          },
          "metadata": {},
          "execution_count": 102
        }
      ]
    },
    {
      "cell_type": "markdown",
      "source": [
        "Applying SelectKBest to select the top 10 best features using the score function chi square"
      ],
      "metadata": {
        "id": "uX_0MdlkBExx"
      }
    },
    {
      "cell_type": "code",
      "source": [
        "BestFeatures=SelectKBest(score_func=chi2, k=20)\n",
        "Fit=BestFeatures.fit(X,y)"
      ],
      "metadata": {
        "id": "Lsl-izXJAkpT"
      },
      "execution_count": 103,
      "outputs": []
    },
    {
      "cell_type": "code",
      "source": [
        "dfscores=pd.DataFrame(Fit.scores_)\n",
        "dfcolumns=pd.DataFrame(X.columns)"
      ],
      "metadata": {
        "id": "N-KeeA84CE2g"
      },
      "execution_count": 106,
      "outputs": []
    },
    {
      "cell_type": "code",
      "source": [
        "Feature_Scores = pd.concat([dfcolumns,dfscores],axis=1)\n",
        "Feature_Scores"
      ],
      "metadata": {
        "colab": {
          "base_uri": "https://localhost:8080/",
          "height": 948
        },
        "id": "RZZqKkkJCrIo",
        "outputId": "202fd41a-c3e3-4ca1-f55d-de6add7bab88"
      },
      "execution_count": 111,
      "outputs": [
        {
          "output_type": "execute_result",
          "data": {
            "text/plain": [
              "                            0             0\n",
              "0                   donor_age  2.171475e+00\n",
              "1          donor_age_below_35  1.227239e+00\n",
              "2                   donor_ABO  5.408638e-02\n",
              "3                   donor_CMV  1.183624e-01\n",
              "4               recipient_age  1.901997e+01\n",
              "5            recipient_gender  8.235798e-02\n",
              "6         recipient_body_mass  1.080801e+02\n",
              "7               recipient_ABO  1.279942e-06\n",
              "8                recipient_rh  6.704010e-02\n",
              "9               recipient_CMV  2.926293e-01\n",
              "10                    disease  2.466909e-02\n",
              "11              disease_group  1.021568e+00\n",
              "12                  ABO_match  1.930693e-01\n",
              "13                 CMV_status  1.015714e+00\n",
              "14                  HLA_match  1.173456e-01\n",
              "15                      allel  2.738052e-03\n",
              "16                HLA_group_1  1.012079e-02\n",
              "17                 risk_group  1.611646e+00\n",
              "18           stem_cell_source  7.703490e-01\n",
              "19            tx_post_relapse  2.493716e+00\n",
              "20           CD34_x1e6_per_kg  3.950118e+01\n",
              "21            CD3_x1e8_per_kg  3.065978e+01\n",
              "22          CD3_to_CD34_ratio  2.501059e+01\n",
              "23               ANC_recovery  4.984159e+06\n",
              "24               PLT_recovery  1.994107e+07\n",
              "25  time_to_acute_GvHD_III_IV  4.043804e+05\n",
              "26     extensive_chronic_GvHD  2.986714e+00\n",
              "27                    relapse  1.605953e+01\n",
              "28              survival_time  7.765990e+04"
            ],
            "text/html": [
              "\n",
              "  <div id=\"df-4d6f9fd6-8869-47ed-af3a-7b450e40b17c\">\n",
              "    <div class=\"colab-df-container\">\n",
              "      <div>\n",
              "<style scoped>\n",
              "    .dataframe tbody tr th:only-of-type {\n",
              "        vertical-align: middle;\n",
              "    }\n",
              "\n",
              "    .dataframe tbody tr th {\n",
              "        vertical-align: top;\n",
              "    }\n",
              "\n",
              "    .dataframe thead th {\n",
              "        text-align: right;\n",
              "    }\n",
              "</style>\n",
              "<table border=\"1\" class=\"dataframe\">\n",
              "  <thead>\n",
              "    <tr style=\"text-align: right;\">\n",
              "      <th></th>\n",
              "      <th>0</th>\n",
              "      <th>0</th>\n",
              "    </tr>\n",
              "  </thead>\n",
              "  <tbody>\n",
              "    <tr>\n",
              "      <th>0</th>\n",
              "      <td>donor_age</td>\n",
              "      <td>2.171475e+00</td>\n",
              "    </tr>\n",
              "    <tr>\n",
              "      <th>1</th>\n",
              "      <td>donor_age_below_35</td>\n",
              "      <td>1.227239e+00</td>\n",
              "    </tr>\n",
              "    <tr>\n",
              "      <th>2</th>\n",
              "      <td>donor_ABO</td>\n",
              "      <td>5.408638e-02</td>\n",
              "    </tr>\n",
              "    <tr>\n",
              "      <th>3</th>\n",
              "      <td>donor_CMV</td>\n",
              "      <td>1.183624e-01</td>\n",
              "    </tr>\n",
              "    <tr>\n",
              "      <th>4</th>\n",
              "      <td>recipient_age</td>\n",
              "      <td>1.901997e+01</td>\n",
              "    </tr>\n",
              "    <tr>\n",
              "      <th>5</th>\n",
              "      <td>recipient_gender</td>\n",
              "      <td>8.235798e-02</td>\n",
              "    </tr>\n",
              "    <tr>\n",
              "      <th>6</th>\n",
              "      <td>recipient_body_mass</td>\n",
              "      <td>1.080801e+02</td>\n",
              "    </tr>\n",
              "    <tr>\n",
              "      <th>7</th>\n",
              "      <td>recipient_ABO</td>\n",
              "      <td>1.279942e-06</td>\n",
              "    </tr>\n",
              "    <tr>\n",
              "      <th>8</th>\n",
              "      <td>recipient_rh</td>\n",
              "      <td>6.704010e-02</td>\n",
              "    </tr>\n",
              "    <tr>\n",
              "      <th>9</th>\n",
              "      <td>recipient_CMV</td>\n",
              "      <td>2.926293e-01</td>\n",
              "    </tr>\n",
              "    <tr>\n",
              "      <th>10</th>\n",
              "      <td>disease</td>\n",
              "      <td>2.466909e-02</td>\n",
              "    </tr>\n",
              "    <tr>\n",
              "      <th>11</th>\n",
              "      <td>disease_group</td>\n",
              "      <td>1.021568e+00</td>\n",
              "    </tr>\n",
              "    <tr>\n",
              "      <th>12</th>\n",
              "      <td>ABO_match</td>\n",
              "      <td>1.930693e-01</td>\n",
              "    </tr>\n",
              "    <tr>\n",
              "      <th>13</th>\n",
              "      <td>CMV_status</td>\n",
              "      <td>1.015714e+00</td>\n",
              "    </tr>\n",
              "    <tr>\n",
              "      <th>14</th>\n",
              "      <td>HLA_match</td>\n",
              "      <td>1.173456e-01</td>\n",
              "    </tr>\n",
              "    <tr>\n",
              "      <th>15</th>\n",
              "      <td>allel</td>\n",
              "      <td>2.738052e-03</td>\n",
              "    </tr>\n",
              "    <tr>\n",
              "      <th>16</th>\n",
              "      <td>HLA_group_1</td>\n",
              "      <td>1.012079e-02</td>\n",
              "    </tr>\n",
              "    <tr>\n",
              "      <th>17</th>\n",
              "      <td>risk_group</td>\n",
              "      <td>1.611646e+00</td>\n",
              "    </tr>\n",
              "    <tr>\n",
              "      <th>18</th>\n",
              "      <td>stem_cell_source</td>\n",
              "      <td>7.703490e-01</td>\n",
              "    </tr>\n",
              "    <tr>\n",
              "      <th>19</th>\n",
              "      <td>tx_post_relapse</td>\n",
              "      <td>2.493716e+00</td>\n",
              "    </tr>\n",
              "    <tr>\n",
              "      <th>20</th>\n",
              "      <td>CD34_x1e6_per_kg</td>\n",
              "      <td>3.950118e+01</td>\n",
              "    </tr>\n",
              "    <tr>\n",
              "      <th>21</th>\n",
              "      <td>CD3_x1e8_per_kg</td>\n",
              "      <td>3.065978e+01</td>\n",
              "    </tr>\n",
              "    <tr>\n",
              "      <th>22</th>\n",
              "      <td>CD3_to_CD34_ratio</td>\n",
              "      <td>2.501059e+01</td>\n",
              "    </tr>\n",
              "    <tr>\n",
              "      <th>23</th>\n",
              "      <td>ANC_recovery</td>\n",
              "      <td>4.984159e+06</td>\n",
              "    </tr>\n",
              "    <tr>\n",
              "      <th>24</th>\n",
              "      <td>PLT_recovery</td>\n",
              "      <td>1.994107e+07</td>\n",
              "    </tr>\n",
              "    <tr>\n",
              "      <th>25</th>\n",
              "      <td>time_to_acute_GvHD_III_IV</td>\n",
              "      <td>4.043804e+05</td>\n",
              "    </tr>\n",
              "    <tr>\n",
              "      <th>26</th>\n",
              "      <td>extensive_chronic_GvHD</td>\n",
              "      <td>2.986714e+00</td>\n",
              "    </tr>\n",
              "    <tr>\n",
              "      <th>27</th>\n",
              "      <td>relapse</td>\n",
              "      <td>1.605953e+01</td>\n",
              "    </tr>\n",
              "    <tr>\n",
              "      <th>28</th>\n",
              "      <td>survival_time</td>\n",
              "      <td>7.765990e+04</td>\n",
              "    </tr>\n",
              "  </tbody>\n",
              "</table>\n",
              "</div>\n",
              "      <button class=\"colab-df-convert\" onclick=\"convertToInteractive('df-4d6f9fd6-8869-47ed-af3a-7b450e40b17c')\"\n",
              "              title=\"Convert this dataframe to an interactive table.\"\n",
              "              style=\"display:none;\">\n",
              "        \n",
              "  <svg xmlns=\"http://www.w3.org/2000/svg\" height=\"24px\"viewBox=\"0 0 24 24\"\n",
              "       width=\"24px\">\n",
              "    <path d=\"M0 0h24v24H0V0z\" fill=\"none\"/>\n",
              "    <path d=\"M18.56 5.44l.94 2.06.94-2.06 2.06-.94-2.06-.94-.94-2.06-.94 2.06-2.06.94zm-11 1L8.5 8.5l.94-2.06 2.06-.94-2.06-.94L8.5 2.5l-.94 2.06-2.06.94zm10 10l.94 2.06.94-2.06 2.06-.94-2.06-.94-.94-2.06-.94 2.06-2.06.94z\"/><path d=\"M17.41 7.96l-1.37-1.37c-.4-.4-.92-.59-1.43-.59-.52 0-1.04.2-1.43.59L10.3 9.45l-7.72 7.72c-.78.78-.78 2.05 0 2.83L4 21.41c.39.39.9.59 1.41.59.51 0 1.02-.2 1.41-.59l7.78-7.78 2.81-2.81c.8-.78.8-2.07 0-2.86zM5.41 20L4 18.59l7.72-7.72 1.47 1.35L5.41 20z\"/>\n",
              "  </svg>\n",
              "      </button>\n",
              "      \n",
              "  <style>\n",
              "    .colab-df-container {\n",
              "      display:flex;\n",
              "      flex-wrap:wrap;\n",
              "      gap: 12px;\n",
              "    }\n",
              "\n",
              "    .colab-df-convert {\n",
              "      background-color: #E8F0FE;\n",
              "      border: none;\n",
              "      border-radius: 50%;\n",
              "      cursor: pointer;\n",
              "      display: none;\n",
              "      fill: #1967D2;\n",
              "      height: 32px;\n",
              "      padding: 0 0 0 0;\n",
              "      width: 32px;\n",
              "    }\n",
              "\n",
              "    .colab-df-convert:hover {\n",
              "      background-color: #E2EBFA;\n",
              "      box-shadow: 0px 1px 2px rgba(60, 64, 67, 0.3), 0px 1px 3px 1px rgba(60, 64, 67, 0.15);\n",
              "      fill: #174EA6;\n",
              "    }\n",
              "\n",
              "    [theme=dark] .colab-df-convert {\n",
              "      background-color: #3B4455;\n",
              "      fill: #D2E3FC;\n",
              "    }\n",
              "\n",
              "    [theme=dark] .colab-df-convert:hover {\n",
              "      background-color: #434B5C;\n",
              "      box-shadow: 0px 1px 3px 1px rgba(0, 0, 0, 0.15);\n",
              "      filter: drop-shadow(0px 1px 2px rgba(0, 0, 0, 0.3));\n",
              "      fill: #FFFFFF;\n",
              "    }\n",
              "  </style>\n",
              "\n",
              "      <script>\n",
              "        const buttonEl =\n",
              "          document.querySelector('#df-4d6f9fd6-8869-47ed-af3a-7b450e40b17c button.colab-df-convert');\n",
              "        buttonEl.style.display =\n",
              "          google.colab.kernel.accessAllowed ? 'block' : 'none';\n",
              "\n",
              "        async function convertToInteractive(key) {\n",
              "          const element = document.querySelector('#df-4d6f9fd6-8869-47ed-af3a-7b450e40b17c');\n",
              "          const dataTable =\n",
              "            await google.colab.kernel.invokeFunction('convertToInteractive',\n",
              "                                                     [key], {});\n",
              "          if (!dataTable) return;\n",
              "\n",
              "          const docLinkHtml = 'Like what you see? Visit the ' +\n",
              "            '<a target=\"_blank\" href=https://colab.research.google.com/notebooks/data_table.ipynb>data table notebook</a>'\n",
              "            + ' to learn more about interactive tables.';\n",
              "          element.innerHTML = '';\n",
              "          dataTable['output_type'] = 'display_data';\n",
              "          await google.colab.output.renderOutput(dataTable, element);\n",
              "          const docLink = document.createElement('div');\n",
              "          docLink.innerHTML = docLinkHtml;\n",
              "          element.appendChild(docLink);\n",
              "        }\n",
              "      </script>\n",
              "    </div>\n",
              "  </div>\n",
              "  "
            ]
          },
          "metadata": {},
          "execution_count": 111
        }
      ]
    },
    {
      "cell_type": "markdown",
      "source": [
        "the features with the hoghest scores are the most correlated features which gives us the most survival status."
      ],
      "metadata": {
        "id": "3YGaLIvfEr3L"
      }
    },
    {
      "cell_type": "code",
      "source": [
        "datascores = pd.DataFrame(Fit.scores_,columns=['Score'])"
      ],
      "metadata": {
        "id": "J2qhlbv4DiIE"
      },
      "execution_count": 115,
      "outputs": []
    },
    {
      "cell_type": "code",
      "source": [
        "Feature_Scores = pd.concat([dfcolumns,datascores],axis=1)\n",
        "Feature_Scores"
      ],
      "metadata": {
        "colab": {
          "base_uri": "https://localhost:8080/",
          "height": 948
        },
        "id": "RYiJ-aAOFLCZ",
        "outputId": "f011729c-200b-4e43-d51b-db620a7f155c"
      },
      "execution_count": 116,
      "outputs": [
        {
          "output_type": "execute_result",
          "data": {
            "text/plain": [
              "                            0         Score\n",
              "0                   donor_age  2.171475e+00\n",
              "1          donor_age_below_35  1.227239e+00\n",
              "2                   donor_ABO  5.408638e-02\n",
              "3                   donor_CMV  1.183624e-01\n",
              "4               recipient_age  1.901997e+01\n",
              "5            recipient_gender  8.235798e-02\n",
              "6         recipient_body_mass  1.080801e+02\n",
              "7               recipient_ABO  1.279942e-06\n",
              "8                recipient_rh  6.704010e-02\n",
              "9               recipient_CMV  2.926293e-01\n",
              "10                    disease  2.466909e-02\n",
              "11              disease_group  1.021568e+00\n",
              "12                  ABO_match  1.930693e-01\n",
              "13                 CMV_status  1.015714e+00\n",
              "14                  HLA_match  1.173456e-01\n",
              "15                      allel  2.738052e-03\n",
              "16                HLA_group_1  1.012079e-02\n",
              "17                 risk_group  1.611646e+00\n",
              "18           stem_cell_source  7.703490e-01\n",
              "19            tx_post_relapse  2.493716e+00\n",
              "20           CD34_x1e6_per_kg  3.950118e+01\n",
              "21            CD3_x1e8_per_kg  3.065978e+01\n",
              "22          CD3_to_CD34_ratio  2.501059e+01\n",
              "23               ANC_recovery  4.984159e+06\n",
              "24               PLT_recovery  1.994107e+07\n",
              "25  time_to_acute_GvHD_III_IV  4.043804e+05\n",
              "26     extensive_chronic_GvHD  2.986714e+00\n",
              "27                    relapse  1.605953e+01\n",
              "28              survival_time  7.765990e+04"
            ],
            "text/html": [
              "\n",
              "  <div id=\"df-45b27f93-a994-461a-91b9-09f09fc3862b\">\n",
              "    <div class=\"colab-df-container\">\n",
              "      <div>\n",
              "<style scoped>\n",
              "    .dataframe tbody tr th:only-of-type {\n",
              "        vertical-align: middle;\n",
              "    }\n",
              "\n",
              "    .dataframe tbody tr th {\n",
              "        vertical-align: top;\n",
              "    }\n",
              "\n",
              "    .dataframe thead th {\n",
              "        text-align: right;\n",
              "    }\n",
              "</style>\n",
              "<table border=\"1\" class=\"dataframe\">\n",
              "  <thead>\n",
              "    <tr style=\"text-align: right;\">\n",
              "      <th></th>\n",
              "      <th>0</th>\n",
              "      <th>Score</th>\n",
              "    </tr>\n",
              "  </thead>\n",
              "  <tbody>\n",
              "    <tr>\n",
              "      <th>0</th>\n",
              "      <td>donor_age</td>\n",
              "      <td>2.171475e+00</td>\n",
              "    </tr>\n",
              "    <tr>\n",
              "      <th>1</th>\n",
              "      <td>donor_age_below_35</td>\n",
              "      <td>1.227239e+00</td>\n",
              "    </tr>\n",
              "    <tr>\n",
              "      <th>2</th>\n",
              "      <td>donor_ABO</td>\n",
              "      <td>5.408638e-02</td>\n",
              "    </tr>\n",
              "    <tr>\n",
              "      <th>3</th>\n",
              "      <td>donor_CMV</td>\n",
              "      <td>1.183624e-01</td>\n",
              "    </tr>\n",
              "    <tr>\n",
              "      <th>4</th>\n",
              "      <td>recipient_age</td>\n",
              "      <td>1.901997e+01</td>\n",
              "    </tr>\n",
              "    <tr>\n",
              "      <th>5</th>\n",
              "      <td>recipient_gender</td>\n",
              "      <td>8.235798e-02</td>\n",
              "    </tr>\n",
              "    <tr>\n",
              "      <th>6</th>\n",
              "      <td>recipient_body_mass</td>\n",
              "      <td>1.080801e+02</td>\n",
              "    </tr>\n",
              "    <tr>\n",
              "      <th>7</th>\n",
              "      <td>recipient_ABO</td>\n",
              "      <td>1.279942e-06</td>\n",
              "    </tr>\n",
              "    <tr>\n",
              "      <th>8</th>\n",
              "      <td>recipient_rh</td>\n",
              "      <td>6.704010e-02</td>\n",
              "    </tr>\n",
              "    <tr>\n",
              "      <th>9</th>\n",
              "      <td>recipient_CMV</td>\n",
              "      <td>2.926293e-01</td>\n",
              "    </tr>\n",
              "    <tr>\n",
              "      <th>10</th>\n",
              "      <td>disease</td>\n",
              "      <td>2.466909e-02</td>\n",
              "    </tr>\n",
              "    <tr>\n",
              "      <th>11</th>\n",
              "      <td>disease_group</td>\n",
              "      <td>1.021568e+00</td>\n",
              "    </tr>\n",
              "    <tr>\n",
              "      <th>12</th>\n",
              "      <td>ABO_match</td>\n",
              "      <td>1.930693e-01</td>\n",
              "    </tr>\n",
              "    <tr>\n",
              "      <th>13</th>\n",
              "      <td>CMV_status</td>\n",
              "      <td>1.015714e+00</td>\n",
              "    </tr>\n",
              "    <tr>\n",
              "      <th>14</th>\n",
              "      <td>HLA_match</td>\n",
              "      <td>1.173456e-01</td>\n",
              "    </tr>\n",
              "    <tr>\n",
              "      <th>15</th>\n",
              "      <td>allel</td>\n",
              "      <td>2.738052e-03</td>\n",
              "    </tr>\n",
              "    <tr>\n",
              "      <th>16</th>\n",
              "      <td>HLA_group_1</td>\n",
              "      <td>1.012079e-02</td>\n",
              "    </tr>\n",
              "    <tr>\n",
              "      <th>17</th>\n",
              "      <td>risk_group</td>\n",
              "      <td>1.611646e+00</td>\n",
              "    </tr>\n",
              "    <tr>\n",
              "      <th>18</th>\n",
              "      <td>stem_cell_source</td>\n",
              "      <td>7.703490e-01</td>\n",
              "    </tr>\n",
              "    <tr>\n",
              "      <th>19</th>\n",
              "      <td>tx_post_relapse</td>\n",
              "      <td>2.493716e+00</td>\n",
              "    </tr>\n",
              "    <tr>\n",
              "      <th>20</th>\n",
              "      <td>CD34_x1e6_per_kg</td>\n",
              "      <td>3.950118e+01</td>\n",
              "    </tr>\n",
              "    <tr>\n",
              "      <th>21</th>\n",
              "      <td>CD3_x1e8_per_kg</td>\n",
              "      <td>3.065978e+01</td>\n",
              "    </tr>\n",
              "    <tr>\n",
              "      <th>22</th>\n",
              "      <td>CD3_to_CD34_ratio</td>\n",
              "      <td>2.501059e+01</td>\n",
              "    </tr>\n",
              "    <tr>\n",
              "      <th>23</th>\n",
              "      <td>ANC_recovery</td>\n",
              "      <td>4.984159e+06</td>\n",
              "    </tr>\n",
              "    <tr>\n",
              "      <th>24</th>\n",
              "      <td>PLT_recovery</td>\n",
              "      <td>1.994107e+07</td>\n",
              "    </tr>\n",
              "    <tr>\n",
              "      <th>25</th>\n",
              "      <td>time_to_acute_GvHD_III_IV</td>\n",
              "      <td>4.043804e+05</td>\n",
              "    </tr>\n",
              "    <tr>\n",
              "      <th>26</th>\n",
              "      <td>extensive_chronic_GvHD</td>\n",
              "      <td>2.986714e+00</td>\n",
              "    </tr>\n",
              "    <tr>\n",
              "      <th>27</th>\n",
              "      <td>relapse</td>\n",
              "      <td>1.605953e+01</td>\n",
              "    </tr>\n",
              "    <tr>\n",
              "      <th>28</th>\n",
              "      <td>survival_time</td>\n",
              "      <td>7.765990e+04</td>\n",
              "    </tr>\n",
              "  </tbody>\n",
              "</table>\n",
              "</div>\n",
              "      <button class=\"colab-df-convert\" onclick=\"convertToInteractive('df-45b27f93-a994-461a-91b9-09f09fc3862b')\"\n",
              "              title=\"Convert this dataframe to an interactive table.\"\n",
              "              style=\"display:none;\">\n",
              "        \n",
              "  <svg xmlns=\"http://www.w3.org/2000/svg\" height=\"24px\"viewBox=\"0 0 24 24\"\n",
              "       width=\"24px\">\n",
              "    <path d=\"M0 0h24v24H0V0z\" fill=\"none\"/>\n",
              "    <path d=\"M18.56 5.44l.94 2.06.94-2.06 2.06-.94-2.06-.94-.94-2.06-.94 2.06-2.06.94zm-11 1L8.5 8.5l.94-2.06 2.06-.94-2.06-.94L8.5 2.5l-.94 2.06-2.06.94zm10 10l.94 2.06.94-2.06 2.06-.94-2.06-.94-.94-2.06-.94 2.06-2.06.94z\"/><path d=\"M17.41 7.96l-1.37-1.37c-.4-.4-.92-.59-1.43-.59-.52 0-1.04.2-1.43.59L10.3 9.45l-7.72 7.72c-.78.78-.78 2.05 0 2.83L4 21.41c.39.39.9.59 1.41.59.51 0 1.02-.2 1.41-.59l7.78-7.78 2.81-2.81c.8-.78.8-2.07 0-2.86zM5.41 20L4 18.59l7.72-7.72 1.47 1.35L5.41 20z\"/>\n",
              "  </svg>\n",
              "      </button>\n",
              "      \n",
              "  <style>\n",
              "    .colab-df-container {\n",
              "      display:flex;\n",
              "      flex-wrap:wrap;\n",
              "      gap: 12px;\n",
              "    }\n",
              "\n",
              "    .colab-df-convert {\n",
              "      background-color: #E8F0FE;\n",
              "      border: none;\n",
              "      border-radius: 50%;\n",
              "      cursor: pointer;\n",
              "      display: none;\n",
              "      fill: #1967D2;\n",
              "      height: 32px;\n",
              "      padding: 0 0 0 0;\n",
              "      width: 32px;\n",
              "    }\n",
              "\n",
              "    .colab-df-convert:hover {\n",
              "      background-color: #E2EBFA;\n",
              "      box-shadow: 0px 1px 2px rgba(60, 64, 67, 0.3), 0px 1px 3px 1px rgba(60, 64, 67, 0.15);\n",
              "      fill: #174EA6;\n",
              "    }\n",
              "\n",
              "    [theme=dark] .colab-df-convert {\n",
              "      background-color: #3B4455;\n",
              "      fill: #D2E3FC;\n",
              "    }\n",
              "\n",
              "    [theme=dark] .colab-df-convert:hover {\n",
              "      background-color: #434B5C;\n",
              "      box-shadow: 0px 1px 3px 1px rgba(0, 0, 0, 0.15);\n",
              "      filter: drop-shadow(0px 1px 2px rgba(0, 0, 0, 0.3));\n",
              "      fill: #FFFFFF;\n",
              "    }\n",
              "  </style>\n",
              "\n",
              "      <script>\n",
              "        const buttonEl =\n",
              "          document.querySelector('#df-45b27f93-a994-461a-91b9-09f09fc3862b button.colab-df-convert');\n",
              "        buttonEl.style.display =\n",
              "          google.colab.kernel.accessAllowed ? 'block' : 'none';\n",
              "\n",
              "        async function convertToInteractive(key) {\n",
              "          const element = document.querySelector('#df-45b27f93-a994-461a-91b9-09f09fc3862b');\n",
              "          const dataTable =\n",
              "            await google.colab.kernel.invokeFunction('convertToInteractive',\n",
              "                                                     [key], {});\n",
              "          if (!dataTable) return;\n",
              "\n",
              "          const docLinkHtml = 'Like what you see? Visit the ' +\n",
              "            '<a target=\"_blank\" href=https://colab.research.google.com/notebooks/data_table.ipynb>data table notebook</a>'\n",
              "            + ' to learn more about interactive tables.';\n",
              "          element.innerHTML = '';\n",
              "          dataTable['output_type'] = 'display_data';\n",
              "          await google.colab.output.renderOutput(dataTable, element);\n",
              "          const docLink = document.createElement('div');\n",
              "          docLink.innerHTML = docLinkHtml;\n",
              "          element.appendChild(docLink);\n",
              "        }\n",
              "      </script>\n",
              "    </div>\n",
              "  </div>\n",
              "  "
            ]
          },
          "metadata": {},
          "execution_count": 116
        }
      ]
    },
    {
      "cell_type": "code",
      "source": [
        "Feature_Scores.nlargest(10,'Score')"
      ],
      "metadata": {
        "colab": {
          "base_uri": "https://localhost:8080/",
          "height": 359
        },
        "id": "NwNfwQPCGAu6",
        "outputId": "254d0a63-5728-4500-f31b-39f1a66e6eb9"
      },
      "execution_count": 118,
      "outputs": [
        {
          "output_type": "execute_result",
          "data": {
            "text/plain": [
              "                            0         Score\n",
              "24               PLT_recovery  1.994107e+07\n",
              "23               ANC_recovery  4.984159e+06\n",
              "25  time_to_acute_GvHD_III_IV  4.043804e+05\n",
              "28              survival_time  7.765990e+04\n",
              "6         recipient_body_mass  1.080801e+02\n",
              "20           CD34_x1e6_per_kg  3.950118e+01\n",
              "21            CD3_x1e8_per_kg  3.065978e+01\n",
              "22          CD3_to_CD34_ratio  2.501059e+01\n",
              "4               recipient_age  1.901997e+01\n",
              "27                    relapse  1.605953e+01"
            ],
            "text/html": [
              "\n",
              "  <div id=\"df-72fc4f90-679f-4ad9-898a-42a9c6ba132f\">\n",
              "    <div class=\"colab-df-container\">\n",
              "      <div>\n",
              "<style scoped>\n",
              "    .dataframe tbody tr th:only-of-type {\n",
              "        vertical-align: middle;\n",
              "    }\n",
              "\n",
              "    .dataframe tbody tr th {\n",
              "        vertical-align: top;\n",
              "    }\n",
              "\n",
              "    .dataframe thead th {\n",
              "        text-align: right;\n",
              "    }\n",
              "</style>\n",
              "<table border=\"1\" class=\"dataframe\">\n",
              "  <thead>\n",
              "    <tr style=\"text-align: right;\">\n",
              "      <th></th>\n",
              "      <th>0</th>\n",
              "      <th>Score</th>\n",
              "    </tr>\n",
              "  </thead>\n",
              "  <tbody>\n",
              "    <tr>\n",
              "      <th>24</th>\n",
              "      <td>PLT_recovery</td>\n",
              "      <td>1.994107e+07</td>\n",
              "    </tr>\n",
              "    <tr>\n",
              "      <th>23</th>\n",
              "      <td>ANC_recovery</td>\n",
              "      <td>4.984159e+06</td>\n",
              "    </tr>\n",
              "    <tr>\n",
              "      <th>25</th>\n",
              "      <td>time_to_acute_GvHD_III_IV</td>\n",
              "      <td>4.043804e+05</td>\n",
              "    </tr>\n",
              "    <tr>\n",
              "      <th>28</th>\n",
              "      <td>survival_time</td>\n",
              "      <td>7.765990e+04</td>\n",
              "    </tr>\n",
              "    <tr>\n",
              "      <th>6</th>\n",
              "      <td>recipient_body_mass</td>\n",
              "      <td>1.080801e+02</td>\n",
              "    </tr>\n",
              "    <tr>\n",
              "      <th>20</th>\n",
              "      <td>CD34_x1e6_per_kg</td>\n",
              "      <td>3.950118e+01</td>\n",
              "    </tr>\n",
              "    <tr>\n",
              "      <th>21</th>\n",
              "      <td>CD3_x1e8_per_kg</td>\n",
              "      <td>3.065978e+01</td>\n",
              "    </tr>\n",
              "    <tr>\n",
              "      <th>22</th>\n",
              "      <td>CD3_to_CD34_ratio</td>\n",
              "      <td>2.501059e+01</td>\n",
              "    </tr>\n",
              "    <tr>\n",
              "      <th>4</th>\n",
              "      <td>recipient_age</td>\n",
              "      <td>1.901997e+01</td>\n",
              "    </tr>\n",
              "    <tr>\n",
              "      <th>27</th>\n",
              "      <td>relapse</td>\n",
              "      <td>1.605953e+01</td>\n",
              "    </tr>\n",
              "  </tbody>\n",
              "</table>\n",
              "</div>\n",
              "      <button class=\"colab-df-convert\" onclick=\"convertToInteractive('df-72fc4f90-679f-4ad9-898a-42a9c6ba132f')\"\n",
              "              title=\"Convert this dataframe to an interactive table.\"\n",
              "              style=\"display:none;\">\n",
              "        \n",
              "  <svg xmlns=\"http://www.w3.org/2000/svg\" height=\"24px\"viewBox=\"0 0 24 24\"\n",
              "       width=\"24px\">\n",
              "    <path d=\"M0 0h24v24H0V0z\" fill=\"none\"/>\n",
              "    <path d=\"M18.56 5.44l.94 2.06.94-2.06 2.06-.94-2.06-.94-.94-2.06-.94 2.06-2.06.94zm-11 1L8.5 8.5l.94-2.06 2.06-.94-2.06-.94L8.5 2.5l-.94 2.06-2.06.94zm10 10l.94 2.06.94-2.06 2.06-.94-2.06-.94-.94-2.06-.94 2.06-2.06.94z\"/><path d=\"M17.41 7.96l-1.37-1.37c-.4-.4-.92-.59-1.43-.59-.52 0-1.04.2-1.43.59L10.3 9.45l-7.72 7.72c-.78.78-.78 2.05 0 2.83L4 21.41c.39.39.9.59 1.41.59.51 0 1.02-.2 1.41-.59l7.78-7.78 2.81-2.81c.8-.78.8-2.07 0-2.86zM5.41 20L4 18.59l7.72-7.72 1.47 1.35L5.41 20z\"/>\n",
              "  </svg>\n",
              "      </button>\n",
              "      \n",
              "  <style>\n",
              "    .colab-df-container {\n",
              "      display:flex;\n",
              "      flex-wrap:wrap;\n",
              "      gap: 12px;\n",
              "    }\n",
              "\n",
              "    .colab-df-convert {\n",
              "      background-color: #E8F0FE;\n",
              "      border: none;\n",
              "      border-radius: 50%;\n",
              "      cursor: pointer;\n",
              "      display: none;\n",
              "      fill: #1967D2;\n",
              "      height: 32px;\n",
              "      padding: 0 0 0 0;\n",
              "      width: 32px;\n",
              "    }\n",
              "\n",
              "    .colab-df-convert:hover {\n",
              "      background-color: #E2EBFA;\n",
              "      box-shadow: 0px 1px 2px rgba(60, 64, 67, 0.3), 0px 1px 3px 1px rgba(60, 64, 67, 0.15);\n",
              "      fill: #174EA6;\n",
              "    }\n",
              "\n",
              "    [theme=dark] .colab-df-convert {\n",
              "      background-color: #3B4455;\n",
              "      fill: #D2E3FC;\n",
              "    }\n",
              "\n",
              "    [theme=dark] .colab-df-convert:hover {\n",
              "      background-color: #434B5C;\n",
              "      box-shadow: 0px 1px 3px 1px rgba(0, 0, 0, 0.15);\n",
              "      filter: drop-shadow(0px 1px 2px rgba(0, 0, 0, 0.3));\n",
              "      fill: #FFFFFF;\n",
              "    }\n",
              "  </style>\n",
              "\n",
              "      <script>\n",
              "        const buttonEl =\n",
              "          document.querySelector('#df-72fc4f90-679f-4ad9-898a-42a9c6ba132f button.colab-df-convert');\n",
              "        buttonEl.style.display =\n",
              "          google.colab.kernel.accessAllowed ? 'block' : 'none';\n",
              "\n",
              "        async function convertToInteractive(key) {\n",
              "          const element = document.querySelector('#df-72fc4f90-679f-4ad9-898a-42a9c6ba132f');\n",
              "          const dataTable =\n",
              "            await google.colab.kernel.invokeFunction('convertToInteractive',\n",
              "                                                     [key], {});\n",
              "          if (!dataTable) return;\n",
              "\n",
              "          const docLinkHtml = 'Like what you see? Visit the ' +\n",
              "            '<a target=\"_blank\" href=https://colab.research.google.com/notebooks/data_table.ipynb>data table notebook</a>'\n",
              "            + ' to learn more about interactive tables.';\n",
              "          element.innerHTML = '';\n",
              "          dataTable['output_type'] = 'display_data';\n",
              "          await google.colab.output.renderOutput(dataTable, element);\n",
              "          const docLink = document.createElement('div');\n",
              "          docLink.innerHTML = docLinkHtml;\n",
              "          element.appendChild(docLink);\n",
              "        }\n",
              "      </script>\n",
              "    </div>\n",
              "  </div>\n",
              "  "
            ]
          },
          "metadata": {},
          "execution_count": 118
        }
      ]
    },
    {
      "cell_type": "code",
      "source": [
        "from sklearn.ensemble import ExtraTreesClassifier\n",
        "model = ExtraTreesClassifier()\n",
        "model.fit(X,y)"
      ],
      "metadata": {
        "colab": {
          "base_uri": "https://localhost:8080/"
        },
        "id": "7-9zZqGiGORR",
        "outputId": "d2d8205b-c67e-4638-efb6-d6ad56e16e10"
      },
      "execution_count": 120,
      "outputs": [
        {
          "output_type": "execute_result",
          "data": {
            "text/plain": [
              "ExtraTreesClassifier()"
            ]
          },
          "metadata": {},
          "execution_count": 120
        }
      ]
    },
    {
      "cell_type": "code",
      "source": [
        "print(model.feature_importances_)"
      ],
      "metadata": {
        "colab": {
          "base_uri": "https://localhost:8080/"
        },
        "id": "FZ6JRc8tHyn3",
        "outputId": "25411cee-0527-4111-abcb-43a6ad4ba98f"
      },
      "execution_count": 121,
      "outputs": [
        {
          "output_type": "stream",
          "name": "stdout",
          "text": [
            "[0.0230265  0.01290874 0.01925185 0.01509237 0.02517891 0.01608065\n",
            " 0.02910991 0.0175856  0.01710186 0.01658473 0.01717354 0.00748318\n",
            " 0.01456333 0.01862079 0.01328993 0.0151786  0.01703444 0.01836918\n",
            " 0.0131669  0.01377402 0.02286258 0.02620382 0.02042886 0.0279906\n",
            " 0.07323524 0.01843336 0.11956109 0.08760169 0.26310774]\n"
          ]
        }
      ]
    },
    {
      "cell_type": "code",
      "source": [
        "Feature_Importances = pd.Series(model.feature_importances_, index=X.columns)\n",
        "Feature_Importances.nlargest(10).plot(kind = 'barh')\n",
        "plt.show()"
      ],
      "metadata": {
        "colab": {
          "base_uri": "https://localhost:8080/",
          "height": 265
        },
        "id": "k2ox_mabIFzr",
        "outputId": "7a6e8a48-f01f-4628-a45a-8dfe046ba14c"
      },
      "execution_count": 122,
      "outputs": [
        {
          "output_type": "display_data",
          "data": {
            "text/plain": [
              "<Figure size 432x288 with 1 Axes>"
            ],
            "image/png": "[encoded data removed]"
          },
          "metadata": {
            "needs_background": "light"
          }
        }
      ]
    },
    {
      "cell_type": "code",
      "source": [
        "important_columns = Feature_Scores.nlargest(10,'Score')[0].values"
      ],
      "metadata": {
        "id": "T3YEuts7KAXY"
      },
      "execution_count": 126,
      "outputs": []
    },
    {
      "cell_type": "code",
      "source": [
        "X_new = data[important_columns]\n",
        "X_new.head()"
      ],
      "metadata": {
        "colab": {
          "base_uri": "https://localhost:8080/",
          "height": 268
        },
        "id": "bRHfMneSKSkk",
        "outputId": "6c1b6ea4-0ce7-45d9-a838-c0c04e13c27c"
      },
      "execution_count": 127,
      "outputs": [
        {
          "output_type": "execute_result",
          "data": {
            "text/plain": [
              "   PLT_recovery  ANC_recovery  time_to_acute_GvHD_III_IV  survival_time  \\\n",
              "0          51.0          19.0                       32.0          999.0   \n",
              "1          37.0          16.0                  1000000.0          163.0   \n",
              "2          20.0          23.0                  1000000.0          435.0   \n",
              "3          29.0          23.0                       19.0           53.0   \n",
              "4          14.0          14.0                  1000000.0         2043.0   \n",
              "\n",
              "   recipient_body_mass  CD34_x1e6_per_kg  CD3_x1e8_per_kg  CD3_to_CD34_ratio  \\\n",
              "0                 35.0              7.20             5.38           1.338760   \n",
              "1                 20.6              4.50             0.41          11.078295   \n",
              "2                 23.4              7.94             0.42          19.013230   \n",
              "3                 50.0              4.25             0.14          29.481647   \n",
              "4                  9.0             51.85            13.05           3.972255   \n",
              "\n",
              "   recipient_age  relapse  \n",
              "0            9.6        0  \n",
              "1            4.0        1  \n",
              "2            6.6        1  \n",
              "3           18.1        0  \n",
              "4            1.3        0  "
            ],
            "text/html": [
              "\n",
              "  <div id=\"df-a6ea40db-0c02-4f2d-9eb3-2e79b0b2c57f\">\n",
              "    <div class=\"colab-df-container\">\n",
              "      <div>\n",
              "<style scoped>\n",
              "    .dataframe tbody tr th:only-of-type {\n",
              "        vertical-align: middle;\n",
              "    }\n",
              "\n",
              "    .dataframe tbody tr th {\n",
              "        vertical-align: top;\n",
              "    }\n",
              "\n",
              "    .dataframe thead th {\n",
              "        text-align: right;\n",
              "    }\n",
              "</style>\n",
              "<table border=\"1\" class=\"dataframe\">\n",
              "  <thead>\n",
              "    <tr style=\"text-align: right;\">\n",
              "      <th></th>\n",
              "      <th>PLT_recovery</th>\n",
              "      <th>ANC_recovery</th>\n",
              "      <th>time_to_acute_GvHD_III_IV</th>\n",
              "      <th>survival_time</th>\n",
              "      <th>recipient_body_mass</th>\n",
              "      <th>CD34_x1e6_per_kg</th>\n",
              "      <th>CD3_x1e8_per_kg</th>\n",
              "      <th>CD3_to_CD34_ratio</th>\n",
              "      <th>recipient_age</th>\n",
              "      <th>relapse</th>\n",
              "    </tr>\n",
              "  </thead>\n",
              "  <tbody>\n",
              "    <tr>\n",
              "      <th>0</th>\n",
              "      <td>51.0</td>\n",
              "      <td>19.0</td>\n",
              "      <td>32.0</td>\n",
              "      <td>999.0</td>\n",
              "      <td>35.0</td>\n",
              "      <td>7.20</td>\n",
              "      <td>5.38</td>\n",
              "      <td>1.338760</td>\n",
              "      <td>9.6</td>\n",
              "      <td>0</td>\n",
              "    </tr>\n",
              "    <tr>\n",
              "      <th>1</th>\n",
              "      <td>37.0</td>\n",
              "      <td>16.0</td>\n",
              "      <td>1000000.0</td>\n",
              "      <td>163.0</td>\n",
              "      <td>20.6</td>\n",
              "      <td>4.50</td>\n",
              "      <td>0.41</td>\n",
              "      <td>11.078295</td>\n",
              "      <td>4.0</td>\n",
              "      <td>1</td>\n",
              "    </tr>\n",
              "    <tr>\n",
              "      <th>2</th>\n",
              "      <td>20.0</td>\n",
              "      <td>23.0</td>\n",
              "      <td>1000000.0</td>\n",
              "      <td>435.0</td>\n",
              "      <td>23.4</td>\n",
              "      <td>7.94</td>\n",
              "      <td>0.42</td>\n",
              "      <td>19.013230</td>\n",
              "      <td>6.6</td>\n",
              "      <td>1</td>\n",
              "    </tr>\n",
              "    <tr>\n",
              "      <th>3</th>\n",
              "      <td>29.0</td>\n",
              "      <td>23.0</td>\n",
              "      <td>19.0</td>\n",
              "      <td>53.0</td>\n",
              "      <td>50.0</td>\n",
              "      <td>4.25</td>\n",
              "      <td>0.14</td>\n",
              "      <td>29.481647</td>\n",
              "      <td>18.1</td>\n",
              "      <td>0</td>\n",
              "    </tr>\n",
              "    <tr>\n",
              "      <th>4</th>\n",
              "      <td>14.0</td>\n",
              "      <td>14.0</td>\n",
              "      <td>1000000.0</td>\n",
              "      <td>2043.0</td>\n",
              "      <td>9.0</td>\n",
              "      <td>51.85</td>\n",
              "      <td>13.05</td>\n",
              "      <td>3.972255</td>\n",
              "      <td>1.3</td>\n",
              "      <td>0</td>\n",
              "    </tr>\n",
              "  </tbody>\n",
              "</table>\n",
              "</div>\n",
              "      <button class=\"colab-df-convert\" onclick=\"convertToInteractive('df-a6ea40db-0c02-4f2d-9eb3-2e79b0b2c57f')\"\n",
              "              title=\"Convert this dataframe to an interactive table.\"\n",
              "              style=\"display:none;\">\n",
              "        \n",
              "  <svg xmlns=\"http://www.w3.org/2000/svg\" height=\"24px\"viewBox=\"0 0 24 24\"\n",
              "       width=\"24px\">\n",
              "    <path d=\"M0 0h24v24H0V0z\" fill=\"none\"/>\n",
              "    <path d=\"M18.56 5.44l.94 2.06.94-2.06 2.06-.94-2.06-.94-.94-2.06-.94 2.06-2.06.94zm-11 1L8.5 8.5l.94-2.06 2.06-.94-2.06-.94L8.5 2.5l-.94 2.06-2.06.94zm10 10l.94 2.06.94-2.06 2.06-.94-2.06-.94-.94-2.06-.94 2.06-2.06.94z\"/><path d=\"M17.41 7.96l-1.37-1.37c-.4-.4-.92-.59-1.43-.59-.52 0-1.04.2-1.43.59L10.3 9.45l-7.72 7.72c-.78.78-.78 2.05 0 2.83L4 21.41c.39.39.9.59 1.41.59.51 0 1.02-.2 1.41-.59l7.78-7.78 2.81-2.81c.8-.78.8-2.07 0-2.86zM5.41 20L4 18.59l7.72-7.72 1.47 1.35L5.41 20z\"/>\n",
              "  </svg>\n",
              "      </button>\n",
              "      \n",
              "  <style>\n",
              "    .colab-df-container {\n",
              "      display:flex;\n",
              "      flex-wrap:wrap;\n",
              "      gap: 12px;\n",
              "    }\n",
              "\n",
              "    .colab-df-convert {\n",
              "      background-color: #E8F0FE;\n",
              "      border: none;\n",
              "      border-radius: 50%;\n",
              "      cursor: pointer;\n",
              "      display: none;\n",
              "      fill: #1967D2;\n",
              "      height: 32px;\n",
              "      padding: 0 0 0 0;\n",
              "      width: 32px;\n",
              "    }\n",
              "\n",
              "    .colab-df-convert:hover {\n",
              "      background-color: #E2EBFA;\n",
              "      box-shadow: 0px 1px 2px rgba(60, 64, 67, 0.3), 0px 1px 3px 1px rgba(60, 64, 67, 0.15);\n",
              "      fill: #174EA6;\n",
              "    }\n",
              "\n",
              "    [theme=dark] .colab-df-convert {\n",
              "      background-color: #3B4455;\n",
              "      fill: #D2E3FC;\n",
              "    }\n",
              "\n",
              "    [theme=dark] .colab-df-convert:hover {\n",
              "      background-color: #434B5C;\n",
              "      box-shadow: 0px 1px 3px 1px rgba(0, 0, 0, 0.15);\n",
              "      filter: drop-shadow(0px 1px 2px rgba(0, 0, 0, 0.3));\n",
              "      fill: #FFFFFF;\n",
              "    }\n",
              "  </style>\n",
              "\n",
              "      <script>\n",
              "        const buttonEl =\n",
              "          document.querySelector('#df-a6ea40db-0c02-4f2d-9eb3-2e79b0b2c57f button.colab-df-convert');\n",
              "        buttonEl.style.display =\n",
              "          google.colab.kernel.accessAllowed ? 'block' : 'none';\n",
              "\n",
              "        async function convertToInteractive(key) {\n",
              "          const element = document.querySelector('#df-a6ea40db-0c02-4f2d-9eb3-2e79b0b2c57f');\n",
              "          const dataTable =\n",
              "            await google.colab.kernel.invokeFunction('convertToInteractive',\n",
              "                                                     [key], {});\n",
              "          if (!dataTable) return;\n",
              "\n",
              "          const docLinkHtml = 'Like what you see? Visit the ' +\n",
              "            '<a target=\"_blank\" href=https://colab.research.google.com/notebooks/data_table.ipynb>data table notebook</a>'\n",
              "            + ' to learn more about interactive tables.';\n",
              "          element.innerHTML = '';\n",
              "          dataTable['output_type'] = 'display_data';\n",
              "          await google.colab.output.renderOutput(dataTable, element);\n",
              "          const docLink = document.createElement('div');\n",
              "          docLink.innerHTML = docLinkHtml;\n",
              "          element.appendChild(docLink);\n",
              "        }\n",
              "      </script>\n",
              "    </div>\n",
              "  </div>\n",
              "  "
            ]
          },
          "metadata": {},
          "execution_count": 127
        }
      ]
    },
    {
      "cell_type": "markdown",
      "source": [
        "Split into Test and Train"
      ],
      "metadata": {
        "id": "ExMKMiaGVJ_h"
      }
    },
    {
      "cell_type": "code",
      "source": [
        "from sklearn.model_selection import train_test_split"
      ],
      "metadata": {
        "id": "CFpMLTn_Ip_1"
      },
      "execution_count": 128,
      "outputs": []
    },
    {
      "cell_type": "code",
      "source": [
        "X_train,X_test, y_train,y_test =  train_test_split(X_new,y,test_size=0.25,random_state=109)"
      ],
      "metadata": {
        "id": "ohE1v_EHJcTH"
      },
      "execution_count": 138,
      "outputs": []
    },
    {
      "cell_type": "code",
      "source": [
        "X_new.shape, y.shape"
      ],
      "metadata": {
        "colab": {
          "base_uri": "https://localhost:8080/"
        },
        "id": "Wp6VUNLqQvfN",
        "outputId": "7ca7e64d-cb2c-4fd2-b6c9-8a6686f29093"
      },
      "execution_count": 139,
      "outputs": [
        {
          "output_type": "execute_result",
          "data": {
            "text/plain": [
              "((182, 10), (182,))"
            ]
          },
          "metadata": {},
          "execution_count": 139
        }
      ]
    },
    {
      "cell_type": "code",
      "source": [
        "X_new.iloc[181]"
      ],
      "metadata": {
        "colab": {
          "base_uri": "https://localhost:8080/"
        },
        "id": "ejzvvr36QvXj",
        "outputId": "8ea48612-569d-4978-e737-50abde484f93"
      },
      "execution_count": 159,
      "outputs": [
        {
          "output_type": "execute_result",
          "data": {
            "text/plain": [
              "PLT_recovery                      20.000000\n",
              "ANC_recovery                      18.000000\n",
              "time_to_acute_GvHD_III_IV    1000000.000000\n",
              "survival_time                   1109.000000\n",
              "recipient_body_mass               37.000000\n",
              "CD34_x1e6_per_kg                   9.910000\n",
              "CD3_x1e8_per_kg                   10.450000\n",
              "CD3_to_CD34_ratio                  0.948135\n",
              "recipient_age                      9.500000\n",
              "relapse                            0.000000\n",
              "Name: 186, dtype: float64"
            ]
          },
          "metadata": {},
          "execution_count": 159
        }
      ]
    },
    {
      "cell_type": "markdown",
      "source": [
        "Fit and Model Training"
      ],
      "metadata": {
        "id": "-eF8nZLoVPYm"
      }
    },
    {
      "cell_type": "code",
      "source": [
        "import sklearn.ensemble as skle"
      ],
      "metadata": {
        "id": "fiVmRrecVU0x"
      },
      "execution_count": 165,
      "outputs": []
    },
    {
      "cell_type": "markdown",
      "source": [
        "creating and fitting the model"
      ],
      "metadata": {
        "id": "EOuENVhuVtyD"
      }
    },
    {
      "cell_type": "code",
      "source": [
        "rfc = skle.RandomForestClassifier()\n",
        "rfc.fit(X_train, y_train)"
      ],
      "metadata": {
        "colab": {
          "base_uri": "https://localhost:8080/"
        },
        "id": "FEowOBrPVUvc",
        "outputId": "3c52ebb7-0624-446d-ff4a-0081a4196890"
      },
      "execution_count": 167,
      "outputs": [
        {
          "output_type": "execute_result",
          "data": {
            "text/plain": [
              "RandomForestClassifier()"
            ]
          },
          "metadata": {},
          "execution_count": 167
        }
      ]
    },
    {
      "cell_type": "code",
      "source": [
        "from sklearn.model_selection import StratifiedKFold"
      ],
      "metadata": {
        "id": "Mm1EmSFfTUMe"
      },
      "execution_count": 168,
      "outputs": []
    },
    {
      "cell_type": "code",
      "source": [
        "from sklearn.metrics import accuracy_score\n",
        "accuracy=[]\n",
        "skf = StratifiedKFold(n_splits=10, random_state=None)\n",
        "skf.get_n_splits(X_new,y)\n",
        "\n",
        "for train_index, test_index in skf.split(X_new,y):\n",
        "  print(\"Train:\", train_index, \"Validation:\", test_index)\n",
        "  X1_train, X1_test = X_new.iloc[train_index], X_new.iloc[test_index]\n",
        "  y1_train, y1_test = y.iloc[train_index], y.iloc[test_index]\n",
        "  \n",
        "  rfc.fit(X1_train,y1_train)\n",
        "  prediction=rfc.predict(X1_test)\n",
        "  score = accuracy_score(prediction,y1_test)\n",
        "  accuracy.append(score)\n",
        "\n",
        "  print(accuracy)\n"
      ],
      "metadata": {
        "colab": {
          "base_uri": "https://localhost:8080/"
        },
        "id": "iIwSHV5_M0h_",
        "outputId": "de8c4294-62ea-4d3e-c8a0-fcacafcdab76"
      },
      "execution_count": 169,
      "outputs": [
        {
          "output_type": "stream",
          "name": "stdout",
          "text": [
            "Train: [ 17  18  21  22  23  24  25  26  27  28  29  30  31  32  33  34  35  36\n",
            "  37  38  39  40  41  42  43  44  45  46  47  48  49  50  51  52  53  54\n",
            "  55  56  57  58  59  60  61  62  63  64  65  66  67  68  69  70  71  72\n",
            "  73  74  75  76  77  78  79  80  81  82  83  84  85  86  87  88  89  90\n",
            "  91  92  93  94  95  96  97  98  99 100 101 102 103 104 105 106 107 108\n",
            " 109 110 111 112 113 114 115 116 117 118 119 120 121 122 123 124 125 126\n",
            " 127 128 129 130 131 132 133 134 135 136 137 138 139 140 141 142 143 144\n",
            " 145 146 147 148 149 150 151 152 153 154 155 156 157 158 159 160 161 162\n",
            " 163 164 165 166 167 168 169 170 171 172 173 174 175 176 177 178 179 180\n",
            " 181] Validation: [ 0  1  2  3  4  5  6  7  8  9 10 11 12 13 14 15 16 19 20]\n",
            "[1.0]\n",
            "Train: [  0   1   2   3   4   5   6   7   8   9  10  11  12  13  14  15  16  19\n",
            "  20  33  37  38  39  41  43  44  45  46  47  48  49  50  51  52  53  54\n",
            "  55  56  57  58  59  60  61  62  63  64  65  66  67  68  69  70  71  72\n",
            "  73  74  75  76  77  78  79  80  81  82  83  84  85  86  87  88  89  90\n",
            "  91  92  93  94  95  96  97  98  99 100 101 102 103 104 105 106 107 108\n",
            " 109 110 111 112 113 114 115 116 117 118 119 120 121 122 123 124 125 126\n",
            " 127 128 129 130 131 132 133 134 135 136 137 138 139 140 141 142 143 144\n",
            " 145 146 147 148 149 150 151 152 153 154 155 156 157 158 159 160 161 162\n",
            " 163 164 165 166 167 168 169 170 171 172 173 174 175 176 177 178 179 180\n",
            " 181] Validation: [17 18 21 22 23 24 25 26 27 28 29 30 31 32 34 35 36 40 42]\n",
            "[1.0, 1.0]\n",
            "Train: [  0   1   2   3   4   5   6   7   8   9  10  11  12  13  14  15  16  17\n",
            "  18  19  20  21  22  23  24  25  26  27  28  29  30  31  32  34  35  36\n",
            "  40  42  49  50  51  52  53  54  55  58  61  63  66  67  68  69  70  71\n",
            "  72  73  74  75  76  77  78  79  80  81  82  83  84  85  86  87  88  89\n",
            "  90  91  92  93  94  95  96  97  98  99 100 101 102 103 104 105 106 107\n",
            " 108 109 110 111 112 113 114 115 116 117 118 119 120 121 122 123 124 125\n",
            " 126 127 128 129 130 131 132 133 134 135 136 137 138 139 140 141 142 143\n",
            " 144 145 146 147 148 149 150 151 152 153 154 155 156 157 158 159 160 161\n",
            " 162 163 164 165 166 167 168 169 170 171 172 173 174 175 176 177 178 179\n",
            " 180 181] Validation: [33 37 38 39 41 43 44 45 46 47 48 56 57 59 60 62 64 65]\n",
            "[1.0, 1.0, 1.0]\n",
            "Train: [  0   1   2   3   4   5   6   7   8   9  10  11  12  13  14  15  16  17\n",
            "  18  19  20  21  22  23  24  25  26  27  28  29  30  31  32  33  34  35\n",
            "  36  37  38  39  40  41  42  43  44  45  46  47  48  56  57  59  60  62\n",
            "  64  65  68  69  70  71  73  77  80  81  82  83  84  85  86  87  88  89\n",
            "  90  91  92  93  94  95  96  97  98  99 100 101 102 103 104 105 106 107\n",
            " 108 109 110 111 112 113 114 115 116 117 118 119 120 121 122 123 124 125\n",
            " 126 127 128 129 130 131 132 133 134 135 136 137 138 139 140 141 142 143\n",
            " 144 145 146 147 148 149 150 151 152 153 154 155 156 157 158 159 160 161\n",
            " 162 163 164 165 166 167 168 169 170 171 172 173 174 175 176 177 178 179\n",
            " 180 181] Validation: [49 50 51 52 53 54 55 58 61 63 66 67 72 74 75 76 78 79]\n",
            "[1.0, 1.0, 1.0, 0.8888888888888888]\n",
            "Train: [  0   1   2   3   4   5   6   7   8   9  10  11  12  13  14  15  16  17\n",
            "  18  19  20  21  22  23  24  25  26  27  28  29  30  31  32  33  34  35\n",
            "  36  37  38  39  40  41  42  43  44  45  46  47  48  49  50  51  52  53\n",
            "  54  55  56  57  58  59  60  61  62  63  64  65  66  67  72  74  75  76\n",
            "  78  79  91  92  94  95  96  97  98  99 100 101 102 103 104 105 106 107\n",
            " 108 109 110 111 112 113 114 115 116 117 118 119 120 121 122 123 124 125\n",
            " 126 127 128 129 130 131 132 133 134 135 136 137 138 139 140 141 142 143\n",
            " 144 145 146 147 148 149 150 151 152 153 154 155 156 157 158 159 160 161\n",
            " 162 163 164 165 166 167 168 169 170 171 172 173 174 175 176 177 178 179\n",
            " 180 181] Validation: [68 69 70 71 73 77 80 81 82 83 84 85 86 87 88 89 90 93]\n",
            "[1.0, 1.0, 1.0, 0.8888888888888888, 0.8888888888888888]\n",
            "Train: [  0   1   2   3   4   5   6   7   8   9  10  11  12  13  14  15  16  17\n",
            "  18  19  20  21  22  23  24  25  26  27  28  29  30  31  32  33  34  35\n",
            "  36  37  38  39  40  41  42  43  44  45  46  47  48  49  50  51  52  53\n",
            "  54  55  56  57  58  59  60  61  62  63  64  65  66  67  68  69  70  71\n",
            "  72  73  74  75  76  77  78  79  80  81  82  83  84  85  86  87  88  89\n",
            "  90  93 110 111 112 113 114 115 116 117 118 119 120 121 122 123 124 125\n",
            " 126 127 128 129 130 131 132 133 134 135 136 137 138 139 140 141 142 143\n",
            " 144 145 146 147 148 149 150 151 152 153 154 155 156 157 158 159 160 161\n",
            " 162 163 164 165 166 167 168 169 170 171 172 173 174 175 176 177 178 179\n",
            " 180 181] Validation: [ 91  92  94  95  96  97  98  99 100 101 102 103 104 105 106 107 108 109]\n",
            "[1.0, 1.0, 1.0, 0.8888888888888888, 0.8888888888888888, 0.8888888888888888]\n",
            "Train: [  0   1   2   3   4   5   6   7   8   9  10  11  12  13  14  15  16  17\n",
            "  18  19  20  21  22  23  24  25  26  27  28  29  30  31  32  33  34  35\n",
            "  36  37  38  39  40  41  42  43  44  45  46  47  48  49  50  51  52  53\n",
            "  54  55  56  57  58  59  60  61  62  63  64  65  66  67  68  69  70  71\n",
            "  72  73  74  75  76  77  78  79  80  81  82  83  84  85  86  87  88  89\n",
            "  90  91  92  93  94  95  96  97  98  99 100 101 102 103 104 105 106 107\n",
            " 108 109 128 129 130 131 132 133 134 135 136 137 138 139 140 141 142 143\n",
            " 144 145 146 147 148 149 150 151 152 153 154 155 156 157 158 159 160 161\n",
            " 162 163 164 165 166 167 168 169 170 171 172 173 174 175 176 177 178 179\n",
            " 180 181] Validation: [110 111 112 113 114 115 116 117 118 119 120 121 122 123 124 125 126 127]\n",
            "[1.0, 1.0, 1.0, 0.8888888888888888, 0.8888888888888888, 0.8888888888888888, 0.9444444444444444]\n",
            "Train: [  0   1   2   3   4   5   6   7   8   9  10  11  12  13  14  15  16  17\n",
            "  18  19  20  21  22  23  24  25  26  27  28  29  30  31  32  33  34  35\n",
            "  36  37  38  39  40  41  42  43  44  45  46  47  48  49  50  51  52  53\n",
            "  54  55  56  57  58  59  60  61  62  63  64  65  66  67  68  69  70  71\n",
            "  72  73  74  75  76  77  78  79  80  81  82  83  84  85  86  87  88  89\n",
            "  90  91  92  93  94  95  96  97  98  99 100 101 102 103 104 105 106 107\n",
            " 108 109 110 111 112 113 114 115 116 117 118 119 120 121 122 123 124 125\n",
            " 126 127 145 147 148 149 150 151 152 153 154 155 156 157 158 159 160 161\n",
            " 162 163 164 165 166 167 168 169 170 171 172 173 174 175 176 177 178 179\n",
            " 180 181] Validation: [128 129 130 131 132 133 134 135 136 137 138 139 140 141 142 143 144 146]\n",
            "[1.0, 1.0, 1.0, 0.8888888888888888, 0.8888888888888888, 0.8888888888888888, 0.9444444444444444, 0.8888888888888888]\n",
            "Train: [  0   1   2   3   4   5   6   7   8   9  10  11  12  13  14  15  16  17\n",
            "  18  19  20  21  22  23  24  25  26  27  28  29  30  31  32  33  34  35\n",
            "  36  37  38  39  40  41  42  43  44  45  46  47  48  49  50  51  52  53\n",
            "  54  55  56  57  58  59  60  61  62  63  64  65  66  67  68  69  70  71\n",
            "  72  73  74  75  76  77  78  79  80  81  82  83  84  85  86  87  88  89\n",
            "  90  91  92  93  94  95  96  97  98  99 100 101 102 103 104 105 106 107\n",
            " 108 109 110 111 112 113 114 115 116 117 118 119 120 121 122 123 124 125\n",
            " 126 127 128 129 130 131 132 133 134 135 136 137 138 139 140 141 142 143\n",
            " 144 146 163 165 166 167 168 169 170 171 172 173 174 175 176 177 178 179\n",
            " 180 181] Validation: [145 147 148 149 150 151 152 153 154 155 156 157 158 159 160 161 162 164]\n",
            "[1.0, 1.0, 1.0, 0.8888888888888888, 0.8888888888888888, 0.8888888888888888, 0.9444444444444444, 0.8888888888888888, 1.0]\n",
            "Train: [  0   1   2   3   4   5   6   7   8   9  10  11  12  13  14  15  16  17\n",
            "  18  19  20  21  22  23  24  25  26  27  28  29  30  31  32  33  34  35\n",
            "  36  37  38  39  40  41  42  43  44  45  46  47  48  49  50  51  52  53\n",
            "  54  55  56  57  58  59  60  61  62  63  64  65  66  67  68  69  70  71\n",
            "  72  73  74  75  76  77  78  79  80  81  82  83  84  85  86  87  88  89\n",
            "  90  91  92  93  94  95  96  97  98  99 100 101 102 103 104 105 106 107\n",
            " 108 109 110 111 112 113 114 115 116 117 118 119 120 121 122 123 124 125\n",
            " 126 127 128 129 130 131 132 133 134 135 136 137 138 139 140 141 142 143\n",
            " 144 145 146 147 148 149 150 151 152 153 154 155 156 157 158 159 160 161\n",
            " 162 164] Validation: [163 165 166 167 168 169 170 171 172 173 174 175 176 177 178 179 180 181]\n",
            "[1.0, 1.0, 1.0, 0.8888888888888888, 0.8888888888888888, 0.8888888888888888, 0.9444444444444444, 0.8888888888888888, 1.0, 0.8888888888888888]\n"
          ]
        }
      ]
    },
    {
      "cell_type": "code",
      "source": [
        "np.array(accuracy).mean()"
      ],
      "metadata": {
        "colab": {
          "base_uri": "https://localhost:8080/"
        },
        "id": "oKL9Yku4W5vf",
        "outputId": "9d77dd89-3fd0-4f5d-81dc-4e5e73a26581"
      },
      "execution_count": 172,
      "outputs": [
        {
          "output_type": "execute_result",
          "data": {
            "text/plain": [
              "0.9388888888888889"
            ]
          },
          "metadata": {},
          "execution_count": 172
        }
      ]
    },
    {
      "cell_type": "code",
      "source": [
        "from sklearn.model_selection import GridSearchCV\n",
        "from sklearn.preprocessing import StandardScaler\n",
        "from sklearn.ensemble import RandomForestClassifier"
      ],
      "metadata": {
        "id": "swCYxEJaXWcZ"
      },
      "execution_count": 180,
      "outputs": []
    },
    {
      "cell_type": "markdown",
      "source": [
        "Feature Scaling"
      ],
      "metadata": {
        "id": "9jAYDIailLHX"
      }
    },
    {
      "cell_type": "code",
      "source": [
        "sc = StandardScaler()\n",
        "X_train = sc.fit_transform(X1_train)\n",
        "y_train = sc.fit_transform(X1_test)"
      ],
      "metadata": {
        "id": "5yHS2PSSlKIm"
      },
      "execution_count": 201,
      "outputs": []
    },
    {
      "cell_type": "code",
      "source": [
        "print(f'X1_train :{X1_train.shape}')\n",
        "print(f'y1_train :{y1_train.shape}')\n",
        "print(f'X1_test :{X1_test.shape}')\n",
        "print(f'y1_test :{y1_test.shape}')"
      ],
      "metadata": {
        "colab": {
          "base_uri": "https://localhost:8080/"
        },
        "id": "bkcEJcZmjAmq",
        "outputId": "32cb4552-ae49-451a-e81c-4ed3702b7e24"
      },
      "execution_count": 215,
      "outputs": [
        {
          "output_type": "stream",
          "name": "stdout",
          "text": [
            "X1_train :(164, 10)\n",
            "y1_train :(164,)\n",
            "X1_test :(18, 10)\n",
            "y1_test :(18,)\n"
          ]
        }
      ]
    },
    {
      "cell_type": "code",
      "source": [
        "n_estimators = [int(x) for x in np.linspace(start=10, stop=80, num=10)]\n",
        "max_features = ['auto', 'sqrt']\n",
        "max_depth = [2,4]\n",
        "min_samples_split = [2,5]\n",
        "min_samples_leaf = [1,2]\n",
        "bootstrap = [True, False]"
      ],
      "metadata": {
        "id": "mYtyBVU1oHNl"
      },
      "execution_count": 216,
      "outputs": []
    },
    {
      "cell_type": "code",
      "source": [
        "param_grid = {\n",
        "    'n_estimators':n_estimators,\n",
        "    'max_features':max_features,\n",
        "    'max_depth': max_depth,\n",
        "    'min_samples_split': min_samples_split,\n",
        "    'min_samples_leaf': min_samples_leaf,\n",
        "    'bootstrap': bootstrap}\n",
        "print(param_grid)"
      ],
      "metadata": {
        "colab": {
          "base_uri": "https://localhost:8080/"
        },
        "id": "QLAZLo0PprlO",
        "outputId": "9085c42e-7bc4-45aa-fd1f-ffacf8c18366"
      },
      "execution_count": 217,
      "outputs": [
        {
          "output_type": "stream",
          "name": "stdout",
          "text": [
            "{'n_estimators': [10, 17, 25, 33, 41, 48, 56, 64, 72, 80], 'max_features': ['auto', 'sqrt'], 'max_depth': [2, 4], 'min_samples_split': [2, 5], 'min_samples_leaf': [1, 2], 'bootstrap': [True, False]}\n"
          ]
        }
      ]
    },
    {
      "cell_type": "code",
      "source": [
        "rfc_grid = GridSearchCV(estimator= rfc, param_grid= param_grid, cv = 3, verbose = 2, n_jobs=4)"
      ],
      "metadata": {
        "id": "Yhzy3BsaqeF9"
      },
      "execution_count": 218,
      "outputs": []
    },
    {
      "cell_type": "code",
      "source": [
        "rfc_grid.fit(X1_train,y1_train)"
      ],
      "metadata": {
        "colab": {
          "base_uri": "https://localhost:8080/"
        },
        "id": "Kq8kdLE0raR4",
        "outputId": "258d6e4c-df80-4057-9d40-58fbf922ed58"
      },
      "execution_count": 219,
      "outputs": [
        {
          "output_type": "stream",
          "name": "stdout",
          "text": [
            "Fitting 3 folds for each of 320 candidates, totalling 960 fits\n"
          ]
        },
        {
          "output_type": "execute_result",
          "data": {
            "text/plain": [
              "GridSearchCV(cv=3, estimator=RandomForestClassifier(), n_jobs=4,\n",
              "             param_grid={'bootstrap': [True, False], 'max_depth': [2, 4],\n",
              "                         'max_features': ['auto', 'sqrt'],\n",
              "                         'min_samples_leaf': [1, 2],\n",
              "                         'min_samples_split': [2, 5],\n",
              "                         'n_estimators': [10, 17, 25, 33, 41, 48, 56, 64, 72,\n",
              "                                          80]},\n",
              "             verbose=2)"
            ]
          },
          "metadata": {},
          "execution_count": 219
        }
      ]
    },
    {
      "cell_type": "code",
      "source": [
        "rfc_grid.best_params_"
      ],
      "metadata": {
        "colab": {
          "base_uri": "https://localhost:8080/"
        },
        "id": "2SY_wVDTriKJ",
        "outputId": "c2e9ae89-c521-407f-a2a5-e2627cf4d36e"
      },
      "execution_count": 220,
      "outputs": [
        {
          "output_type": "execute_result",
          "data": {
            "text/plain": [
              "{'bootstrap': True,\n",
              " 'max_depth': 2,\n",
              " 'max_features': 'auto',\n",
              " 'min_samples_leaf': 2,\n",
              " 'min_samples_split': 5,\n",
              " 'n_estimators': 25}"
            ]
          },
          "metadata": {},
          "execution_count": 220
        }
      ]
    },
    {
      "cell_type": "code",
      "source": [
        "print(f'Train Accuracy - : {rfc_grid.score(X1_train,y1_train):.3f}')\n",
        "print(f'Test Accuracy - : {rfc_grid.score(X1_test,y1_test):.3f}')\n"
      ],
      "metadata": {
        "colab": {
          "base_uri": "https://localhost:8080/"
        },
        "id": "kYvHVTZTsPKq",
        "outputId": "49412d6d-bff7-4911-aea1-f895a06cbea9"
      },
      "execution_count": 221,
      "outputs": [
        {
          "output_type": "stream",
          "name": "stdout",
          "text": [
            "Train Accuracy - : 0.951\n",
            "Test Accuracy - : 0.889\n"
          ]
        }
      ]
    },
    {
      "cell_type": "markdown",
      "source": [
        "Fittinmg SVM to training set"
      ],
      "metadata": {
        "id": "Q57_AbhLvA5L"
      }
    },
    {
      "cell_type": "code",
      "source": [
        "from sklearn.svm import SVC"
      ],
      "metadata": {
        "id": "1bkjoEWWtU3Z"
      },
      "execution_count": 222,
      "outputs": []
    },
    {
      "cell_type": "code",
      "source": [
        "X_train, X_test, y_train, y_test = train_test_split(X, y, test_size = 0.25, random_state = 5)"
      ],
      "metadata": {
        "id": "axsLTL720rSJ"
      },
      "execution_count": 232,
      "outputs": []
    },
    {
      "cell_type": "code",
      "source": [
        "from sklearn.preprocessing import StandardScaler\n",
        "sc = StandardScaler()\n",
        "X_train = sc.fit_transform(X_train)\n",
        "X_test = sc.transform(X_test)"
      ],
      "metadata": {
        "id": "fEQmRV9701uS"
      },
      "execution_count": 233,
      "outputs": []
    },
    {
      "cell_type": "code",
      "source": [
        "Classifier = SVC(kernel = 'linear', random_state = 0)\n",
        "Classifier.fit(X_train,y_train)"
      ],
      "metadata": {
        "colab": {
          "base_uri": "https://localhost:8080/"
        },
        "id": "H4WHKq4jvk0m",
        "outputId": "8e09e1b8-dc34-4d0d-9a67-a21d541b1445"
      },
      "execution_count": 234,
      "outputs": [
        {
          "output_type": "execute_result",
          "data": {
            "text/plain": [
              "SVC(kernel='linear', random_state=0)"
            ]
          },
          "metadata": {},
          "execution_count": 234
        }
      ]
    },
    {
      "cell_type": "code",
      "source": [
        "Y_prediction = Classifier.predict(X_test)"
      ],
      "metadata": {
        "id": "-R3Fn0NtvxcZ"
      },
      "execution_count": 236,
      "outputs": []
    },
    {
      "cell_type": "markdown",
      "source": [
        "Confusion Matrix\n"
      ],
      "metadata": {
        "id": "A4SBQPyow9mJ"
      }
    },
    {
      "cell_type": "code",
      "source": [
        "from sklearn.metrics import confusion_matrix"
      ],
      "metadata": {
        "id": "W0qBAW3uwtx1"
      },
      "execution_count": 237,
      "outputs": []
    },
    {
      "cell_type": "code",
      "source": [
        "CM = confusion_matrix(y_test, Y_prediction)"
      ],
      "metadata": {
        "id": "nwWGT0PIxGdk"
      },
      "execution_count": 239,
      "outputs": []
    },
    {
      "cell_type": "code",
      "source": [
        "accuracy = accuracy_score(y_test, Y_prediction)"
      ],
      "metadata": {
        "id": "rW0RCLgUxRdD"
      },
      "execution_count": 240,
      "outputs": []
    },
    {
      "cell_type": "code",
      "source": [
        "accuracy"
      ],
      "metadata": {
        "colab": {
          "base_uri": "https://localhost:8080/"
        },
        "id": "XnlGJY1VxbIl",
        "outputId": "c3c44602-5752-48be-be2e-4e03b17034d9"
      },
      "execution_count": 241,
      "outputs": [
        {
          "output_type": "execute_result",
          "data": {
            "text/plain": [
              "0.9565217391304348"
            ]
          },
          "metadata": {},
          "execution_count": 241
        }
      ]
    },
    {
      "cell_type": "code",
      "source": [
        "# Applying Grid Search to find the best model and the best parameters\n",
        "from sklearn.model_selection import GridSearchCV\n",
        "parameters = [{'C': [1, 10, 100, 1000], 'kernel': ['linear']},\n",
        "              {'C': [1, 10, 100, 1000], 'kernel': ['rbf'], 'gamma': [0.1, 0.2, 0.3, 0.4, 0.5, 0.6, 0.7, 0.8, 0.9]}]\n",
        "grid_search = GridSearchCV(estimator = Classifier,\n",
        "                           param_grid = parameters,\n",
        "                           scoring = 'accuracy',\n",
        "                           cv = 10,\n",
        "                           n_jobs = -1)\n",
        "grid_search = grid_search.fit(X_train, y_train)"
      ],
      "metadata": {
        "id": "tME-Aj8Qx1qd"
      },
      "execution_count": 243,
      "outputs": []
    },
    {
      "cell_type": "code",
      "source": [
        "accuracy = grid_search.best_score_"
      ],
      "metadata": {
        "id": "YUmkN5Ocz_X8"
      },
      "execution_count": 244,
      "outputs": []
    },
    {
      "cell_type": "code",
      "source": [
        "accuracy"
      ],
      "metadata": {
        "colab": {
          "base_uri": "https://localhost:8080/"
        },
        "id": "HkgruB051ZqX",
        "outputId": "75bfd4e0-e0e6-427f-d1bc-3cdffd1f7b72"
      },
      "execution_count": 245,
      "outputs": [
        {
          "output_type": "execute_result",
          "data": {
            "text/plain": [
              "0.9208791208791208"
            ]
          },
          "metadata": {},
          "execution_count": 245
        }
      ]
    },
    {
      "cell_type": "code",
      "source": [
        "grid_search.best_params_"
      ],
      "metadata": {
        "colab": {
          "base_uri": "https://localhost:8080/"
        },
        "id": "Zs086D2Z1agx",
        "outputId": "8561b027-ae45-4bef-b9c4-bf95f9320dd1"
      },
      "execution_count": 246,
      "outputs": [
        {
          "output_type": "execute_result",
          "data": {
            "text/plain": [
              "{'C': 1, 'kernel': 'linear'}"
            ]
          },
          "metadata": {},
          "execution_count": 246
        }
      ]
    },
    {
      "cell_type": "code",
      "source": [
        "classifier = SVC(kernel = 'rbf', gamma=0.7)\n",
        "classifier.fit(X_train, y_train)"
      ],
      "metadata": {
        "colab": {
          "base_uri": "https://localhost:8080/"
        },
        "id": "YtRgiF_c1e93",
        "outputId": "0acb0f19-2206-4dea-ac8e-8fd91f0a475e"
      },
      "execution_count": 247,
      "outputs": [
        {
          "output_type": "execute_result",
          "data": {
            "text/plain": [
              "SVC(gamma=0.7)"
            ]
          },
          "metadata": {},
          "execution_count": 247
        }
      ]
    },
    {
      "cell_type": "code",
      "source": [
        "# Predicting the Test set results\n",
        "y_prediction = classifier.predict(X_test)"
      ],
      "metadata": {
        "id": "akxd78pV1qDH"
      },
      "execution_count": 251,
      "outputs": []
    },
    {
      "cell_type": "code",
      "source": [
        "# Making the Confusion Matrix\n",
        "from sklearn.metrics import confusion_matrix\n",
        "cm = confusion_matrix(y_test, y_prediction)\\\n"
      ],
      "metadata": {
        "id": "dJb9ogiD1wCg"
      },
      "execution_count": 252,
      "outputs": []
    },
    {
      "cell_type": "code",
      "source": [
        "accuracy=accuracy_score(y_test,y_prediction)"
      ],
      "metadata": {
        "id": "LYoa4QNM1ySt"
      },
      "execution_count": 255,
      "outputs": []
    },
    {
      "cell_type": "code",
      "source": [
        "accuracy"
      ],
      "metadata": {
        "colab": {
          "base_uri": "https://localhost:8080/"
        },
        "id": "A6X8NMk418gl",
        "outputId": "1291cd65-5935-4565-8a9d-6ea90aecaaaa"
      },
      "execution_count": 256,
      "outputs": [
        {
          "output_type": "execute_result",
          "data": {
            "text/plain": [
              "0.5652173913043478"
            ]
          },
          "metadata": {},
          "execution_count": 256
        }
      ]
    },
    {
      "cell_type": "markdown",
      "source": [
        "This shows that SVM with rbf kernel is not suitable for the data set"
      ],
      "metadata": {
        "id": "Z0T1WwCt2BqP"
      }
    },
    {
      "cell_type": "markdown",
      "source": [
        "Logistic Regression"
      ],
      "metadata": {
        "id": "bvntwiQD4K3j"
      }
    },
    {
      "cell_type": "code",
      "source": [
        "from sklearn.linear_model import LogisticRegression"
      ],
      "metadata": {
        "id": "U3RQXB_K19WV"
      },
      "execution_count": 257,
      "outputs": []
    },
    {
      "cell_type": "code",
      "source": [
        "logmodel = LogisticRegression()"
      ],
      "metadata": {
        "id": "crcEQJ-N4ZLF"
      },
      "execution_count": 258,
      "outputs": []
    },
    {
      "cell_type": "code",
      "source": [
        "parameters_grid = [\n",
        "    {\n",
        "     'penalty':['l1','l2','eleasticent','none'],\n",
        "     'C': np.logspace(-4,4,20),\n",
        "     'solver': ['lbfgs','newton-cg','liblinear','sag','saga'],\n",
        "     'max_iter': [100,1000,2500,5000]\n",
        "    }\n",
        "]"
      ],
      "metadata": {
        "id": "mLC9NENs4e9D"
      },
      "execution_count": 269,
      "outputs": []
    },
    {
      "cell_type": "code",
      "source": [
        "clf_lin = GridSearchCV(logmodel, param_grid = parameters_grid, cv=3, verbose=True, n_jobs=-1)"
      ],
      "metadata": {
        "id": "J-LY9qAm5R8E"
      },
      "execution_count": 270,
      "outputs": []
    },
    {
      "cell_type": "code",
      "source": [
        "best_clf_lin = clf_lin.fit(X_train,y_train)"
      ],
      "metadata": {
        "colab": {
          "base_uri": "https://localhost:8080/"
        },
        "id": "gRfNi15V6M6e",
        "outputId": "f8b9d692-d930-4822-b6a3-b6e78c9978ec"
      },
      "execution_count": 272,
      "outputs": [
        {
          "output_type": "stream",
          "name": "stdout",
          "text": [
            "Fitting 3 folds for each of 1600 candidates, totalling 4800 fits\n"
          ]
        },
        {
          "output_type": "stream",
          "name": "stderr",
          "text": [
            "/usr/local/lib/python3.7/dist-packages/sklearn/model_selection/_validation.py:372: FitFailedWarning:\n",
            "\n",
            "\n",
            "2160 fits failed out of a total of 4800.\n",
            "The score on these train-test partitions for these parameters will be set to nan.\n",
            "If these failures are not expected, you can try to debug them by setting error_score='raise'.\n",
            "\n",
            "Below are more details about the failures:\n",
            "--------------------------------------------------------------------------------\n",
            "240 fits failed with the following error:\n",
            "Traceback (most recent call last):\n",
            "  File \"/usr/local/lib/python3.7/dist-packages/sklearn/model_selection/_validation.py\", line 680, in _fit_and_score\n",
            "    estimator.fit(X_train, y_train, **fit_params)\n",
            "  File \"/usr/local/lib/python3.7/dist-packages/sklearn/linear_model/_logistic.py\", line 1461, in fit\n",
            "    solver = _check_solver(self.solver, self.penalty, self.dual)\n",
            "  File \"/usr/local/lib/python3.7/dist-packages/sklearn/linear_model/_logistic.py\", line 449, in _check_solver\n",
            "    % (solver, penalty)\n",
            "ValueError: Solver lbfgs supports only 'l2' or 'none' penalties, got l1 penalty.\n",
            "\n",
            "--------------------------------------------------------------------------------\n",
            "240 fits failed with the following error:\n",
            "Traceback (most recent call last):\n",
            "  File \"/usr/local/lib/python3.7/dist-packages/sklearn/model_selection/_validation.py\", line 680, in _fit_and_score\n",
            "    estimator.fit(X_train, y_train, **fit_params)\n",
            "  File \"/usr/local/lib/python3.7/dist-packages/sklearn/linear_model/_logistic.py\", line 1461, in fit\n",
            "    solver = _check_solver(self.solver, self.penalty, self.dual)\n",
            "  File \"/usr/local/lib/python3.7/dist-packages/sklearn/linear_model/_logistic.py\", line 449, in _check_solver\n",
            "    % (solver, penalty)\n",
            "ValueError: Solver newton-cg supports only 'l2' or 'none' penalties, got l1 penalty.\n",
            "\n",
            "--------------------------------------------------------------------------------\n",
            "240 fits failed with the following error:\n",
            "Traceback (most recent call last):\n",
            "  File \"/usr/local/lib/python3.7/dist-packages/sklearn/model_selection/_validation.py\", line 680, in _fit_and_score\n",
            "    estimator.fit(X_train, y_train, **fit_params)\n",
            "  File \"/usr/local/lib/python3.7/dist-packages/sklearn/linear_model/_logistic.py\", line 1461, in fit\n",
            "    solver = _check_solver(self.solver, self.penalty, self.dual)\n",
            "  File \"/usr/local/lib/python3.7/dist-packages/sklearn/linear_model/_logistic.py\", line 449, in _check_solver\n",
            "    % (solver, penalty)\n",
            "ValueError: Solver sag supports only 'l2' or 'none' penalties, got l1 penalty.\n",
            "\n",
            "--------------------------------------------------------------------------------\n",
            "1200 fits failed with the following error:\n",
            "Traceback (most recent call last):\n",
            "  File \"/usr/local/lib/python3.7/dist-packages/sklearn/model_selection/_validation.py\", line 680, in _fit_and_score\n",
            "    estimator.fit(X_train, y_train, **fit_params)\n",
            "  File \"/usr/local/lib/python3.7/dist-packages/sklearn/linear_model/_logistic.py\", line 1461, in fit\n",
            "    solver = _check_solver(self.solver, self.penalty, self.dual)\n",
            "  File \"/usr/local/lib/python3.7/dist-packages/sklearn/linear_model/_logistic.py\", line 443, in _check_solver\n",
            "    % (all_penalties, penalty)\n",
            "ValueError: Logistic Regression supports only penalties in ['l1', 'l2', 'elasticnet', 'none'], got eleasticent.\n",
            "\n",
            "--------------------------------------------------------------------------------\n",
            "240 fits failed with the following error:\n",
            "Traceback (most recent call last):\n",
            "  File \"/usr/local/lib/python3.7/dist-packages/sklearn/model_selection/_validation.py\", line 680, in _fit_and_score\n",
            "    estimator.fit(X_train, y_train, **fit_params)\n",
            "  File \"/usr/local/lib/python3.7/dist-packages/sklearn/linear_model/_logistic.py\", line 1461, in fit\n",
            "    solver = _check_solver(self.solver, self.penalty, self.dual)\n",
            "  File \"/usr/local/lib/python3.7/dist-packages/sklearn/linear_model/_logistic.py\", line 464, in _check_solver\n",
            "    raise ValueError(\"penalty='none' is not supported for the liblinear solver\")\n",
            "ValueError: penalty='none' is not supported for the liblinear solver\n",
            "\n",
            "\n",
            "/usr/local/lib/python3.7/dist-packages/sklearn/model_selection/_search.py:972: UserWarning:\n",
            "\n",
            "One or more of the test scores are non-finite: [       nan        nan 0.55152979 ...        nan 0.88985507 0.89726248]\n",
            "\n"
          ]
        }
      ]
    },
    {
      "cell_type": "code",
      "source": [
        "best_clf_lin.best_estimator_"
      ],
      "metadata": {
        "colab": {
          "base_uri": "https://localhost:8080/"
        },
        "id": "XVafNASZ6SnP",
        "outputId": "a907c290-c2eb-4185-93f9-9aff12d18f94"
      },
      "execution_count": 273,
      "outputs": [
        {
          "output_type": "execute_result",
          "data": {
            "text/plain": [
              "LogisticRegression(C=1.623776739188721, penalty='l1', solver='liblinear')"
            ]
          },
          "metadata": {},
          "execution_count": 273
        }
      ]
    },
    {
      "cell_type": "code",
      "source": [
        "print(f' Accuracy - : {best_clf_lin.score(X_train,y_train):.3f}')"
      ],
      "metadata": {
        "colab": {
          "base_uri": "https://localhost:8080/"
        },
        "id": "WTQMKtcU79iC",
        "outputId": "b0fd9321-2519-49db-c517-d0c8c9f9cc09"
      },
      "execution_count": 274,
      "outputs": [
        {
          "output_type": "stream",
          "name": "stdout",
          "text": [
            " Accuracy - : 1.000\n"
          ]
        }
      ]
    },
    {
      "cell_type": "code",
      "source": [
        ""
      ],
      "metadata": {
        "id": "faaHYiQH8pO_"
      },
      "execution_count": null,
      "outputs": []
    }
  ]
}